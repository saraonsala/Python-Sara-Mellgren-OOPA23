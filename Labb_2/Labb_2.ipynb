{
 "cells": [
  {
   "cell_type": "markdown",
   "metadata": {},
   "source": [
    "## Sara nr labb 2"
   ]
  },
  {
   "cell_type": "code",
   "execution_count": 566,
   "metadata": {},
   "outputs": [],
   "source": [
    "import pandas as pd\n",
    "import numpy as np\n",
    "import matplotlib.pyplot as plt\n",
    "import matplotlib as mpl\n",
    "import seaborn as sns\n",
    "import seaborn.objects as so\n",
    "import chart_studio.plotly as py\n",
    "import plotly.graph_objects as go\n",
    "import chart_studio as cs\n",
    "\n",
    "import matplotlib.pyplot as plt\n",
    "import mplcursors\n",
    "\n",
    "import plotly_express as px\n",
    "\n",
    "import os\n",
    "cs.tools.set_credentials_file(username='Sara_Mellgren', api_key='dpvja4uzxx')\n",
    "from pandas import DataFrame\n",
    "na_filter=False # Filter detect missing value markers\n",
    "\n"
   ]
  },
  {
   "cell_type": "markdown",
   "metadata": {},
   "source": [
    "* Start by reading the file riket2023_åk9_np.xlsx and sheets for the various subjects. Change the column names on\n",
    "* respective dataframe and cleaning from null. The info i find i LP\n"
   ]
  },
  {
   "cell_type": "code",
   "execution_count": 567,
   "metadata": {},
   "outputs": [
    {
     "data": {
      "text/html": [
       "<div>\n",
       "<style scoped>\n",
       "    .dataframe tbody tr th:only-of-type {\n",
       "        vertical-align: middle;\n",
       "    }\n",
       "\n",
       "    .dataframe tbody tr th {\n",
       "        vertical-align: top;\n",
       "    }\n",
       "\n",
       "    .dataframe thead th {\n",
       "        text-align: right;\n",
       "    }\n",
       "</style>\n",
       "<table border=\"1\" class=\"dataframe\">\n",
       "  <thead>\n",
       "    <tr style=\"text-align: right;\">\n",
       "      <th></th>\n",
       "      <th>plats</th>\n",
       "      <th>Huvudman</th>\n",
       "      <th>Totalt (A-F)</th>\n",
       "      <th>Flickor (A-F)</th>\n",
       "      <th>Pojkar (A-F)</th>\n",
       "      <th>Totalt (A-E)</th>\n",
       "      <th>Flickor (A-E)</th>\n",
       "      <th>Pojkar (A-E)</th>\n",
       "      <th>Totalt (poäng)</th>\n",
       "      <th>Flickor (poäng)</th>\n",
       "      <th>Pojkar (poäng)</th>\n",
       "    </tr>\n",
       "  </thead>\n",
       "  <tbody>\n",
       "    <tr>\n",
       "      <th>7</th>\n",
       "      <td>Riket</td>\n",
       "      <td>Typ av huvudman</td>\n",
       "      <td>Totalt</td>\n",
       "      <td>Flickor</td>\n",
       "      <td>Pojkar</td>\n",
       "      <td>Totalt</td>\n",
       "      <td>Flickor</td>\n",
       "      <td>Pojkar</td>\n",
       "      <td>Totalt</td>\n",
       "      <td>Flickor</td>\n",
       "      <td>Pojkar</td>\n",
       "    </tr>\n",
       "    <tr>\n",
       "      <th>8</th>\n",
       "      <td>Riket</td>\n",
       "      <td>Samtliga</td>\n",
       "      <td>106766</td>\n",
       "      <td>51548</td>\n",
       "      <td>55218</td>\n",
       "      <td>89.1</td>\n",
       "      <td>88.7</td>\n",
       "      <td>89.5</td>\n",
       "      <td>11.9</td>\n",
       "      <td>11.8</td>\n",
       "      <td>12</td>\n",
       "    </tr>\n",
       "    <tr>\n",
       "      <th>9</th>\n",
       "      <td>Riket</td>\n",
       "      <td>Kommunal</td>\n",
       "      <td>84163</td>\n",
       "      <td>40386</td>\n",
       "      <td>43777</td>\n",
       "      <td>88.1</td>\n",
       "      <td>87.7</td>\n",
       "      <td>88.5</td>\n",
       "      <td>11.6</td>\n",
       "      <td>11.5</td>\n",
       "      <td>11.7</td>\n",
       "    </tr>\n",
       "    <tr>\n",
       "      <th>10</th>\n",
       "      <td>Riket</td>\n",
       "      <td>Enskild</td>\n",
       "      <td>22553</td>\n",
       "      <td>11137</td>\n",
       "      <td>11416</td>\n",
       "      <td>92.9</td>\n",
       "      <td>92.2</td>\n",
       "      <td>93.5</td>\n",
       "      <td>13</td>\n",
       "      <td>12.8</td>\n",
       "      <td>13.1</td>\n",
       "    </tr>\n",
       "    <tr>\n",
       "      <th>11</th>\n",
       "      <td>Riket</td>\n",
       "      <td>Skolverket</td>\n",
       "      <td>50</td>\n",
       "      <td>25</td>\n",
       "      <td>25</td>\n",
       "      <td>~100</td>\n",
       "      <td>~100</td>\n",
       "      <td>~100</td>\n",
       "      <td>14.1</td>\n",
       "      <td>13.5</td>\n",
       "      <td>14.7</td>\n",
       "    </tr>\n",
       "  </tbody>\n",
       "</table>\n",
       "</div>"
      ],
      "text/plain": [
       "    plats         Huvudman Totalt (A-F) Flickor (A-F) Pojkar (A-F)  \\\n",
       "7   Riket  Typ av huvudman       Totalt       Flickor       Pojkar   \n",
       "8   Riket         Samtliga       106766         51548        55218   \n",
       "9   Riket         Kommunal        84163         40386        43777   \n",
       "10  Riket          Enskild        22553         11137        11416   \n",
       "11  Riket       Skolverket           50            25           25   \n",
       "\n",
       "   Totalt (A-E) Flickor (A-E) Pojkar (A-E) Totalt (poäng) Flickor (poäng)  \\\n",
       "7       Totalt       Flickor       Pojkar        Totalt         Flickor     \n",
       "8          89.1          88.7         89.5           11.9            11.8   \n",
       "9          88.1          87.7         88.5           11.6            11.5   \n",
       "10         92.9          92.2         93.5             13            12.8   \n",
       "11         ~100          ~100         ~100           14.1            13.5   \n",
       "\n",
       "   Pojkar (poäng)  \n",
       "7        Pojkar    \n",
       "8              12  \n",
       "9            11.7  \n",
       "10           13.1  \n",
       "11           14.7  "
      ]
     },
     "execution_count": 567,
     "metadata": {},
     "output_type": "execute_result"
    }
   ],
   "source": [
    "class DataReader:\n",
    "    def __init__(self, file_path):\n",
    "        self.file_path = file_path\n",
    "\n",
    "    def read_data(self, sheet_name):\n",
    "        df = pd.read_excel(self.file_path, sheet_name=sheet_name)\n",
    "        df.columns = [\"plats\", \"Huvudman\", \"Totalt (A-F)\", \"Flickor (A-F)\", \"Pojkar (A-F)\", \n",
    "                      \"Totalt (A-E)\", \"Flickor (A-E)\", \"Pojkar (A-E)\", \"Totalt (poäng)\", \n",
    "                      \"Flickor (poäng)\", \"Pojkar (poäng)\"]\n",
    "        df = df.dropna()\n",
    "        return df\n",
    "\n",
    "# Skapa en instans av DataReader-klassen med filvägen till Excel-filen\n",
    "data_reader = DataReader(\"riket2023_åk9_np.xlsx\")\n",
    "\n",
    "# Använd metoden för att läsa in data från olika ark\n",
    "df_matematik = data_reader.read_data(\"Matematik\")\n",
    "df_engelska = data_reader.read_data(\"Engelska\")\n",
    "df_svenska = data_reader.read_data(\"Svenska\")\n",
    "df_svenska_som_andraspråk = data_reader.read_data(\"Svenska som andraspråk\")   \n",
    "df_matematik"
   ]
  },
  {
   "cell_type": "markdown",
   "metadata": {},
   "source": [
    " Get the number of student who got F in math"
   ]
  },
  {
   "cell_type": "markdown",
   "metadata": {},
   "source": [
    "* Find out the total number of F's in math, boys and girls respectively."
   ]
  },
  {
   "cell_type": "markdown",
   "metadata": {},
   "source": [
    "I learned how important it is to keep track of the correct index in order to calculate the correct value. I learned a lot from this website.https://pandas.pydata.org/docs/user_guide/indexing.html#looking-up-values-by-index-column-labels"
   ]
  },
  {
   "cell_type": "code",
   "execution_count": 568,
   "metadata": {},
   "outputs": [
    {
     "name": "stdout",
     "output_type": "stream",
     "text": [
      "Totalt antal flickor som fick F var: 5825\n",
      "Totalt antal pojkar som fick F var: 5798\n",
      "Totalt antal elever som fick F var: 11623\n"
     ]
    }
   ],
   "source": [
    "# Beräkna antalet flickor och pojkar som fått F i matematik \n",
    "flickor_f_matematik = df_matematik.iloc[1][\"Flickor (A-F)\"]-round(df_matematik.iloc[1][\"Flickor (A-F)\"] * df_matematik.iloc[1][\"Flickor (A-E)\"]/100) \n",
    "\n",
    "#pojkar som har fått F i matematik\n",
    "pojkar_f_matematik = df_matematik.iloc[1][\"Pojkar (A-F)\"] - round(df_matematik.iloc[1][\"Pojkar (A-E)\"] * df_matematik.iloc[1][\"Pojkar (A-F)\"]/100) \n",
    "\n",
    "#totalt antal elever som fick F\n",
    "totalt_f_matematik = round(flickor_f_matematik + pojkar_f_matematik)\n",
    "\n",
    "print(f\"Totalt antal flickor som fick F var: {flickor_f_matematik}\")\n",
    "print(f\"Totalt antal pojkar som fick F var: {pojkar_f_matematik}\")\n",
    "print(f\"Totalt antal elever som fick F var: {totalt_f_matematik}\")"
   ]
  },
  {
   "cell_type": "code",
   "execution_count": 569,
   "metadata": {},
   "outputs": [
    {
     "data": {
      "image/png": "[encoded data removed]",
      "text/plain": [
       "<Figure size 800x600 with 1 Axes>"
      ]
     },
     "metadata": {},
     "output_type": "display_data"
    }
   ],
   "source": [
    "#Stapeldiagram för elever som fick F i Matematik\n",
    "data = {\n",
    "    \"Kategori\": [\"Flickor\", \"Pojkar\", \"Totalt\"],\n",
    "    \"Antal\": [flickor_f_matematik, pojkar_f_matematik, totalt_f_matematik]\n",
    "}\n",
    "df_visualisering = pd.DataFrame(data)\n",
    "\n",
    "# Skapa ett barplot med Seaborn\n",
    "plt.figure(figsize=(8, 6))\n",
    "sns.barplot(x=\"Kategori\", y=\"Antal\", data=df_visualisering, hue=\"Kategori\", palette=\"viridis\", legend=False)\n",
    "plt.title(\"Antal elever som har fått betyget F i matematik\")\n",
    "plt.xlabel(\"Kategori\")\n",
    "plt.ylabel(\"Antal elever\")\n",
    "plt.savefig('visualiseringar/antal_elever_med_f_i_betyg.png')\n",
    "plt.show()"
   ]
  },
  {
   "cell_type": "markdown",
   "metadata": {},
   "source": [
    "Draw a bar graph of the total points for the different subjects."
   ]
  },
  {
   "cell_type": "markdown",
   "metadata": {},
   "source": [
    "# Skapa grafer för varje enskild huvudman "
   ]
  },
  {
   "cell_type": "markdown",
   "metadata": {},
   "source": [
    "Jag insåg att när jag skapade beräkningen för skolverket poäng så fick jag felmedelande för att \"..\" och \"~\" finns med i beräkningen på svenska som andra spårk. Så jag skapar en metod för att omvandla \"..\" och \"~\" till 0  "
   ]
  },
  {
   "cell_type": "code",
   "execution_count": 570,
   "metadata": {},
   "outputs": [],
   "source": [
    "# Ersätt \"..\" och \"~\" med 0 i varje DataFrame\n",
    "df_engelska.replace({\"..\": 0, \"~\": 0}, inplace=True)\n",
    "df_matematik.replace({\"..\": 0, \"~\": 0}, inplace=True)\n",
    "df_svenska.replace({\"..\": 0, \"~\": 0}, inplace=True)\n",
    "df_svenska_som_andraspråk.replace({\"..\": 0, \"~\": 0}, inplace=True)"
   ]
  },
  {
   "cell_type": "markdown",
   "metadata": {},
   "source": [
    "Titel: Betygsgenomsnittspoäng per huvudman. Jag lägger ihop de olika betygspoängen för att kunna skapa en graf. "
   ]
  },
  {
   "cell_type": "code",
   "execution_count": 571,
   "metadata": {},
   "outputs": [
    {
     "data": {
      "image/png": "[encoded data removed]",
      "text/plain": [
       "<Figure size 1400x1000 with 4 Axes>"
      ]
     },
     "metadata": {},
     "output_type": "display_data"
    }
   ],
   "source": [
    "# Lista med ämnen\n",
    "ämnen = [\"Engelska\", \"Matematik\", \"Svenska\", \"Svenska som andraspråk\"]\n",
    "\n",
    "# Ersätt \"..\" och \"~\" med 0 i varje DataFrame\n",
    "df_engelska.replace({\"..\": 0, \"~\": 0}, inplace=True)\n",
    "df_matematik.replace({\"..\": 0, \"~\": 0}, inplace=True)\n",
    "df_svenska.replace({\"..\": 0, \"~\": 0}, inplace=True)\n",
    "df_svenska_som_andraspråk.replace({\"..\": 0, \"~\": 0}, inplace=True)\n",
    "\n",
    "# Beräkna totalpoäng för varje ämne och huvudman separat\n",
    "engelska_poäng = [\n",
    "    df_engelska.iloc[1][\"Totalt (poäng)\"],\n",
    "    df_engelska.iloc[2][\"Totalt (poäng)\"],\n",
    "    df_engelska.iloc[3][\"Totalt (poäng)\"],\n",
    "    df_engelska.iloc[4][\"Totalt (poäng)\"]\n",
    "]\n",
    "\n",
    "matematik_poäng = [\n",
    "    df_matematik.iloc[1][\"Totalt (poäng)\"],\n",
    "    df_matematik.iloc[2][\"Totalt (poäng)\"],\n",
    "    df_matematik.iloc[3][\"Totalt (poäng)\"],\n",
    "    df_matematik.iloc[4][\"Totalt (poäng)\"]\n",
    "]\n",
    "\n",
    "svenska_poäng = [\n",
    "    df_svenska.iloc[1][\"Totalt (poäng)\"],\n",
    "    df_svenska.iloc[2][\"Totalt (poäng)\"],\n",
    "    df_svenska.iloc[3][\"Totalt (poäng)\"],\n",
    "    df_svenska.iloc[4][\"Totalt (poäng)\"]\n",
    "]\n",
    "\n",
    "svenska_som_andraspråk_poäng = [\n",
    "    df_svenska_som_andraspråk.iloc[1][\"Totalt (poäng)\"],\n",
    "    df_svenska_som_andraspråk.iloc[2][\"Totalt (poäng)\"],\n",
    "    df_svenska_som_andraspråk.iloc[3][\"Totalt (poäng)\"],\n",
    "    df_svenska_som_andraspråk.iloc[4][\"Totalt (poäng)\"]\n",
    "]\n",
    "\n",
    "# Skapa subplotfigur med 2 rader och 2 kolumner\n",
    "fig, axes = plt.subplots(2, 2, figsize=(14, 10))\n",
    "\n",
    "# Justera titeln på hela figuren\n",
    "fig.suptitle(\"Total poäng i varje ämne, per huvudman\", fontsize=16, y=1.02)\n",
    "\n",
    "x = np.arange(len(ämnen))  # Skapa en serie av index för varje ämne\n",
    "\n",
    "# Färger för staplarna\n",
    "colors = [(0.2, 0.4, 0.6), (0.7, 0.3, 0.2), (0.5, 0.7, 0.3), (0.8, 0.5, 0.9)]\n",
    "                      \n",
    "# Rita stapeldiagram för varje ämne\n",
    "for i, ax in enumerate(axes.flat):\n",
    "    # Hämta respektive ämnes poäng\n",
    "    poäng = [engelska_poäng[i], matematik_poäng[i], svenska_poäng[i], svenska_som_andraspråk_poäng[i]]\n",
    "    bars = ax.bar(x, poäng, color=colors[i])\n",
    "    ax.set_title(\"Total poäng för {}\".format(ämnen[i]), fontsize=14)\n",
    "    ax.set_xticks(x)\n",
    "    ax.set_xticklabels([\"Kommunal\", \"Enskilda\", \"Samtliga\", \"Skolverket\"], fontsize=12, rotation=45)  # Använd huvudmännen som etiketter på x-axeln och rotera dem med 45 grader\n",
    "    ax.set_ylabel(\"Total poäng\", fontsize=12)\n",
    "    ax.grid(axis='y', linestyle='--', alpha=0.7)  # Lägg till ett strecklat rutnät på y-axeln\n",
    "\n",
    "    # Lägg till etiketter på staplarna\n",
    "    ax.bar_label(bars, fontsize=10, fmt='%d')\n",
    "\n",
    "    # Anslut staplarna till mplcursors\n",
    "    mplcursors.cursor(bars, hover=True).connect(\"add\", lambda sel: sel.annotation.set_text(sel.artist.get_label()))\n",
    "\n",
    "plt.tight_layout()\n",
    "\n",
    "# Spara figuren som en bild i mappen \"visualiseringar\"\n",
    "plt.savefig('visualiseringar/total_poäng_per_ämne.png')\n",
    "plt.show()\n"
   ]
  },
  {
   "cell_type": "markdown",
   "metadata": {},
   "source": [
    "Uppgift 1 - uppvärmning betyg och prov /n\n",
    "I uppgifterna nedan ska du använda dig av datasetet betyg_o_prov_riksnivå.xlsx. Använd Plotly för att rita diagrammen\n",
    "nedan för de uppgifter som kräver diagram. Använd Pandas för att svara på frågor om datasetet.\n",
    "a) Rita ett linjediagram för andel elever som saknar godkänt betyg i ett eller fler ämnen för läsår 18-23. Ta med totalt,\n",
    "flickor och pojkar i samma graf.\n",
    "\n",
    "2 / 2\n",
    "b) Rita ett linjediagram för meritvärde för 16 ämnen för totalt, flickor och pojkar för läsår 18-23.\n",
    "c) Undersök nu andra variabler, och hur de påverkar meritvärde och andel med minst ett saknat betyg. Data finns för\n",
    "läsår 22/23. Exempel kan man undersöka föräldrarnas utbildningsbakgrund. Rita lämpliga grafer."
   ]
  },
  {
   "cell_type": "code",
   "execution_count": 572,
   "metadata": {},
   "outputs": [
    {
     "data": {
      "application/vnd.plotly.v1+json": {
       "config": {
        "plotlyServerURL": "https://plotly.com"
       },
       "data": [
        {
         "hovertemplate": "<extra></extra>",
         "legendgroup": "",
         "line": {
          "color": "#636efa",
          "dash": "solid"
         },
         "marker": {
          "symbol": "circle"
         },
         "mode": "lines",
         "name": "",
         "orientation": "v",
         "showlegend": false,
         "type": "scatter",
         "xaxis": "x",
         "yaxis": "y"
        },
        {
         "mode": "lines",
         "name": "Total",
         "type": "scatter",
         "x": [
          "2018/19",
          "2019/20",
          "2020/21",
          "2021/22",
          "2022/23"
         ],
         "y": [
          24.5,
          23.9,
          23.9,
          25.9,
          26.8
         ]
        },
        {
         "mode": "lines",
         "name": "Flickor",
         "type": "scatter",
         "x": [
          "2018/19",
          "2019/20",
          "2020/21",
          "2021/22",
          "2022/23"
         ],
         "y": [
          21.7,
          21.4,
          21.9,
          24.2,
          25.5
         ]
        },
        {
         "mode": "lines",
         "name": "Pojkar",
         "type": "scatter",
         "x": [
          "2018/19",
          "2019/20",
          "2020/21",
          "2021/22",
          "2022/23"
         ],
         "y": [
          27.2,
          26.3,
          25.9,
          27.5,
          28
         ]
        }
       ],
       "layout": {
        "legend": {
         "tracegroupgap": 0
        },
        "template": {
         "data": {
          "bar": [
           {
            "error_x": {
             "color": "#2a3f5f"
            },
            "error_y": {
             "color": "#2a3f5f"
            },
            "marker": {
             "line": {
              "color": "#E5ECF6",
              "width": 0.5
             },
             "pattern": {
              "fillmode": "overlay",
              "size": 10,
              "solidity": 0.2
             }
            },
            "type": "bar"
           }
          ],
          "barpolar": [
           {
            "marker": {
             "line": {
              "color": "#E5ECF6",
              "width": 0.5
             },
             "pattern": {
              "fillmode": "overlay",
              "size": 10,
              "solidity": 0.2
             }
            },
            "type": "barpolar"
           }
          ],
          "carpet": [
           {
            "aaxis": {
             "endlinecolor": "#2a3f5f",
             "gridcolor": "white",
             "linecolor": "white",
             "minorgridcolor": "white",
             "startlinecolor": "#2a3f5f"
            },
            "baxis": {
             "endlinecolor": "#2a3f5f",
             "gridcolor": "white",
             "linecolor": "white",
             "minorgridcolor": "white",
             "startlinecolor": "#2a3f5f"
            },
            "type": "carpet"
           }
          ],
          "choropleth": [
           {
            "colorbar": {
             "outlinewidth": 0,
             "ticks": ""
            },
            "type": "choropleth"
           }
          ],
          "contour": [
           {
            "colorbar": {
             "outlinewidth": 0,
             "ticks": ""
            },
            "colorscale": [
             [
              0,
              "#0d0887"
             ],
             [
              0.1111111111111111,
              "#46039f"
             ],
             [
              0.2222222222222222,
              "#7201a8"
             ],
             [
              0.3333333333333333,
              "#9c179e"
             ],
             [
              0.4444444444444444,
              "#bd3786"
             ],
             [
              0.5555555555555556,
              "#d8576b"
             ],
             [
              0.6666666666666666,
              "#ed7953"
             ],
             [
              0.7777777777777778,
              "#fb9f3a"
             ],
             [
              0.8888888888888888,
              "#fdca26"
             ],
             [
              1,
              "#f0f921"
             ]
            ],
            "type": "contour"
           }
          ],
          "contourcarpet": [
           {
            "colorbar": {
             "outlinewidth": 0,
             "ticks": ""
            },
            "type": "contourcarpet"
           }
          ],
          "heatmap": [
           {
            "colorbar": {
             "outlinewidth": 0,
             "ticks": ""
            },
            "colorscale": [
             [
              0,
              "#0d0887"
             ],
             [
              0.1111111111111111,
              "#46039f"
             ],
             [
              0.2222222222222222,
              "#7201a8"
             ],
             [
              0.3333333333333333,
              "#9c179e"
             ],
             [
              0.4444444444444444,
              "#bd3786"
             ],
             [
              0.5555555555555556,
              "#d8576b"
             ],
             [
              0.6666666666666666,
              "#ed7953"
             ],
             [
              0.7777777777777778,
              "#fb9f3a"
             ],
             [
              0.8888888888888888,
              "#fdca26"
             ],
             [
              1,
              "#f0f921"
             ]
            ],
            "type": "heatmap"
           }
          ],
          "heatmapgl": [
           {
            "colorbar": {
             "outlinewidth": 0,
             "ticks": ""
            },
            "colorscale": [
             [
              0,
              "#0d0887"
             ],
             [
              0.1111111111111111,
              "#46039f"
             ],
             [
              0.2222222222222222,
              "#7201a8"
             ],
             [
              0.3333333333333333,
              "#9c179e"
             ],
             [
              0.4444444444444444,
              "#bd3786"
             ],
             [
              0.5555555555555556,
              "#d8576b"
             ],
             [
              0.6666666666666666,
              "#ed7953"
             ],
             [
              0.7777777777777778,
              "#fb9f3a"
             ],
             [
              0.8888888888888888,
              "#fdca26"
             ],
             [
              1,
              "#f0f921"
             ]
            ],
            "type": "heatmapgl"
           }
          ],
          "histogram": [
           {
            "marker": {
             "pattern": {
              "fillmode": "overlay",
              "size": 10,
              "solidity": 0.2
             }
            },
            "type": "histogram"
           }
          ],
          "histogram2d": [
           {
            "colorbar": {
             "outlinewidth": 0,
             "ticks": ""
            },
            "colorscale": [
             [
              0,
              "#0d0887"
             ],
             [
              0.1111111111111111,
              "#46039f"
             ],
             [
              0.2222222222222222,
              "#7201a8"
             ],
             [
              0.3333333333333333,
              "#9c179e"
             ],
             [
              0.4444444444444444,
              "#bd3786"
             ],
             [
              0.5555555555555556,
              "#d8576b"
             ],
             [
              0.6666666666666666,
              "#ed7953"
             ],
             [
              0.7777777777777778,
              "#fb9f3a"
             ],
             [
              0.8888888888888888,
              "#fdca26"
             ],
             [
              1,
              "#f0f921"
             ]
            ],
            "type": "histogram2d"
           }
          ],
          "histogram2dcontour": [
           {
            "colorbar": {
             "outlinewidth": 0,
             "ticks": ""
            },
            "colorscale": [
             [
              0,
              "#0d0887"
             ],
             [
              0.1111111111111111,
              "#46039f"
             ],
             [
              0.2222222222222222,
              "#7201a8"
             ],
             [
              0.3333333333333333,
              "#9c179e"
             ],
             [
              0.4444444444444444,
              "#bd3786"
             ],
             [
              0.5555555555555556,
              "#d8576b"
             ],
             [
              0.6666666666666666,
              "#ed7953"
             ],
             [
              0.7777777777777778,
              "#fb9f3a"
             ],
             [
              0.8888888888888888,
              "#fdca26"
             ],
             [
              1,
              "#f0f921"
             ]
            ],
            "type": "histogram2dcontour"
           }
          ],
          "mesh3d": [
           {
            "colorbar": {
             "outlinewidth": 0,
             "ticks": ""
            },
            "type": "mesh3d"
           }
          ],
          "parcoords": [
           {
            "line": {
             "colorbar": {
              "outlinewidth": 0,
              "ticks": ""
             }
            },
            "type": "parcoords"
           }
          ],
          "pie": [
           {
            "automargin": true,
            "type": "pie"
           }
          ],
          "scatter": [
           {
            "fillpattern": {
             "fillmode": "overlay",
             "size": 10,
             "solidity": 0.2
            },
            "type": "scatter"
           }
          ],
          "scatter3d": [
           {
            "line": {
             "colorbar": {
              "outlinewidth": 0,
              "ticks": ""
             }
            },
            "marker": {
             "colorbar": {
              "outlinewidth": 0,
              "ticks": ""
             }
            },
            "type": "scatter3d"
           }
          ],
          "scattercarpet": [
           {
            "marker": {
             "colorbar": {
              "outlinewidth": 0,
              "ticks": ""
             }
            },
            "type": "scattercarpet"
           }
          ],
          "scattergeo": [
           {
            "marker": {
             "colorbar": {
              "outlinewidth": 0,
              "ticks": ""
             }
            },
            "type": "scattergeo"
           }
          ],
          "scattergl": [
           {
            "marker": {
             "colorbar": {
              "outlinewidth": 0,
              "ticks": ""
             }
            },
            "type": "scattergl"
           }
          ],
          "scattermapbox": [
           {
            "marker": {
             "colorbar": {
              "outlinewidth": 0,
              "ticks": ""
             }
            },
            "type": "scattermapbox"
           }
          ],
          "scatterpolar": [
           {
            "marker": {
             "colorbar": {
              "outlinewidth": 0,
              "ticks": ""
             }
            },
            "type": "scatterpolar"
           }
          ],
          "scatterpolargl": [
           {
            "marker": {
             "colorbar": {
              "outlinewidth": 0,
              "ticks": ""
             }
            },
            "type": "scatterpolargl"
           }
          ],
          "scatterternary": [
           {
            "marker": {
             "colorbar": {
              "outlinewidth": 0,
              "ticks": ""
             }
            },
            "type": "scatterternary"
           }
          ],
          "surface": [
           {
            "colorbar": {
             "outlinewidth": 0,
             "ticks": ""
            },
            "colorscale": [
             [
              0,
              "#0d0887"
             ],
             [
              0.1111111111111111,
              "#46039f"
             ],
             [
              0.2222222222222222,
              "#7201a8"
             ],
             [
              0.3333333333333333,
              "#9c179e"
             ],
             [
              0.4444444444444444,
              "#bd3786"
             ],
             [
              0.5555555555555556,
              "#d8576b"
             ],
             [
              0.6666666666666666,
              "#ed7953"
             ],
             [
              0.7777777777777778,
              "#fb9f3a"
             ],
             [
              0.8888888888888888,
              "#fdca26"
             ],
             [
              1,
              "#f0f921"
             ]
            ],
            "type": "surface"
           }
          ],
          "table": [
           {
            "cells": {
             "fill": {
              "color": "#EBF0F8"
             },
             "line": {
              "color": "white"
             }
            },
            "header": {
             "fill": {
              "color": "#C8D4E3"
             },
             "line": {
              "color": "white"
             }
            },
            "type": "table"
           }
          ]
         },
         "layout": {
          "annotationdefaults": {
           "arrowcolor": "#2a3f5f",
           "arrowhead": 0,
           "arrowwidth": 1
          },
          "autotypenumbers": "strict",
          "coloraxis": {
           "colorbar": {
            "outlinewidth": 0,
            "ticks": ""
           }
          },
          "colorscale": {
           "diverging": [
            [
             0,
             "#8e0152"
            ],
            [
             0.1,
             "#c51b7d"
            ],
            [
             0.2,
             "#de77ae"
            ],
            [
             0.3,
             "#f1b6da"
            ],
            [
             0.4,
             "#fde0ef"
            ],
            [
             0.5,
             "#f7f7f7"
            ],
            [
             0.6,
             "#e6f5d0"
            ],
            [
             0.7,
             "#b8e186"
            ],
            [
             0.8,
             "#7fbc41"
            ],
            [
             0.9,
             "#4d9221"
            ],
            [
             1,
             "#276419"
            ]
           ],
           "sequential": [
            [
             0,
             "#0d0887"
            ],
            [
             0.1111111111111111,
             "#46039f"
            ],
            [
             0.2222222222222222,
             "#7201a8"
            ],
            [
             0.3333333333333333,
             "#9c179e"
            ],
            [
             0.4444444444444444,
             "#bd3786"
            ],
            [
             0.5555555555555556,
             "#d8576b"
            ],
            [
             0.6666666666666666,
             "#ed7953"
            ],
            [
             0.7777777777777778,
             "#fb9f3a"
            ],
            [
             0.8888888888888888,
             "#fdca26"
            ],
            [
             1,
             "#f0f921"
            ]
           ],
           "sequentialminus": [
            [
             0,
             "#0d0887"
            ],
            [
             0.1111111111111111,
             "#46039f"
            ],
            [
             0.2222222222222222,
             "#7201a8"
            ],
            [
             0.3333333333333333,
             "#9c179e"
            ],
            [
             0.4444444444444444,
             "#bd3786"
            ],
            [
             0.5555555555555556,
             "#d8576b"
            ],
            [
             0.6666666666666666,
             "#ed7953"
            ],
            [
             0.7777777777777778,
             "#fb9f3a"
            ],
            [
             0.8888888888888888,
             "#fdca26"
            ],
            [
             1,
             "#f0f921"
            ]
           ]
          },
          "colorway": [
           "#636efa",
           "#EF553B",
           "#00cc96",
           "#ab63fa",
           "#FFA15A",
           "#19d3f3",
           "#FF6692",
           "#B6E880",
           "#FF97FF",
           "#FECB52"
          ],
          "font": {
           "color": "#2a3f5f"
          },
          "geo": {
           "bgcolor": "white",
           "lakecolor": "white",
           "landcolor": "#E5ECF6",
           "showlakes": true,
           "showland": true,
           "subunitcolor": "white"
          },
          "hoverlabel": {
           "align": "left"
          },
          "hovermode": "closest",
          "mapbox": {
           "style": "light"
          },
          "paper_bgcolor": "white",
          "plot_bgcolor": "#E5ECF6",
          "polar": {
           "angularaxis": {
            "gridcolor": "white",
            "linecolor": "white",
            "ticks": ""
           },
           "bgcolor": "#E5ECF6",
           "radialaxis": {
            "gridcolor": "white",
            "linecolor": "white",
            "ticks": ""
           }
          },
          "scene": {
           "xaxis": {
            "backgroundcolor": "#E5ECF6",
            "gridcolor": "white",
            "gridwidth": 2,
            "linecolor": "white",
            "showbackground": true,
            "ticks": "",
            "zerolinecolor": "white"
           },
           "yaxis": {
            "backgroundcolor": "#E5ECF6",
            "gridcolor": "white",
            "gridwidth": 2,
            "linecolor": "white",
            "showbackground": true,
            "ticks": "",
            "zerolinecolor": "white"
           },
           "zaxis": {
            "backgroundcolor": "#E5ECF6",
            "gridcolor": "white",
            "gridwidth": 2,
            "linecolor": "white",
            "showbackground": true,
            "ticks": "",
            "zerolinecolor": "white"
           }
          },
          "shapedefaults": {
           "line": {
            "color": "#2a3f5f"
           }
          },
          "ternary": {
           "aaxis": {
            "gridcolor": "white",
            "linecolor": "white",
            "ticks": ""
           },
           "baxis": {
            "gridcolor": "white",
            "linecolor": "white",
            "ticks": ""
           },
           "bgcolor": "#E5ECF6",
           "caxis": {
            "gridcolor": "white",
            "linecolor": "white",
            "ticks": ""
           }
          },
          "title": {
           "x": 0.05
          },
          "xaxis": {
           "automargin": true,
           "gridcolor": "white",
           "linecolor": "white",
           "ticks": "",
           "title": {
            "standoff": 15
           },
           "zerolinecolor": "white",
           "zerolinewidth": 2
          },
          "yaxis": {
           "automargin": true,
           "gridcolor": "white",
           "linecolor": "white",
           "ticks": "",
           "title": {
            "standoff": 15
           },
           "zerolinecolor": "white",
           "zerolinewidth": 2
          }
         }
        },
        "title": {
         "text": "Andel (%) elever som saknar godkänt betyg i ett, flera eller alla ämnen (Totalt, Flickor, Pojkar)"
        },
        "xaxis": {
         "anchor": "y",
         "domain": [
          0,
          1
         ]
        },
        "yaxis": {
         "anchor": "x",
         "domain": [
          0,
          1
         ]
        }
       }
      }
     },
     "metadata": {},
     "output_type": "display_data"
    }
   ],
   "source": [
    "class DataReader:\n",
    "    def __init__(self, file_path):\n",
    "        self.file_path = file_path\n",
    "\n",
    "    def read_data(self, sheet_name):\n",
    "        df = pd.read_excel(self.file_path, sheet_name=sheet_name)\n",
    "        df = df.dropna()\n",
    "        return df\n",
    "    \n",
    "# Skapa en instans av DataReader-klassen med filvägen till Excel-filen\n",
    "data_reader = DataReader(\"betyg_o_prov_riksnivå.xlsx\")\n",
    "\n",
    "# Använd metoden för att läsa in data från Tabell 1B\n",
    "df_Tabell_1B = data_reader.read_data(\"Tabell 1B\")\n",
    "\n",
    "# Välj rätt rader och kolumner för totalt, flickor och pojkar för läsår 18-23\n",
    "selected_data_totalt = df_Tabell_1B.iloc[0:5, [0, 7]]  # Rader 0:5, Kolumn 1 (Totalt)\n",
    "selected_data_flickor = df_Tabell_1B.iloc[0:5, [0, 8]]  # Rader 0:5, Kolumn 2 (Flickor)\n",
    "selected_data_pojkar = df_Tabell_1B.iloc[0:5, [0, 9]]  # Rader 0:5, Kolumn 3 (Pojkar)\n",
    "\n",
    "# Byt namn på kolumnerna för att de ska matcha i samma DataFrame\n",
    "selected_data_totalt = selected_data_totalt.rename(columns={selected_data_totalt.columns[0]: 'Läsår', selected_data_totalt.columns[1]: 'Andel (%) elever som saknar godkänt betyg (Totalt)'})\n",
    "selected_data_flickor = selected_data_flickor.rename(columns={selected_data_flickor.columns[0]: 'Läsår', selected_data_flickor.columns[1]: 'Andel (%) elever som saknar godkänt betyg (Flickor)'})\n",
    "selected_data_pojkar = selected_data_pojkar.rename(columns={selected_data_pojkar.columns[0]: 'Läsår', selected_data_pojkar.columns[1]: 'Andel (%) elever som saknar godkänt betyg (Pojkar)'})\n",
    "\n",
    "# Plotta linjediagrammet med alla tre värden\n",
    "fig = px.line(title='Andel (%) elever som saknar godkänt betyg i ett, flera eller alla ämnen (Totalt, Flickor, Pojkar)')\n",
    "fig.add_scatter(x=selected_data_totalt['Läsår'], y=selected_data_totalt['Andel (%) elever som saknar godkänt betyg (Totalt)'], mode='lines', name='Total')\n",
    "fig.add_scatter(x=selected_data_flickor['Läsår'], y=selected_data_flickor['Andel (%) elever som saknar godkänt betyg (Flickor)'], mode='lines', name='Flickor')\n",
    "fig.add_scatter(x=selected_data_pojkar['Läsår'], y=selected_data_pojkar['Andel (%) elever som saknar godkänt betyg (Pojkar)'], mode='lines', name='Pojkar')\n",
    "fig.write_html('visualiseringar/Andel_elever_med_ofullständigt_betyg.html')\n",
    "fig.show()"
   ]
  }
 ],
 "metadata": {
  "kernelspec": {
   "display_name": "venv",
   "language": "python",
   "name": "python3"
  },
  "language_info": {
   "codemirror_mode": {
    "name": "ipython",
    "version": 3
   },
   "file_extension": ".py",
   "mimetype": "text/x-python",
   "name": "python",
   "nbconvert_exporter": "python",
   "pygments_lexer": "ipython3",
   "version": "3.11.7"
  }
 },
 "nbformat": 4,
 "nbformat_minor": 2
}
