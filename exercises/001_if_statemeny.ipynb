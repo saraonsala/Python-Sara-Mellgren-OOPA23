{
 "cells": [
  {
   "cell_type": "code",
   "execution_count": 1,
   "metadata": {},
   "outputs": [
    {
     "name": "stdout",
     "output_type": "stream",
     "text": [
      "Both numbers are equal.\n"
     ]
    }
   ],
   "source": [
    "try:\n",
    "    num1 = int(input(f\"enter two numbers and I'll tell you which one is bigger: \"))\n",
    "    num2 = int(input(f\"And now the seccond number: \"))\n",
    "\n",
    "    if num1 < num2:\n",
    "        print(\"The smallest number is:\",num2 )\n",
    "    elif num1 > num2 :\n",
    "        print(\" The smallest number is:\",num1)\n",
    "    else:\n",
    "        print (\"Both numbers are equal.\")\n",
    "\n",
    "except ValueError:\n",
    "    print(\"Invalid entry. Please enter a valid number.\")"
   ]
  },
  {
   "cell_type": "code",
   "execution_count": 1,
   "metadata": {},
   "outputs": [
    {
     "name": "stdout",
     "output_type": "stream",
     "text": [
      "You have a perfect triangle.\n"
     ]
    }
   ],
   "source": [
    "\n",
    "angle1 = float(input(f\"Enter the first angel: \"))\n",
    "angle2 = float(input(f\"Enter the second angel: \"))\n",
    "angle3 = float(input(f\"Enter the third angel: \"))\n",
    "\n",
    "# Check if all three angels are valid \n",
    "if angle1 + angle2 + angle3 != 180 :\n",
    "    print(\"These angels do not form a valid triangle.\")\n",
    "elif angle1 + angle2 + angle3 == 180:\n",
    "    print(\"You have a perfect triangle.\")\n",
    "else: \n",
    "    print(\"The triangle dose not have a right angel\")\n"
   ]
  },
  {
   "cell_type": "code",
   "execution_count": null,
   "metadata": {},
   "outputs": [],
   "source": [
    "age = print (input(f\"Welcome to Saras med medinfo, pleas input  {age} + {weight}\")"
   ]
  }
 ],
 "metadata": {
  "kernelspec": {
   "display_name": "venv",
   "language": "python",
   "name": "python3"
  },
  "language_info": {
   "codemirror_mode": {
    "name": "ipython",
    "version": 3
   },
   "file_extension": ".py",
   "mimetype": "text/x-python",
   "name": "python",
   "nbconvert_exporter": "python",
   "pygments_lexer": "ipython3",
   "version": "3.11.7"
  }
 },
 "nbformat": 4,
 "nbformat_minor": 2
}
