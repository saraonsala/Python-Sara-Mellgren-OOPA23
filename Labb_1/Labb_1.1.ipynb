{
 "cells": [
  {
   "cell_type": "markdown",
   "metadata": {},
   "source": [
    "## Saras labb 1.1 "
   ]
  },
  {
   "cell_type": "code",
   "execution_count": 8,
   "metadata": {},
   "outputs": [],
   "source": [
    "import numpy as np\n",
    "import matplotlib.pyplot as plt\n",
    "\n",
    "text_path = \"../Labb_1/pichu.txt\"\n",
    "text_path = \"../Labb_1/pikachu.txt\"\n"
   ]
  },
  {
   "cell_type": "markdown",
   "metadata": {},
   "source": [
    "Simulated data on Pichu's and Pikachu's lengths and widths"
   ]
  },
  {
   "cell_type": "code",
   "execution_count": 9,
   "metadata": {},
   "outputs": [],
   "source": [
    "pichu_data = np.array([[15,14],\n",
    "                       [26,30]])\n",
    "pikachu_data = np.array([[25,35],\n",
    "                         [22,45]])"
   ]
  },
  {
   "cell_type": "markdown",
   "metadata": {},
   "source": [
    "Decision tree classifier"
   ]
  },
  {
   "cell_type": "code",
   "execution_count": 10,
   "metadata": {},
   "outputs": [],
   "source": [
    "def decision_tree_classify(sample):\n",
    "    if sample[0] < 20:\n",
    "        return 'Pichu'\n",
    "    else:\n",
    "        return 'Pikachu'"
   ]
  },
  {
   "cell_type": "code",
   "execution_count": 11,
   "metadata": {},
   "outputs": [
    {
     "name": "stdout",
     "output_type": "stream",
     "text": [
      "Sample with (width, hight): (25, 35) classified as Pikachu\n",
      "Sample with (width, hight): (15, 14) classified as Pichu\n",
      "Sample with (width, hight): (26, 30) classified as Pikachu\n",
      "Sample with (width, hight): (22, 45) classified as Pikachu\n"
     ]
    }
   ],
   "source": [
    "test_data = [(25,35),(15,14), (26,30), (22,45)]\n",
    "for sample in test_data:\n",
    "    classification = decision_tree_classify(np.array(sample))\n",
    "    print(f\"Sample with (width, hight): {sample} classified as {classification}\")"
   ]
  }
 ],
 "metadata": {
  "kernelspec": {
   "display_name": "venv",
   "language": "python",
   "name": "python3"
  },
  "language_info": {
   "name": "python",
   "version": "3.11.7"
  }
 },
 "nbformat": 4,
 "nbformat_minor": 2
}
