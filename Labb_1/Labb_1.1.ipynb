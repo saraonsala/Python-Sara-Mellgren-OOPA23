{
 "cells": [
  {
   "cell_type": "markdown",
   "metadata": {},
   "source": [
    "## Saras labb 1.1 "
   ]
  },
  {
   "cell_type": "markdown",
   "metadata": {},
   "source": [
    "Import the text files"
   ]
  },
  {
   "cell_type": "code",
   "execution_count": 218,
   "metadata": {},
   "outputs": [],
   "source": [
    "import numpy as np\n",
    "import matplotlib.pyplot as plt\n",
    "\n",
    "pikachu = \"pikachu.txt\" \n",
    "with open(\"pikachu.txt\", \"r\") as file:\n",
    "    pikachu = file.read()\n",
    "\n",
    "pichu = \"pichu.txt\" \n",
    "with open(\"pichu.txt\", \"r\") as file:\n",
    "        pichu = file.read()\n"
   ]
  },
  {
   "cell_type": "markdown",
   "metadata": {},
   "source": [
    "Debugging of the text files"
   ]
  },
  {
   "cell_type": "code",
   "execution_count": 219,
   "metadata": {},
   "outputs": [
    {
     "data": {
      "text/plain": [
       "['(20.11541438766307, 28.701809671168824)',\n",
       " '(15.200086041781336, 27.095070307714877)',\n",
       " '(17.200234546952956, 27.669778220491132)',\n",
       " '(16.785685905190583, 34.36654587712494)',\n",
       " '(20.8917697133121, 31.480353852465935)',\n",
       " '(20.41359589938329, 31.091310056669883)',\n",
       " '(22.137436541638763, 26.71138648198097)',\n",
       " '(15.695510661035328, 32.291267979503495)',\n",
       " '(18.375374557482164, 26.634024937619284)',\n",
       " '(15.238377755504562, 28.794554417576478)',\n",
       " '(16.749103798428827, 34.895233506365955)',\n",
       " '(19.042842304826898, 31.399997598540928)',\n",
       " '(15.212287757470909, 30.569497437746463)',\n",
       " '(16.59070120549319, 31.846142509898748)',\n",
       " '(20.199075502236184, 33.4285192018981)',\n",
       " '(19.35953184482573, 32.75999911546245)',\n",
       " '(16.763524976325574, 27.290480719641042)',\n",
       " '(19.71412547100727, 25.321002439040377)',\n",
       " '(21.475443653422612, 28.154530480590818)',\n",
       " '(15.051990077424488, 27.67740875975703)',\n",
       " '(21.446554014662464, 27.109828435863264)',\n",
       " '(20.585115159905815, 34.429097143350546)',\n",
       " '(17.722004132143937, 33.76367626472669)',\n",
       " '(16.24383599849425, 28.14677880798478)',\n",
       " '(22.65770457765425, 31.5543866529488)',\n",
       " '(17.692756360901015, 28.95631901060664)',\n",
       " '(15.741966747041182, 34.14547589740543)',\n",
       " '(15.773731014667712, 29.588518525873987)',\n",
       " '(21.779954930779677, 27.648801664980525)',\n",
       " '(19.82980825093513, 27.466275076939834)',\n",
       " '(21.45702618619504, 30.61368134163151)',\n",
       " '(20.837854293550542, 27.627416085229353)',\n",
       " '(19.289824731637605, 30.845859902235404)',\n",
       " '(22.784926111834963, 33.97822883602477)',\n",
       " '(18.02827501766683, 28.994005051403974)',\n",
       " '(19.416325050185815, 27.193207591572833)',\n",
       " '(21.63523731402396, 34.97537606495111)',\n",
       " '(19.94815801891397, 30.095262936764644)',\n",
       " '(21.89365520248622, 25.90909412173794)',\n",
       " '(19.618817162054096, 25.471163754247346)',\n",
       " '(20.63657468971939, 26.096491303506593)',\n",
       " '(15.366595069245298, 31.2744604170309)',\n",
       " '(16.823186205212373, 32.920793643629644)',\n",
       " '(17.315103708816856, 29.22159966799684)',\n",
       " '(15.63833581538902, 25.63527706151957)',\n",
       " '(16.862327090888243, 28.816192865065368)',\n",
       " '(15.808011435277834, 34.96121380240097)',\n",
       " '(17.223788824880735, 30.29114345099137)',\n",
       " '(20.085475554115202, 34.71078377613618)',\n",
       " '(17.918657431760675, 33.60779702234498)']"
      ]
     },
     "execution_count": 219,
     "metadata": {},
     "output_type": "execute_result"
    }
   ],
   "source": [
    "pikachu.split(\"\\n\")[1:-1]\n",
    "\n",
    "pichu.split(\"\\n\")[1:-1]"
   ]
  },
  {
   "cell_type": "code",
   "execution_count": 234,
   "metadata": {},
   "outputs": [],
   "source": [
    "test_points = \"test_points.txt\" \n",
    "with open(\"test_points.txt\", \"r\") as file:\n",
    "    test_points = file.read()\n",
    "\n",
    "pikachu = [(eval(str(width)), eval(str(height))) for width in range(1, + 1)for height in range(1, + 1)]\n",
    "\n",
    "pichu = [(eval(str(width)), eval(str(height))) for width in range(1, + 1)for height in range(1, + 1)]\n"
   ]
  },
  {
   "cell_type": "code",
   "execution_count": 233,
   "metadata": {},
   "outputs": [
    {
     "data": {
      "image/png": "[encoded data removed]",
      "text/plain": [
       "<Figure size 640x480 with 1 Axes>"
      ]
     },
     "metadata": {},
     "output_type": "display_data"
    }
   ],
   "source": [
    "import matplotlib.pyplot as plt\n",
    "\n",
    "# Definde the color \n",
    "pichu_color = '#33FF57'\n",
    "pikachu_color = '#3357FF'\n",
    "\n",
    "pikachu = [(25, 35), (22, 45)]  # Sample data Pikachu\n",
    "pichu = [(15, 14), (26, 30)]     # Sample data Pichus\n",
    "\n",
    "# Create a scatter plot for Pickachu and Pichu.\n",
    "for point in pikachu:\n",
    "    plt.scatter(point[0], point[1], c=pikachu_color, s=150, marker='*')\n",
    "\n",
    "for point in pichu:\n",
    "    plt.scatter(point[0], point[1], c=pichu_color, s=150, marker='o')\n",
    "\n",
    "# Show the plot\n",
    "plt.show() \n"
   ]
  },
  {
   "cell_type": "markdown",
   "metadata": {},
   "source": [
    "Decision tree classifier"
   ]
  },
  {
   "cell_type": "code",
   "execution_count": null,
   "metadata": {},
   "outputs": [],
   "source": [
    "def decision_tree_classify(sample):\n",
    "    if sample[0] < 20:\n",
    "        return 'Pichu'\n",
    "    else:\n",
    "        return 'Pikachu'"
   ]
  },
  {
   "cell_type": "code",
   "execution_count": null,
   "metadata": {},
   "outputs": [],
   "source": [
    "test_data = [(25,35),(15,14), (26,30), (22,45)]\n",
    "for sample in test_data:\n",
    "    classification = decision_tree_classify(np.array(sample))\n",
    "    print(f\"Sample with (width, hight): {sample} classified as {classification}\")"
   ]
  }
 ],
 "metadata": {
  "kernelspec": {
   "display_name": "venv",
   "language": "python",
   "name": "python3"
  },
  "language_info": {
   "name": "python",
   "version": "3.11.7"
  }
 },
 "nbformat": 4,
 "nbformat_minor": 2
}
