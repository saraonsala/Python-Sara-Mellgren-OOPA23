{
 "cells": [
  {
   "cell_type": "markdown",
   "metadata": {},
   "source": [
    "## Labb nr 1"
   ]
  },
  {
   "cell_type": "code",
   "execution_count": 9,
   "metadata": {},
   "outputs": [],
   "source": [
    "import numpy as np\n",
    "import matplotlib as plt\n",
    "\n",
    "text_path = \"../Labb_1/pichu.txt\"\n",
    "text_path = \"../Labb_1/pikachu.txt\""
   ]
  },
  {
   "cell_type": "markdown",
   "metadata": {},
   "source": [
    " Simulate data on their length and width"
   ]
  },
  {
   "cell_type": "code",
   "execution_count": 10,
   "metadata": {},
   "outputs": [],
   "source": [
    "pichu_data = np.array([[15, 14],\n",
    "                        [26, 30]])\n",
    "pikachu_data = np.array([[25, 35],\n",
    "                         [22, 45]])"
   ]
  },
  {
   "cell_type": "markdown",
   "metadata": {},
   "source": [
    "Compute mean values for length and width for each class"
   ]
  },
  {
   "cell_type": "code",
   "execution_count": 11,
   "metadata": {},
   "outputs": [],
   "source": [
    "pichu_mean = np.mean(pichu_data, axis=0)\n",
    "pikachu_mean = np.mean(pikachu_data, axis = 0)"
   ]
  },
  {
   "cell_type": "markdown",
   "metadata": {},
   "source": [
    "Calculates the distance between a sample and the mean of the Pikachu´s in the data.\n"
   ]
  },
  {
   "cell_type": "code",
   "execution_count": 12,
   "metadata": {},
   "outputs": [],
   "source": [
    "def classify_sample(sample):\n",
    "    pichu_distance = np.linalg.norm(sample - pichu_mean)\n",
    "    pikachu_distance = np.linalg.norm(sample)\n",
    "    if pichu_distance < pikachu_distance:\n",
    "        return \"Pichu\"\n",
    "    else:\n",
    "        return \"Pikachu\""
   ]
  },
  {
   "cell_type": "code",
   "execution_count": 13,
   "metadata": {},
   "outputs": [
    {
     "name": "stdout",
     "output_type": "stream",
     "text": [
      "Sample whit (width, height): (25, 35) classified as Pichu\n",
      "Sample whit (width, height): (15, 14) classified as Pichu\n",
      "Sample whit (width, height): (26, 30) classified as Pichu\n",
      "Sample whit (width, height): (22, 45) classified as Pichu\n"
     ]
    }
   ],
   "source": [
    "test_data = [(25, 35), (15,14), (26,30), (22, 45)]\n",
    "for sample in test_data:\n",
    "    classification = classify_sample(np.array(sample))\n",
    "    print(f\"Sample whit (width, height): {sample} classified as {classification}\")"
   ]
  }
 ],
 "metadata": {
  "kernelspec": {
   "display_name": "venv",
   "language": "python",
   "name": "python3"
  },
  "language_info": {
   "codemirror_mode": {
    "name": "ipython",
    "version": 3
   },
   "file_extension": ".py",
   "mimetype": "text/x-python",
   "name": "python",
   "nbconvert_exporter": "python",
   "pygments_lexer": "ipython3",
   "version": "3.11.7"
  }
 },
 "nbformat": 4,
 "nbformat_minor": 2
}
