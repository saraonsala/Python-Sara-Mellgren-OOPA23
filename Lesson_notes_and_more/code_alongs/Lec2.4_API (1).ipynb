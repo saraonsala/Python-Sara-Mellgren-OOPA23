{
 "cells": [
  {
   "cell_type": "markdown",
   "metadata": {},
   "source": [
    "<div style=\"max-width:66ch;\">\n",
    "\n",
    "# Lecture notes - Stockdata API and time series\n",
    "\n",
    "This is a lecture note on stock data from API - but it's built upon contents from pandas and previous course:\n",
    "\n",
    "- Python programming\n",
    "\n",
    "<p class = \"alert alert-info\" role=\"alert\"><b>Note</b> that this lecture note gives a brief introduction to merging. I encourage you to read further about API.\n",
    "\n",
    "Read more\n",
    "\n",
    "- [video - API-key .env](https://www.youtube.com/watch?v=YdgIWTYQ69A)\n",
    "- [wikipedia - REST API theory](https://en.wikipedia.org/wiki/Representational_state_transfer)\n",
    "- [video - Python - requests](https://www.youtube.com/watch?v=tb8gHvYlCFs)\n",
    "- [w3schools - requests](https://www.w3schools.com/python/module_requests.asp)\n",
    "\n",
    "</div>\n"
   ]
  },
  {
   "cell_type": "markdown",
   "metadata": {},
   "source": [
    "<div style=\"max-width:66ch;\">\n",
    "\n",
    "## API\n",
    "\n",
    "\n",
    "An API, or Application Programming Interface, is a set of rules and protocols that allows different software applications to communicate with each other. It defines the methods and data formats that applications can use to request and exchange information. APIs enable the integration of different software systems, allowing them to work together seamlessly. Specifically we'll be using a web API, which will give us possibility to query data from a web server. \n",
    "\n",
    "\n",
    "</div>"
   ]
  },
  {
   "cell_type": "markdown",
   "metadata": {},
   "source": [
    "<div style=\"max-width:66ch;\">\n",
    "\n",
    "## Stocks API\n",
    "\n",
    "Go into [Alpha Vantage](https://www.alphavantage.co/documentation/) and read the documentation of the time series APIs\n",
    "\n",
    "- Go into [claim API key](https://www.alphavantage.co/support/#api-key) and fill in the form to claim your free API-key\n",
    "\n",
    "- You will be using the API key to access stock data\n",
    "\n",
    "- Create a file called .env and type:\n",
    "\n",
    "```py\n",
    "ALPHA_API_KEY = ...\n",
    "```\n",
    "\n",
    "- the dots should be your API key\n",
    "- go into your .gitignore file in your repo and make sure that there is .env there so that you don't push the .env file to a public Github repo where anyone can access your key and do stuffs in your name\n",
    "\n",
    "**Setup**\n",
    "\n",
    "- pipenv install python-dotenv\n",
    "\n",
    "[Symbols of stocks](https://www.nasdaq.com/market-activity/stocks/screener) that is useful for get-request\n",
    "\n",
    "\n",
    "</div>"
   ]
  },
  {
   "cell_type": "code",
   "execution_count": 29,
   "metadata": {},
   "outputs": [],
   "source": [
    "import os\n",
    "from dotenv import load_dotenv\n",
    "import requests\n",
    "import pandas as pd\n",
    "\n",
    "load_dotenv()\n",
    "api_key = os.getenv(\"ALPHA_API_KEY\")\n",
    "# NOTE: you can print it for your own validation, but remove the print before pushing to Github\n",
    "\n",
    "symbols = [\"AAPL\", \"NVDA\", \"TSLA\", \"IBM\"]\n",
    "stock_list = []\n",
    "\n",
    "for symbol in symbols:\n",
    "    function = \"TIME_SERIES_DAILY\"\n",
    "\n",
    "    url = f'https://www.alphavantage.co/query?function={function}&symbol={symbol}&apikey={api_key}'\n",
    "    #url = f'https://www.alphavantage.co/query?function={function}&symbol={symbol}&apikey={api_key}'\n",
    "    data = requests.get(url).json()\n",
    "    df = pd.DataFrame(data[\"Time Series (Daily)\"]).transpose()\n",
    "    df = df[\"4. close\"].rename(symbol).astype(float)\n",
    "    stock_list.append(df)\n",
    "    \n",
    "  \n"
   ]
  },
  {
   "cell_type": "code",
   "execution_count": 36,
   "metadata": {},
   "outputs": [
    {
     "data": {
      "text/plain": [
       "{'1. Information': 'Daily Prices (open, high, low, close) and Volumes',\n",
       " '2. Symbol': 'IBM',\n",
       " '3. Last Refreshed': '2024-03-19',\n",
       " '4. Output Size': 'Compact',\n",
       " '5. Time Zone': 'US/Eastern'}"
      ]
     },
     "execution_count": 36,
     "metadata": {},
     "output_type": "execute_result"
    }
   ],
   "source": [
    "data[\"Meta Data\"]"
   ]
  },
  {
   "cell_type": "code",
   "execution_count": 38,
   "metadata": {},
   "outputs": [
    {
     "data": {
      "text/plain": [
       "{'2024-03-19': {'1. open': '191.4900',\n",
       "  '2. high': '193.5800',\n",
       "  '3. low': '190.2800',\n",
       "  '4. close': '193.3400',\n",
       "  '5. volume': '5317341'},\n",
       " '2024-03-18': {'1. open': '191.7000',\n",
       "  '2. high': '193.2300',\n",
       "  '3. low': '190.3200',\n",
       "  '4. close': '191.6900',\n",
       "  '5. volume': '5410562'},\n",
       " '2024-03-15': {'1. open': '191.9900',\n",
       "  '2. high': '193.0573',\n",
       "  '3. low': '190.7000',\n",
       "  '4. close': '191.0700',\n",
       "  '5. volume': '8828184'},\n",
       " '2024-03-14': {'1. open': '196.9500',\n",
       "  '2. high': '197.7480',\n",
       "  '3. low': '192.1200',\n",
       "  '4. close': '193.4300',\n",
       "  '5. volume': '4102202'},\n",
       " '2024-03-13': {'1. open': '197.5500',\n",
       "  '2. high': '198.1000',\n",
       "  '3. low': '195.3200',\n",
       "  '4. close': '196.7000',\n",
       "  '5. volume': '3960737'},\n",
       " '2024-03-12': {'1. open': '192.4600',\n",
       "  '2. high': '199.1800',\n",
       "  '3. low': '192.1500',\n",
       "  '4. close': '197.7800',\n",
       "  '5. volume': '5862512'},\n",
       " '2024-03-11': {'1. open': '195.0900',\n",
       "  '2. high': '195.3800',\n",
       "  '3. low': '190.8800',\n",
       "  '4. close': '191.7300',\n",
       "  '5. volume': '4712688'},\n",
       " '2024-03-08': {'1. open': '196.0600',\n",
       "  '2. high': '197.7700',\n",
       "  '3. low': '194.3800',\n",
       "  '4. close': '195.9500',\n",
       "  '5. volume': '3943113'},\n",
       " '2024-03-07': {'1. open': '197.5800',\n",
       "  '2. high': '198.7300',\n",
       "  '3. low': '196.1400',\n",
       "  '4. close': '196.5400',\n",
       "  '5. volume': '4604458'},\n",
       " '2024-03-06': {'1. open': '193.5000',\n",
       "  '2. high': '198.1300',\n",
       "  '3. low': '192.9600',\n",
       "  '4. close': '196.1600',\n",
       "  '5. volume': '6945818'},\n",
       " '2024-03-05': {'1. open': '192.0000',\n",
       "  '2. high': '193.9400',\n",
       "  '3. low': '190.5700',\n",
       "  '4. close': '191.9500',\n",
       "  '5. volume': '5653641'},\n",
       " '2024-03-04': {'1. open': '187.7600',\n",
       "  '2. high': '193.8980',\n",
       "  '3. low': '187.6000',\n",
       "  '4. close': '193.0600',\n",
       "  '5. volume': '7938266'},\n",
       " '2024-03-01': {'1. open': '185.4900',\n",
       "  '2. high': '188.3800',\n",
       "  '3. low': '185.1800',\n",
       "  '4. close': '188.2000',\n",
       "  '5. volume': '4018354'},\n",
       " '2024-02-29': {'1. open': '186.1500',\n",
       "  '2. high': '186.8495',\n",
       "  '3. low': '184.6900',\n",
       "  '4. close': '185.0300',\n",
       "  '5. volume': '6458487'},\n",
       " '2024-02-28': {'1. open': '184.6300',\n",
       "  '2. high': '185.3700',\n",
       "  '3. low': '183.5500',\n",
       "  '4. close': '185.3000',\n",
       "  '5. volume': '3216345'},\n",
       " '2024-02-27': {'1. open': '184.1600',\n",
       "  '2. high': '185.1300',\n",
       "  '3. low': '182.6200',\n",
       "  '4. close': '184.8700',\n",
       "  '5. volume': '3641378'},\n",
       " '2024-02-26': {'1. open': '185.6000',\n",
       "  '2. high': '186.1250',\n",
       "  '3. low': '184.0600',\n",
       "  '4. close': '184.1300',\n",
       "  '5. volume': '4620815'},\n",
       " '2024-02-23': {'1. open': '184.9000',\n",
       "  '2. high': '186.4550',\n",
       "  '3. low': '184.5700',\n",
       "  '4. close': '185.7200',\n",
       "  '5. volume': '3433800'},\n",
       " '2024-02-22': {'1. open': '182.4500',\n",
       "  '2. high': '184.5500',\n",
       "  '3. low': '181.9300',\n",
       "  '4. close': '184.2100',\n",
       "  '5. volume': '5078398'},\n",
       " '2024-02-21': {'1. open': '182.5600',\n",
       "  '2. high': '183.0300',\n",
       "  '3. low': '178.7500',\n",
       "  '4. close': '179.7000',\n",
       "  '5. volume': '4728473'},\n",
       " '2024-02-20': {'1. open': '187.6400',\n",
       "  '2. high': '188.7700',\n",
       "  '3. low': '183.0600',\n",
       "  '4. close': '183.4400',\n",
       "  '5. volume': '4247181'},\n",
       " '2024-02-16': {'1. open': '186.6300',\n",
       "  '2. high': '188.9500',\n",
       "  '3. low': '185.9452',\n",
       "  '4. close': '187.6400',\n",
       "  '5. volume': '4842840'},\n",
       " '2024-02-15': {'1. open': '183.6200',\n",
       "  '2. high': '186.9800',\n",
       "  '3. low': '183.6200',\n",
       "  '4. close': '186.8700',\n",
       "  '5. volume': '4714301'},\n",
       " '2024-02-14': {'1. open': '185.0000',\n",
       "  '2. high': '185.0000',\n",
       "  '3. low': '182.2600',\n",
       "  '4. close': '183.5700',\n",
       "  '5. volume': '3173391'},\n",
       " '2024-02-13': {'1. open': '184.2800',\n",
       "  '2. high': '184.7700',\n",
       "  '3. low': '182.3600',\n",
       "  '4. close': '183.7000',\n",
       "  '5. volume': '4290453'},\n",
       " '2024-02-12': {'1. open': '185.9000',\n",
       "  '2. high': '186.4800',\n",
       "  '3. low': '184.0300',\n",
       "  '4. close': '186.1600',\n",
       "  '5. volume': '4724021'},\n",
       " '2024-02-09': {'1. open': '184.4400',\n",
       "  '2. high': '187.1800',\n",
       "  '3. low': '183.8500',\n",
       "  '4. close': '186.3400',\n",
       "  '5. volume': '5064641'},\n",
       " '2024-02-08': {'1. open': '182.6300',\n",
       "  '2. high': '184.5500',\n",
       "  '3. low': '181.4900',\n",
       "  '4. close': '184.3600',\n",
       "  '5. volume': '5161185'},\n",
       " '2024-02-07': {'1. open': '183.3400',\n",
       "  '2. high': '184.0200',\n",
       "  '3. low': '182.6250',\n",
       "  '4. close': '183.7400',\n",
       "  '5. volume': '4841188'},\n",
       " '2024-02-06': {'1. open': '183.5500',\n",
       "  '2. high': '184.6800',\n",
       "  '3. low': '183.0400',\n",
       "  '4. close': '183.4100',\n",
       "  '5. volume': '3338196'},\n",
       " '2024-02-05': {'1. open': '185.5100',\n",
       "  '2. high': '185.7800',\n",
       "  '3. low': '183.2550',\n",
       "  '4. close': '183.4200',\n",
       "  '5. volume': '4379602'},\n",
       " '2024-02-02': {'1. open': '187.1000',\n",
       "  '2. high': '187.3900',\n",
       "  '3. low': '185.6150',\n",
       "  '4. close': '185.7900',\n",
       "  '5. volume': '4055411'},\n",
       " '2024-02-01': {'1. open': '183.6300',\n",
       "  '2. high': '187.5100',\n",
       "  '3. low': '182.7100',\n",
       "  '4. close': '186.9000',\n",
       "  '5. volume': '4669444'},\n",
       " '2024-01-31': {'1. open': '187.0500',\n",
       "  '2. high': '187.6500',\n",
       "  '3. low': '183.1400',\n",
       "  '4. close': '183.6600',\n",
       "  '5. volume': '8876055'},\n",
       " '2024-01-30': {'1. open': '187.7100',\n",
       "  '2. high': '188.6500',\n",
       "  '3. low': '186.7700',\n",
       "  '4. close': '187.8700',\n",
       "  '5. volume': '4575058'},\n",
       " '2024-01-29': {'1. open': '187.4600',\n",
       "  '2. high': '189.4600',\n",
       "  '3. low': '186.0500',\n",
       "  '4. close': '187.1400',\n",
       "  '5. volume': '6107908'},\n",
       " '2024-01-26': {'1. open': '191.3100',\n",
       "  '2. high': '192.3896',\n",
       "  '3. low': '186.1600',\n",
       "  '4. close': '187.4200',\n",
       "  '5. volume': '9895941'},\n",
       " '2024-01-25': {'1. open': '184.9600',\n",
       "  '2. high': '196.9000',\n",
       "  '3. low': '184.8300',\n",
       "  '4. close': '190.4300',\n",
       "  '5. volume': '29596239'},\n",
       " '2024-01-24': {'1. open': '174.7600',\n",
       "  '2. high': '174.8600',\n",
       "  '3. low': '172.9000',\n",
       "  '4. close': '173.9300',\n",
       "  '5. volume': '7831157'},\n",
       " '2024-01-23': {'1. open': '172.9000',\n",
       "  '2. high': '174.0200',\n",
       "  '3. low': '172.4800',\n",
       "  '4. close': '173.9400',\n",
       "  '5. volume': '3983461'},\n",
       " '2024-01-22': {'1. open': '172.8200',\n",
       "  '2. high': '174.4500',\n",
       "  '3. low': '172.4000',\n",
       "  '4. close': '172.8300',\n",
       "  '5. volume': '4925964'},\n",
       " '2024-01-19': {'1. open': '170.5900',\n",
       "  '2. high': '171.5791',\n",
       "  '3. low': '169.1800',\n",
       "  '4. close': '171.4800',\n",
       "  '5. volume': '6929079'},\n",
       " '2024-01-18': {'1. open': '166.4900',\n",
       "  '2. high': '166.9900',\n",
       "  '3. low': '165.0400',\n",
       "  '4. close': '166.8400',\n",
       "  '5. volume': '3776990'},\n",
       " '2024-01-17': {'1. open': '166.7900',\n",
       "  '2. high': '167.8200',\n",
       "  '3. low': '165.4950',\n",
       "  '4. close': '166.0800',\n",
       "  '5. volume': '4288604'},\n",
       " '2024-01-16': {'1. open': '165.8000',\n",
       "  '2. high': '167.2500',\n",
       "  '3. low': '165.3400',\n",
       "  '4. close': '166.9600',\n",
       "  '5. volume': '4869635'},\n",
       " '2024-01-12': {'1. open': '162.9700',\n",
       "  '2. high': '165.9800',\n",
       "  '3. low': '162.3550',\n",
       "  '4. close': '165.8000',\n",
       "  '5. volume': '4958261'},\n",
       " '2024-01-11': {'1. open': '161.0200',\n",
       "  '2. high': '162.2300',\n",
       "  '3. low': '160.2900',\n",
       "  '4. close': '162.1600',\n",
       "  '5. volume': '3778395'},\n",
       " '2024-01-10': {'1. open': '160.2800',\n",
       "  '2. high': '161.3400',\n",
       "  '3. low': '159.7400',\n",
       "  '4. close': '161.2300',\n",
       "  '5. volume': '2967852'},\n",
       " '2024-01-09': {'1. open': '160.0000',\n",
       "  '2. high': '160.4837',\n",
       "  '3. low': '159.5100',\n",
       "  '4. close': '160.0800',\n",
       "  '5. volume': '2617186'},\n",
       " '2024-01-08': {'1. open': '158.6900',\n",
       "  '2. high': '161.2160',\n",
       "  '3. low': '157.8850',\n",
       "  '4. close': '161.1400',\n",
       "  '5. volume': '3321698'},\n",
       " '2024-01-05': {'1. open': '159.9100',\n",
       "  '2. high': '160.5500',\n",
       "  '3. low': '158.6700',\n",
       "  '4. close': '159.1600',\n",
       "  '5. volume': '3698961'},\n",
       " '2024-01-04': {'1. open': '160.2200',\n",
       "  '2. high': '161.8100',\n",
       "  '3. low': '160.1700',\n",
       "  '4. close': '160.8600',\n",
       "  '5. volume': '3212004'},\n",
       " '2024-01-03': {'1. open': '161.0000',\n",
       "  '2. high': '161.7300',\n",
       "  '3. low': '160.0800',\n",
       "  '4. close': '160.1000',\n",
       "  '5. volume': '4086065'},\n",
       " '2024-01-02': {'1. open': '162.8300',\n",
       "  '2. high': '163.2900',\n",
       "  '3. low': '160.4600',\n",
       "  '4. close': '161.5000',\n",
       "  '5. volume': '3825044'},\n",
       " '2023-12-29': {'1. open': '163.7500',\n",
       "  '2. high': '164.1800',\n",
       "  '3. low': '162.8300',\n",
       "  '4. close': '163.5500',\n",
       "  '5. volume': '2526169'},\n",
       " '2023-12-28': {'1. open': '163.9600',\n",
       "  '2. high': '163.9600',\n",
       "  '3. low': '163.4000',\n",
       "  '4. close': '163.7500',\n",
       "  '5. volume': '2071313'},\n",
       " '2023-12-27': {'1. open': '163.1400',\n",
       "  '2. high': '163.6400',\n",
       "  '3. low': '162.6800',\n",
       "  '4. close': '163.4600',\n",
       "  '5. volume': '3006612'},\n",
       " '2023-12-26': {'1. open': '162.2300',\n",
       "  '2. high': '163.3100',\n",
       "  '3. low': '162.0500',\n",
       "  '4. close': '163.2100',\n",
       "  '5. volume': '1772443'},\n",
       " '2023-12-22': {'1. open': '161.1000',\n",
       "  '2. high': '162.4100',\n",
       "  '3. low': '161.0000',\n",
       "  '4. close': '162.1400',\n",
       "  '5. volume': '2442715'},\n",
       " '2023-12-21': {'1. open': '160.5900',\n",
       "  '2. high': '161.0800',\n",
       "  '3. low': '159.5300',\n",
       "  '4. close': '160.7800',\n",
       "  '5. volume': '2982924'},\n",
       " '2023-12-20': {'1. open': '161.2900',\n",
       "  '2. high': '161.8000',\n",
       "  '3. low': '160.0100',\n",
       "  '4. close': '160.0500',\n",
       "  '5. volume': '4865797'},\n",
       " '2023-12-19': {'1. open': '161.8000',\n",
       "  '2. high': '162.2800',\n",
       "  '3. low': '161.3200',\n",
       "  '4. close': '161.5600',\n",
       "  '5. volume': '3717429'},\n",
       " '2023-12-18': {'1. open': '162.2300',\n",
       "  '2. high': '163.3300',\n",
       "  '3. low': '161.5766',\n",
       "  '4. close': '162.7400',\n",
       "  '5. volume': '3677533'},\n",
       " '2023-12-15': {'1. open': '162.3000',\n",
       "  '2. high': '164.0900',\n",
       "  '3. low': '162.0400',\n",
       "  '4. close': '162.2300',\n",
       "  '5. volume': '11016108'},\n",
       " '2023-12-14': {'1. open': '162.9300',\n",
       "  '2. high': '163.4990',\n",
       "  '3. low': '160.1490',\n",
       "  '4. close': '162.9100',\n",
       "  '5. volume': '6129804'},\n",
       " '2023-12-13': {'1. open': '164.3700',\n",
       "  '2. high': '164.9653',\n",
       "  '3. low': '162.7350',\n",
       "  '4. close': '163.6200',\n",
       "  '5. volume': '4989141'},\n",
       " '2023-12-12': {'1. open': '163.2700',\n",
       "  '2. high': '166.3400',\n",
       "  '3. low': '162.9200',\n",
       "  '4. close': '164.7100',\n",
       "  '5. volume': '5292290'},\n",
       " '2023-12-11': {'1. open': '162.6800',\n",
       "  '2. high': '163.6500',\n",
       "  '3. low': '161.9500',\n",
       "  '4. close': '163.5100',\n",
       "  '5. volume': '6077207'},\n",
       " '2023-12-08': {'1. open': '160.0000',\n",
       "  '2. high': '162.0400',\n",
       "  '3. low': '160.0000',\n",
       "  '4. close': '161.9600',\n",
       "  '5. volume': '4561342'},\n",
       " '2023-12-07': {'1. open': '161.0000',\n",
       "  '2. high': '161.4650',\n",
       "  '3. low': '159.9700',\n",
       "  '4. close': '160.2200',\n",
       "  '5. volume': '3665498'},\n",
       " '2023-12-06': {'1. open': '161.5900',\n",
       "  '2. high': '162.3550',\n",
       "  '3. low': '160.0100',\n",
       "  '4. close': '160.2800',\n",
       "  '5. volume': '3356432'},\n",
       " '2023-12-05': {'1. open': '160.7600',\n",
       "  '2. high': '162.4700',\n",
       "  '3. low': '160.7200',\n",
       "  '4. close': '161.3900',\n",
       "  '5. volume': '4556668'},\n",
       " '2023-12-04': {'1. open': '160.2900',\n",
       "  '2. high': '162.7900',\n",
       "  '3. low': '160.2900',\n",
       "  '4. close': '161.1000',\n",
       "  '5. volume': '5779017'},\n",
       " '2023-12-01': {'1. open': '158.4100',\n",
       "  '2. high': '160.5900',\n",
       "  '3. low': '158.0000',\n",
       "  '4. close': '160.5500',\n",
       "  '5. volume': '4871860'},\n",
       " '2023-11-30': {'1. open': '156.9500',\n",
       "  '2. high': '158.6000',\n",
       "  '3. low': '156.8900',\n",
       "  '4. close': '158.5600',\n",
       "  '5. volume': '6740622'},\n",
       " '2023-11-29': {'1. open': '156.1500',\n",
       "  '2. high': '157.5100',\n",
       "  '3. low': '156.0200',\n",
       "  '4. close': '156.4100',\n",
       "  '5. volume': '3568887'},\n",
       " '2023-11-28': {'1. open': '155.4400',\n",
       "  '2. high': '155.7450',\n",
       "  '3. low': '154.8600',\n",
       "  '4. close': '155.6500',\n",
       "  '5. volume': '2666182'},\n",
       " '2023-11-27': {'1. open': '154.9900',\n",
       "  '2. high': '156.1350',\n",
       "  '3. low': '154.7500',\n",
       "  '4. close': '155.5700',\n",
       "  '5. volume': '4053093'},\n",
       " '2023-11-24': {'1. open': '155.1300',\n",
       "  '2. high': '155.4000',\n",
       "  '3. low': '153.9200',\n",
       "  '4. close': '155.1800',\n",
       "  '5. volume': '1799161'},\n",
       " '2023-11-22': {'1. open': '154.5000',\n",
       "  '2. high': '155.7050',\n",
       "  '3. low': '154.1600',\n",
       "  '4. close': '155.1300',\n",
       "  '5. volume': '3045091'},\n",
       " '2023-11-21': {'1. open': '154.6000',\n",
       "  '2. high': '154.6600',\n",
       "  '3. low': '153.5100',\n",
       "  '4. close': '153.9100',\n",
       "  '5. volume': '2859508'},\n",
       " '2023-11-20': {'1. open': '152.5100',\n",
       "  '2. high': '154.6800',\n",
       "  '3. low': '152.3500',\n",
       "  '4. close': '154.3500',\n",
       "  '5. volume': '3658936'},\n",
       " '2023-11-17': {'1. open': '153.2900',\n",
       "  '2. high': '153.5000',\n",
       "  '3. low': '152.4601',\n",
       "  '4. close': '152.8900',\n",
       "  '5. volume': '4426676'},\n",
       " '2023-11-16': {'1. open': '153.0000',\n",
       "  '2. high': '153.3500',\n",
       "  '3. low': '152.1300',\n",
       "  '4. close': '153.0600',\n",
       "  '5. volume': '3519172'},\n",
       " '2023-11-15': {'1. open': '150.4000',\n",
       "  '2. high': '153.2200',\n",
       "  '3. low': '150.4000',\n",
       "  '4. close': '152.5800',\n",
       "  '5. volume': '4632519'},\n",
       " '2023-11-14': {'1. open': '149.4500',\n",
       "  '2. high': '150.8063',\n",
       "  '3. low': '149.0500',\n",
       "  '4. close': '150.4100',\n",
       "  '5. volume': '4321940'},\n",
       " '2023-11-13': {'1. open': '148.4600',\n",
       "  '2. high': '148.4900',\n",
       "  '3. low': '147.3500',\n",
       "  '4. close': '148.1000',\n",
       "  '5. volume': '2647288'},\n",
       " '2023-11-10': {'1. open': '147.4400',\n",
       "  '2. high': '149.1700',\n",
       "  '3. low': '146.8500',\n",
       "  '4. close': '149.0200',\n",
       "  '5. volume': '3179541'},\n",
       " '2023-11-09': {'1. open': '146.5500',\n",
       "  '2. high': '146.9900',\n",
       "  '3. low': '145.2800',\n",
       "  '4. close': '146.6200',\n",
       "  '5. volume': '3412713'},\n",
       " '2023-11-08': {'1. open': '149.2500',\n",
       "  '2. high': '149.6800',\n",
       "  '3. low': '147.5850',\n",
       "  '4. close': '148.0300',\n",
       "  '5. volume': '3618588'},\n",
       " '2023-11-07': {'1. open': '149.0300',\n",
       "  '2. high': '149.2800',\n",
       "  '3. low': '148.0300',\n",
       "  '4. close': '148.8300',\n",
       "  '5. volume': '3549853'},\n",
       " '2023-11-06': {'1. open': '147.8900',\n",
       "  '2. high': '149.2250',\n",
       "  '3. low': '147.8500',\n",
       "  '4. close': '148.9700',\n",
       "  '5. volume': '4597249'},\n",
       " '2023-11-03': {'1. open': '147.4500',\n",
       "  '2. high': '148.4450',\n",
       "  '3. low': '147.2800',\n",
       "  '4. close': '147.9000',\n",
       "  '5. volume': '3510495'},\n",
       " '2023-11-02': {'1. open': '145.7700',\n",
       "  '2. high': '147.1000',\n",
       "  '3. low': '144.8400',\n",
       "  '4. close': '147.0100',\n",
       "  '5. volume': '3902657'},\n",
       " '2023-11-01': {'1. open': '145.0000',\n",
       "  '2. high': '146.5100',\n",
       "  '3. low': '144.4500',\n",
       "  '4. close': '145.4000',\n",
       "  '5. volume': '4750081'},\n",
       " '2023-10-31': {'1. open': '143.0000',\n",
       "  '2. high': '144.7600',\n",
       "  '3. low': '142.5900',\n",
       "  '4. close': '144.6400',\n",
       "  '5. volume': '6592041'},\n",
       " '2023-10-30': {'1. open': '143.1900',\n",
       "  '2. high': '144.5000',\n",
       "  '3. low': '142.5800',\n",
       "  '4. close': '142.6300',\n",
       "  '5. volume': '4204190'},\n",
       " '2023-10-27': {'1. open': '143.6200',\n",
       "  '2. high': '144.7000',\n",
       "  '3. low': '141.7100',\n",
       "  '4. close': '142.5200',\n",
       "  '5. volume': '5469227'},\n",
       " '2023-10-26': {'1. open': '142.2000',\n",
       "  '2. high': '144.4100',\n",
       "  '3. low': '141.5800',\n",
       "  '4. close': '143.7600',\n",
       "  '5. volume': '11130170'},\n",
       " '2023-10-25': {'1. open': '137.5000',\n",
       "  '2. high': '138.4900',\n",
       "  '3. low': '136.3300',\n",
       "  '4. close': '137.0800',\n",
       "  '5. volume': '6472549'}}"
      ]
     },
     "execution_count": 38,
     "metadata": {},
     "output_type": "execute_result"
    }
   ],
   "source": [
    "data[\"Time Series (Daily)\"]"
   ]
  },
  {
   "cell_type": "code",
   "execution_count": 39,
   "metadata": {},
   "outputs": [
    {
     "data": {
      "text/plain": [
       "{'1. open': '191.7000',\n",
       " '2. high': '193.2300',\n",
       " '3. low': '190.3200',\n",
       " '4. close': '191.6900',\n",
       " '5. volume': '5410562'}"
      ]
     },
     "execution_count": 39,
     "metadata": {},
     "output_type": "execute_result"
    }
   ],
   "source": [
    "data[\"Time Series (Daily)\"][\"2024-03-18\"]"
   ]
  },
  {
   "cell_type": "code",
   "execution_count": 40,
   "metadata": {},
   "outputs": [
    {
     "data": {
      "text/plain": [
       "'5410562'"
      ]
     },
     "execution_count": 40,
     "metadata": {},
     "output_type": "execute_result"
    }
   ],
   "source": [
    "data[\"Time Series (Daily)\"][\"2024-03-18\"][\"5. volume\"]"
   ]
  },
  {
   "cell_type": "code",
   "execution_count": 42,
   "metadata": {},
   "outputs": [
    {
     "data": {
      "text/html": [
       "<div>\n",
       "<style scoped>\n",
       "    .dataframe tbody tr th:only-of-type {\n",
       "        vertical-align: middle;\n",
       "    }\n",
       "\n",
       "    .dataframe tbody tr th {\n",
       "        vertical-align: top;\n",
       "    }\n",
       "\n",
       "    .dataframe thead th {\n",
       "        text-align: right;\n",
       "    }\n",
       "</style>\n",
       "<table border=\"1\" class=\"dataframe\">\n",
       "  <thead>\n",
       "    <tr style=\"text-align: right;\">\n",
       "      <th></th>\n",
       "      <th>2024-03-19</th>\n",
       "      <th>2024-03-18</th>\n",
       "      <th>2024-03-15</th>\n",
       "      <th>2024-03-14</th>\n",
       "      <th>2024-03-13</th>\n",
       "      <th>2024-03-12</th>\n",
       "      <th>2024-03-11</th>\n",
       "      <th>2024-03-08</th>\n",
       "      <th>2024-03-07</th>\n",
       "      <th>2024-03-06</th>\n",
       "      <th>...</th>\n",
       "      <th>2023-11-07</th>\n",
       "      <th>2023-11-06</th>\n",
       "      <th>2023-11-03</th>\n",
       "      <th>2023-11-02</th>\n",
       "      <th>2023-11-01</th>\n",
       "      <th>2023-10-31</th>\n",
       "      <th>2023-10-30</th>\n",
       "      <th>2023-10-27</th>\n",
       "      <th>2023-10-26</th>\n",
       "      <th>2023-10-25</th>\n",
       "    </tr>\n",
       "  </thead>\n",
       "  <tbody>\n",
       "    <tr>\n",
       "      <th>1. open</th>\n",
       "      <td>191.4900</td>\n",
       "      <td>191.7000</td>\n",
       "      <td>191.9900</td>\n",
       "      <td>196.9500</td>\n",
       "      <td>197.5500</td>\n",
       "      <td>192.4600</td>\n",
       "      <td>195.0900</td>\n",
       "      <td>196.0600</td>\n",
       "      <td>197.5800</td>\n",
       "      <td>193.5000</td>\n",
       "      <td>...</td>\n",
       "      <td>149.0300</td>\n",
       "      <td>147.8900</td>\n",
       "      <td>147.4500</td>\n",
       "      <td>145.7700</td>\n",
       "      <td>145.0000</td>\n",
       "      <td>143.0000</td>\n",
       "      <td>143.1900</td>\n",
       "      <td>143.6200</td>\n",
       "      <td>142.2000</td>\n",
       "      <td>137.5000</td>\n",
       "    </tr>\n",
       "    <tr>\n",
       "      <th>2. high</th>\n",
       "      <td>193.5800</td>\n",
       "      <td>193.2300</td>\n",
       "      <td>193.0573</td>\n",
       "      <td>197.7480</td>\n",
       "      <td>198.1000</td>\n",
       "      <td>199.1800</td>\n",
       "      <td>195.3800</td>\n",
       "      <td>197.7700</td>\n",
       "      <td>198.7300</td>\n",
       "      <td>198.1300</td>\n",
       "      <td>...</td>\n",
       "      <td>149.2800</td>\n",
       "      <td>149.2250</td>\n",
       "      <td>148.4450</td>\n",
       "      <td>147.1000</td>\n",
       "      <td>146.5100</td>\n",
       "      <td>144.7600</td>\n",
       "      <td>144.5000</td>\n",
       "      <td>144.7000</td>\n",
       "      <td>144.4100</td>\n",
       "      <td>138.4900</td>\n",
       "    </tr>\n",
       "    <tr>\n",
       "      <th>3. low</th>\n",
       "      <td>190.2800</td>\n",
       "      <td>190.3200</td>\n",
       "      <td>190.7000</td>\n",
       "      <td>192.1200</td>\n",
       "      <td>195.3200</td>\n",
       "      <td>192.1500</td>\n",
       "      <td>190.8800</td>\n",
       "      <td>194.3800</td>\n",
       "      <td>196.1400</td>\n",
       "      <td>192.9600</td>\n",
       "      <td>...</td>\n",
       "      <td>148.0300</td>\n",
       "      <td>147.8500</td>\n",
       "      <td>147.2800</td>\n",
       "      <td>144.8400</td>\n",
       "      <td>144.4500</td>\n",
       "      <td>142.5900</td>\n",
       "      <td>142.5800</td>\n",
       "      <td>141.7100</td>\n",
       "      <td>141.5800</td>\n",
       "      <td>136.3300</td>\n",
       "    </tr>\n",
       "    <tr>\n",
       "      <th>4. close</th>\n",
       "      <td>193.3400</td>\n",
       "      <td>191.6900</td>\n",
       "      <td>191.0700</td>\n",
       "      <td>193.4300</td>\n",
       "      <td>196.7000</td>\n",
       "      <td>197.7800</td>\n",
       "      <td>191.7300</td>\n",
       "      <td>195.9500</td>\n",
       "      <td>196.5400</td>\n",
       "      <td>196.1600</td>\n",
       "      <td>...</td>\n",
       "      <td>148.8300</td>\n",
       "      <td>148.9700</td>\n",
       "      <td>147.9000</td>\n",
       "      <td>147.0100</td>\n",
       "      <td>145.4000</td>\n",
       "      <td>144.6400</td>\n",
       "      <td>142.6300</td>\n",
       "      <td>142.5200</td>\n",
       "      <td>143.7600</td>\n",
       "      <td>137.0800</td>\n",
       "    </tr>\n",
       "    <tr>\n",
       "      <th>5. volume</th>\n",
       "      <td>5317341</td>\n",
       "      <td>5410562</td>\n",
       "      <td>8828184</td>\n",
       "      <td>4102202</td>\n",
       "      <td>3960737</td>\n",
       "      <td>5862512</td>\n",
       "      <td>4712688</td>\n",
       "      <td>3943113</td>\n",
       "      <td>4604458</td>\n",
       "      <td>6945818</td>\n",
       "      <td>...</td>\n",
       "      <td>3549853</td>\n",
       "      <td>4597249</td>\n",
       "      <td>3510495</td>\n",
       "      <td>3902657</td>\n",
       "      <td>4750081</td>\n",
       "      <td>6592041</td>\n",
       "      <td>4204190</td>\n",
       "      <td>5469227</td>\n",
       "      <td>11130170</td>\n",
       "      <td>6472549</td>\n",
       "    </tr>\n",
       "  </tbody>\n",
       "</table>\n",
       "<p>5 rows × 100 columns</p>\n",
       "</div>"
      ],
      "text/plain": [
       "          2024-03-19 2024-03-18 2024-03-15 2024-03-14 2024-03-13 2024-03-12  \\\n",
       "1. open     191.4900   191.7000   191.9900   196.9500   197.5500   192.4600   \n",
       "2. high     193.5800   193.2300   193.0573   197.7480   198.1000   199.1800   \n",
       "3. low      190.2800   190.3200   190.7000   192.1200   195.3200   192.1500   \n",
       "4. close    193.3400   191.6900   191.0700   193.4300   196.7000   197.7800   \n",
       "5. volume    5317341    5410562    8828184    4102202    3960737    5862512   \n",
       "\n",
       "          2024-03-11 2024-03-08 2024-03-07 2024-03-06  ... 2023-11-07  \\\n",
       "1. open     195.0900   196.0600   197.5800   193.5000  ...   149.0300   \n",
       "2. high     195.3800   197.7700   198.7300   198.1300  ...   149.2800   \n",
       "3. low      190.8800   194.3800   196.1400   192.9600  ...   148.0300   \n",
       "4. close    191.7300   195.9500   196.5400   196.1600  ...   148.8300   \n",
       "5. volume    4712688    3943113    4604458    6945818  ...    3549853   \n",
       "\n",
       "          2023-11-06 2023-11-03 2023-11-02 2023-11-01 2023-10-31 2023-10-30  \\\n",
       "1. open     147.8900   147.4500   145.7700   145.0000   143.0000   143.1900   \n",
       "2. high     149.2250   148.4450   147.1000   146.5100   144.7600   144.5000   \n",
       "3. low      147.8500   147.2800   144.8400   144.4500   142.5900   142.5800   \n",
       "4. close    148.9700   147.9000   147.0100   145.4000   144.6400   142.6300   \n",
       "5. volume    4597249    3510495    3902657    4750081    6592041    4204190   \n",
       "\n",
       "          2023-10-27 2023-10-26 2023-10-25  \n",
       "1. open     143.6200   142.2000   137.5000  \n",
       "2. high     144.7000   144.4100   138.4900  \n",
       "3. low      141.7100   141.5800   136.3300  \n",
       "4. close    142.5200   143.7600   137.0800  \n",
       "5. volume    5469227   11130170    6472549  \n",
       "\n",
       "[5 rows x 100 columns]"
      ]
     },
     "execution_count": 42,
     "metadata": {},
     "output_type": "execute_result"
    }
   ],
   "source": [
    "pd.DataFrame(data[\"Time Series (Daily)\"])"
   ]
  },
  {
   "cell_type": "code",
   "execution_count": 43,
   "metadata": {},
   "outputs": [
    {
     "data": {
      "text/html": [
       "<div>\n",
       "<style scoped>\n",
       "    .dataframe tbody tr th:only-of-type {\n",
       "        vertical-align: middle;\n",
       "    }\n",
       "\n",
       "    .dataframe tbody tr th {\n",
       "        vertical-align: top;\n",
       "    }\n",
       "\n",
       "    .dataframe thead th {\n",
       "        text-align: right;\n",
       "    }\n",
       "</style>\n",
       "<table border=\"1\" class=\"dataframe\">\n",
       "  <thead>\n",
       "    <tr style=\"text-align: right;\">\n",
       "      <th></th>\n",
       "      <th>1. open</th>\n",
       "      <th>2. high</th>\n",
       "      <th>3. low</th>\n",
       "      <th>4. close</th>\n",
       "      <th>5. volume</th>\n",
       "    </tr>\n",
       "  </thead>\n",
       "  <tbody>\n",
       "    <tr>\n",
       "      <th>2024-03-19</th>\n",
       "      <td>191.4900</td>\n",
       "      <td>193.5800</td>\n",
       "      <td>190.2800</td>\n",
       "      <td>193.3400</td>\n",
       "      <td>5317341</td>\n",
       "    </tr>\n",
       "    <tr>\n",
       "      <th>2024-03-18</th>\n",
       "      <td>191.7000</td>\n",
       "      <td>193.2300</td>\n",
       "      <td>190.3200</td>\n",
       "      <td>191.6900</td>\n",
       "      <td>5410562</td>\n",
       "    </tr>\n",
       "    <tr>\n",
       "      <th>2024-03-15</th>\n",
       "      <td>191.9900</td>\n",
       "      <td>193.0573</td>\n",
       "      <td>190.7000</td>\n",
       "      <td>191.0700</td>\n",
       "      <td>8828184</td>\n",
       "    </tr>\n",
       "    <tr>\n",
       "      <th>2024-03-14</th>\n",
       "      <td>196.9500</td>\n",
       "      <td>197.7480</td>\n",
       "      <td>192.1200</td>\n",
       "      <td>193.4300</td>\n",
       "      <td>4102202</td>\n",
       "    </tr>\n",
       "    <tr>\n",
       "      <th>2024-03-13</th>\n",
       "      <td>197.5500</td>\n",
       "      <td>198.1000</td>\n",
       "      <td>195.3200</td>\n",
       "      <td>196.7000</td>\n",
       "      <td>3960737</td>\n",
       "    </tr>\n",
       "    <tr>\n",
       "      <th>...</th>\n",
       "      <td>...</td>\n",
       "      <td>...</td>\n",
       "      <td>...</td>\n",
       "      <td>...</td>\n",
       "      <td>...</td>\n",
       "    </tr>\n",
       "    <tr>\n",
       "      <th>2023-10-31</th>\n",
       "      <td>143.0000</td>\n",
       "      <td>144.7600</td>\n",
       "      <td>142.5900</td>\n",
       "      <td>144.6400</td>\n",
       "      <td>6592041</td>\n",
       "    </tr>\n",
       "    <tr>\n",
       "      <th>2023-10-30</th>\n",
       "      <td>143.1900</td>\n",
       "      <td>144.5000</td>\n",
       "      <td>142.5800</td>\n",
       "      <td>142.6300</td>\n",
       "      <td>4204190</td>\n",
       "    </tr>\n",
       "    <tr>\n",
       "      <th>2023-10-27</th>\n",
       "      <td>143.6200</td>\n",
       "      <td>144.7000</td>\n",
       "      <td>141.7100</td>\n",
       "      <td>142.5200</td>\n",
       "      <td>5469227</td>\n",
       "    </tr>\n",
       "    <tr>\n",
       "      <th>2023-10-26</th>\n",
       "      <td>142.2000</td>\n",
       "      <td>144.4100</td>\n",
       "      <td>141.5800</td>\n",
       "      <td>143.7600</td>\n",
       "      <td>11130170</td>\n",
       "    </tr>\n",
       "    <tr>\n",
       "      <th>2023-10-25</th>\n",
       "      <td>137.5000</td>\n",
       "      <td>138.4900</td>\n",
       "      <td>136.3300</td>\n",
       "      <td>137.0800</td>\n",
       "      <td>6472549</td>\n",
       "    </tr>\n",
       "  </tbody>\n",
       "</table>\n",
       "<p>100 rows × 5 columns</p>\n",
       "</div>"
      ],
      "text/plain": [
       "             1. open   2. high    3. low  4. close 5. volume\n",
       "2024-03-19  191.4900  193.5800  190.2800  193.3400   5317341\n",
       "2024-03-18  191.7000  193.2300  190.3200  191.6900   5410562\n",
       "2024-03-15  191.9900  193.0573  190.7000  191.0700   8828184\n",
       "2024-03-14  196.9500  197.7480  192.1200  193.4300   4102202\n",
       "2024-03-13  197.5500  198.1000  195.3200  196.7000   3960737\n",
       "...              ...       ...       ...       ...       ...\n",
       "2023-10-31  143.0000  144.7600  142.5900  144.6400   6592041\n",
       "2023-10-30  143.1900  144.5000  142.5800  142.6300   4204190\n",
       "2023-10-27  143.6200  144.7000  141.7100  142.5200   5469227\n",
       "2023-10-26  142.2000  144.4100  141.5800  143.7600  11130170\n",
       "2023-10-25  137.5000  138.4900  136.3300  137.0800   6472549\n",
       "\n",
       "[100 rows x 5 columns]"
      ]
     },
     "execution_count": 43,
     "metadata": {},
     "output_type": "execute_result"
    }
   ],
   "source": [
    "pd.DataFrame(data[\"Time Series (Daily)\"]).transpose()"
   ]
  },
  {
   "cell_type": "markdown",
   "metadata": {},
   "source": [
    "# Iterate over severals symbols "
   ]
  },
  {
   "cell_type": "code",
   "execution_count": 44,
   "metadata": {},
   "outputs": [],
   "source": [
    "symbols = [\"AAPL\", \"NVDA\", \"TSLA\", \"IBM\"]\n",
    "stock_list = []\n",
    "\n",
    "for symbol in symbols:\n",
    "    function = \"TIME_SERIES_DAILY\"\n",
    "\n",
    "    url = f'https://www.alphavantage.co/query?function={function}&symbol={symbol}&apikey={api_key}'\n",
    "    #url = f'https://www.alphavantage.co/query?function={function}&symbol={symbol}&apikey={api_key}'\n",
    "    data = requests.get(url).json()\n",
    "    df = pd.DataFrame(data[\"Time Series (Daily)\"]).transpose()\n",
    "    df = df[\"4. close\"].rename(symbol).astype(float)\n",
    "    stock_list.append(df)"
   ]
  },
  {
   "cell_type": "code",
   "execution_count": 45,
   "metadata": {},
   "outputs": [
    {
     "data": {
      "text/html": [
       "<div>\n",
       "<style scoped>\n",
       "    .dataframe tbody tr th:only-of-type {\n",
       "        vertical-align: middle;\n",
       "    }\n",
       "\n",
       "    .dataframe tbody tr th {\n",
       "        vertical-align: top;\n",
       "    }\n",
       "\n",
       "    .dataframe thead th {\n",
       "        text-align: right;\n",
       "    }\n",
       "</style>\n",
       "<table border=\"1\" class=\"dataframe\">\n",
       "  <thead>\n",
       "    <tr style=\"text-align: right;\">\n",
       "      <th></th>\n",
       "      <th>AAPL</th>\n",
       "      <th>NVDA</th>\n",
       "      <th>TSLA</th>\n",
       "      <th>IBM</th>\n",
       "    </tr>\n",
       "  </thead>\n",
       "  <tbody>\n",
       "    <tr>\n",
       "      <th>2024-03-19</th>\n",
       "      <td>176.08</td>\n",
       "      <td>893.980</td>\n",
       "      <td>171.32</td>\n",
       "      <td>193.34</td>\n",
       "    </tr>\n",
       "    <tr>\n",
       "      <th>2024-03-18</th>\n",
       "      <td>173.72</td>\n",
       "      <td>884.550</td>\n",
       "      <td>173.80</td>\n",
       "      <td>191.69</td>\n",
       "    </tr>\n",
       "    <tr>\n",
       "      <th>2024-03-15</th>\n",
       "      <td>172.62</td>\n",
       "      <td>878.365</td>\n",
       "      <td>163.57</td>\n",
       "      <td>191.07</td>\n",
       "    </tr>\n",
       "    <tr>\n",
       "      <th>2024-03-14</th>\n",
       "      <td>173.00</td>\n",
       "      <td>879.440</td>\n",
       "      <td>162.50</td>\n",
       "      <td>193.43</td>\n",
       "    </tr>\n",
       "    <tr>\n",
       "      <th>2024-03-13</th>\n",
       "      <td>171.13</td>\n",
       "      <td>908.880</td>\n",
       "      <td>169.48</td>\n",
       "      <td>196.70</td>\n",
       "    </tr>\n",
       "    <tr>\n",
       "      <th>...</th>\n",
       "      <td>...</td>\n",
       "      <td>...</td>\n",
       "      <td>...</td>\n",
       "      <td>...</td>\n",
       "    </tr>\n",
       "    <tr>\n",
       "      <th>2023-10-31</th>\n",
       "      <td>170.77</td>\n",
       "      <td>407.800</td>\n",
       "      <td>200.84</td>\n",
       "      <td>144.64</td>\n",
       "    </tr>\n",
       "    <tr>\n",
       "      <th>2023-10-30</th>\n",
       "      <td>170.29</td>\n",
       "      <td>411.610</td>\n",
       "      <td>197.36</td>\n",
       "      <td>142.63</td>\n",
       "    </tr>\n",
       "    <tr>\n",
       "      <th>2023-10-27</th>\n",
       "      <td>168.22</td>\n",
       "      <td>405.000</td>\n",
       "      <td>207.30</td>\n",
       "      <td>142.52</td>\n",
       "    </tr>\n",
       "    <tr>\n",
       "      <th>2023-10-26</th>\n",
       "      <td>166.89</td>\n",
       "      <td>403.260</td>\n",
       "      <td>205.76</td>\n",
       "      <td>143.76</td>\n",
       "    </tr>\n",
       "    <tr>\n",
       "      <th>2023-10-25</th>\n",
       "      <td>171.10</td>\n",
       "      <td>417.790</td>\n",
       "      <td>212.42</td>\n",
       "      <td>137.08</td>\n",
       "    </tr>\n",
       "  </tbody>\n",
       "</table>\n",
       "<p>100 rows × 4 columns</p>\n",
       "</div>"
      ],
      "text/plain": [
       "              AAPL     NVDA    TSLA     IBM\n",
       "2024-03-19  176.08  893.980  171.32  193.34\n",
       "2024-03-18  173.72  884.550  173.80  191.69\n",
       "2024-03-15  172.62  878.365  163.57  191.07\n",
       "2024-03-14  173.00  879.440  162.50  193.43\n",
       "2024-03-13  171.13  908.880  169.48  196.70\n",
       "...            ...      ...     ...     ...\n",
       "2023-10-31  170.77  407.800  200.84  144.64\n",
       "2023-10-30  170.29  411.610  197.36  142.63\n",
       "2023-10-27  168.22  405.000  207.30  142.52\n",
       "2023-10-26  166.89  403.260  205.76  143.76\n",
       "2023-10-25  171.10  417.790  212.42  137.08\n",
       "\n",
       "[100 rows x 4 columns]"
      ]
     },
     "execution_count": 45,
     "metadata": {},
     "output_type": "execute_result"
    }
   ],
   "source": [
    "# concatenate the list of series to a df\n",
    "stocks = pd.concat(stock_list, axis=1)\n",
    "stocks\n"
   ]
  },
  {
   "cell_type": "code",
   "execution_count": 31,
   "metadata": {},
   "outputs": [
    {
     "data": {
      "application/vnd.plotly.v1+json": {
       "config": {
        "plotlyServerURL": "https://plotly.com"
       },
       "data": [
        {
         "hovertemplate": "Stock=AAPL<br>Year=%{x}<br>Value $=%{y}<extra></extra>",
         "legendgroup": "AAPL",
         "line": {
          "color": "#636efa",
          "dash": "solid"
         },
         "marker": {
          "symbol": "circle"
         },
         "mode": "lines",
         "name": "AAPL",
         "orientation": "v",
         "showlegend": true,
         "type": "scatter",
         "x": [
          "2024-03-19",
          "2024-03-18",
          "2024-03-15",
          "2024-03-14",
          "2024-03-13",
          "2024-03-12",
          "2024-03-11",
          "2024-03-08",
          "2024-03-07",
          "2024-03-06",
          "2024-03-05",
          "2024-03-04",
          "2024-03-01",
          "2024-02-29",
          "2024-02-28",
          "2024-02-27",
          "2024-02-26",
          "2024-02-23",
          "2024-02-22",
          "2024-02-21",
          "2024-02-20",
          "2024-02-16",
          "2024-02-15",
          "2024-02-14",
          "2024-02-13",
          "2024-02-12",
          "2024-02-09",
          "2024-02-08",
          "2024-02-07",
          "2024-02-06",
          "2024-02-05",
          "2024-02-02",
          "2024-02-01",
          "2024-01-31",
          "2024-01-30",
          "2024-01-29",
          "2024-01-26",
          "2024-01-25",
          "2024-01-24",
          "2024-01-23",
          "2024-01-22",
          "2024-01-19",
          "2024-01-18",
          "2024-01-17",
          "2024-01-16",
          "2024-01-12",
          "2024-01-11",
          "2024-01-10",
          "2024-01-09",
          "2024-01-08",
          "2024-01-05",
          "2024-01-04",
          "2024-01-03",
          "2024-01-02",
          "2023-12-29",
          "2023-12-28",
          "2023-12-27",
          "2023-12-26",
          "2023-12-22",
          "2023-12-21",
          "2023-12-20",
          "2023-12-19",
          "2023-12-18",
          "2023-12-15",
          "2023-12-14",
          "2023-12-13",
          "2023-12-12",
          "2023-12-11",
          "2023-12-08",
          "2023-12-07",
          "2023-12-06",
          "2023-12-05",
          "2023-12-04",
          "2023-12-01",
          "2023-11-30",
          "2023-11-29",
          "2023-11-28",
          "2023-11-27",
          "2023-11-24",
          "2023-11-22",
          "2023-11-21",
          "2023-11-20",
          "2023-11-17",
          "2023-11-16",
          "2023-11-15",
          "2023-11-14",
          "2023-11-13",
          "2023-11-10",
          "2023-11-09",
          "2023-11-08",
          "2023-11-07",
          "2023-11-06",
          "2023-11-03",
          "2023-11-02",
          "2023-11-01",
          "2023-10-31",
          "2023-10-30",
          "2023-10-27",
          "2023-10-26",
          "2023-10-25"
         ],
         "xaxis": "x",
         "y": [
          176.08,
          173.72,
          172.62,
          173,
          171.13,
          173.23,
          172.75,
          170.73,
          169,
          169.12,
          170.12,
          175.1,
          179.66,
          180.75,
          181.42,
          182.63,
          181.16,
          182.52,
          184.37,
          182.32,
          181.56,
          182.31,
          183.86,
          184.15,
          185.04,
          187.15,
          188.85,
          188.32,
          189.41,
          189.3,
          187.68,
          185.85,
          186.86,
          184.4,
          188.04,
          191.73,
          192.42,
          194.17,
          194.5,
          195.18,
          193.89,
          191.56,
          188.63,
          182.68,
          183.63,
          185.92,
          185.59,
          186.19,
          185.14,
          185.56,
          181.18,
          181.91,
          184.25,
          185.64,
          192.53,
          193.58,
          193.15,
          193.05,
          193.6,
          194.68,
          194.83,
          196.94,
          195.89,
          197.57,
          198.11,
          197.96,
          194.71,
          193.18,
          195.71,
          194.27,
          192.32,
          193.42,
          189.43,
          191.24,
          189.95,
          189.37,
          190.4,
          189.79,
          189.97,
          191.31,
          190.64,
          191.45,
          189.69,
          189.71,
          188.01,
          187.44,
          184.8,
          186.4,
          182.41,
          182.89,
          181.82,
          179.23,
          176.65,
          177.57,
          173.97,
          170.77,
          170.29,
          168.22,
          166.89,
          171.1
         ],
         "yaxis": "y"
        },
        {
         "hovertemplate": "Stock=NVDA<br>Year=%{x}<br>Value $=%{y}<extra></extra>",
         "legendgroup": "NVDA",
         "line": {
          "color": "#EF553B",
          "dash": "solid"
         },
         "marker": {
          "symbol": "circle"
         },
         "mode": "lines",
         "name": "NVDA",
         "orientation": "v",
         "showlegend": true,
         "type": "scatter",
         "x": [
          "2024-03-19",
          "2024-03-18",
          "2024-03-15",
          "2024-03-14",
          "2024-03-13",
          "2024-03-12",
          "2024-03-11",
          "2024-03-08",
          "2024-03-07",
          "2024-03-06",
          "2024-03-05",
          "2024-03-04",
          "2024-03-01",
          "2024-02-29",
          "2024-02-28",
          "2024-02-27",
          "2024-02-26",
          "2024-02-23",
          "2024-02-22",
          "2024-02-21",
          "2024-02-20",
          "2024-02-16",
          "2024-02-15",
          "2024-02-14",
          "2024-02-13",
          "2024-02-12",
          "2024-02-09",
          "2024-02-08",
          "2024-02-07",
          "2024-02-06",
          "2024-02-05",
          "2024-02-02",
          "2024-02-01",
          "2024-01-31",
          "2024-01-30",
          "2024-01-29",
          "2024-01-26",
          "2024-01-25",
          "2024-01-24",
          "2024-01-23",
          "2024-01-22",
          "2024-01-19",
          "2024-01-18",
          "2024-01-17",
          "2024-01-16",
          "2024-01-12",
          "2024-01-11",
          "2024-01-10",
          "2024-01-09",
          "2024-01-08",
          "2024-01-05",
          "2024-01-04",
          "2024-01-03",
          "2024-01-02",
          "2023-12-29",
          "2023-12-28",
          "2023-12-27",
          "2023-12-26",
          "2023-12-22",
          "2023-12-21",
          "2023-12-20",
          "2023-12-19",
          "2023-12-18",
          "2023-12-15",
          "2023-12-14",
          "2023-12-13",
          "2023-12-12",
          "2023-12-11",
          "2023-12-08",
          "2023-12-07",
          "2023-12-06",
          "2023-12-05",
          "2023-12-04",
          "2023-12-01",
          "2023-11-30",
          "2023-11-29",
          "2023-11-28",
          "2023-11-27",
          "2023-11-24",
          "2023-11-22",
          "2023-11-21",
          "2023-11-20",
          "2023-11-17",
          "2023-11-16",
          "2023-11-15",
          "2023-11-14",
          "2023-11-13",
          "2023-11-10",
          "2023-11-09",
          "2023-11-08",
          "2023-11-07",
          "2023-11-06",
          "2023-11-03",
          "2023-11-02",
          "2023-11-01",
          "2023-10-31",
          "2023-10-30",
          "2023-10-27",
          "2023-10-26",
          "2023-10-25"
         ],
         "xaxis": "x",
         "y": [
          893.98,
          884.55,
          878.365,
          879.44,
          908.88,
          919.13,
          857.74,
          875.28,
          926.69,
          887,
          859.64,
          852.37,
          822.79,
          791.12,
          776.63,
          787.01,
          790.92,
          788.17,
          785.38,
          674.72,
          694.52,
          726.13,
          726.58,
          739,
          721.28,
          722.48,
          721.33,
          696.41,
          700.99,
          682.23,
          693.32,
          661.6,
          630.27,
          615.27,
          627.74,
          624.65,
          610.31,
          616.17,
          613.62,
          598.73,
          596.54,
          594.91,
          571.07,
          560.53,
          563.82,
          547.1,
          548.22,
          543.5,
          531.4,
          522.53,
          490.97,
          479.98,
          475.69,
          481.68,
          495.22,
          495.22,
          494.17,
          492.79,
          488.3,
          489.9,
          481.11,
          496.04,
          500.77,
          488.9,
          483.5,
          480.88,
          476.57,
          466.27,
          475.06,
          465.96,
          455.03,
          465.66,
          455.1,
          467.65,
          467.7,
          481.4,
          478.21,
          482.42,
          477.76,
          487.16,
          499.44,
          504.09,
          492.98,
          494.8,
          488.88,
          496.56,
          486.2,
          483.35,
          469.5,
          465.74,
          459.55,
          457.51,
          450.05,
          435.06,
          423.25,
          407.8,
          411.61,
          405,
          403.26,
          417.79
         ],
         "yaxis": "y"
        },
        {
         "hovertemplate": "Stock=TSLA<br>Year=%{x}<br>Value $=%{y}<extra></extra>",
         "legendgroup": "TSLA",
         "line": {
          "color": "#00cc96",
          "dash": "solid"
         },
         "marker": {
          "symbol": "circle"
         },
         "mode": "lines",
         "name": "TSLA",
         "orientation": "v",
         "showlegend": true,
         "type": "scatter",
         "x": [
          "2024-03-19",
          "2024-03-18",
          "2024-03-15",
          "2024-03-14",
          "2024-03-13",
          "2024-03-12",
          "2024-03-11",
          "2024-03-08",
          "2024-03-07",
          "2024-03-06",
          "2024-03-05",
          "2024-03-04",
          "2024-03-01",
          "2024-02-29",
          "2024-02-28",
          "2024-02-27",
          "2024-02-26",
          "2024-02-23",
          "2024-02-22",
          "2024-02-21",
          "2024-02-20",
          "2024-02-16",
          "2024-02-15",
          "2024-02-14",
          "2024-02-13",
          "2024-02-12",
          "2024-02-09",
          "2024-02-08",
          "2024-02-07",
          "2024-02-06",
          "2024-02-05",
          "2024-02-02",
          "2024-02-01",
          "2024-01-31",
          "2024-01-30",
          "2024-01-29",
          "2024-01-26",
          "2024-01-25",
          "2024-01-24",
          "2024-01-23",
          "2024-01-22",
          "2024-01-19",
          "2024-01-18",
          "2024-01-17",
          "2024-01-16",
          "2024-01-12",
          "2024-01-11",
          "2024-01-10",
          "2024-01-09",
          "2024-01-08",
          "2024-01-05",
          "2024-01-04",
          "2024-01-03",
          "2024-01-02",
          "2023-12-29",
          "2023-12-28",
          "2023-12-27",
          "2023-12-26",
          "2023-12-22",
          "2023-12-21",
          "2023-12-20",
          "2023-12-19",
          "2023-12-18",
          "2023-12-15",
          "2023-12-14",
          "2023-12-13",
          "2023-12-12",
          "2023-12-11",
          "2023-12-08",
          "2023-12-07",
          "2023-12-06",
          "2023-12-05",
          "2023-12-04",
          "2023-12-01",
          "2023-11-30",
          "2023-11-29",
          "2023-11-28",
          "2023-11-27",
          "2023-11-24",
          "2023-11-22",
          "2023-11-21",
          "2023-11-20",
          "2023-11-17",
          "2023-11-16",
          "2023-11-15",
          "2023-11-14",
          "2023-11-13",
          "2023-11-10",
          "2023-11-09",
          "2023-11-08",
          "2023-11-07",
          "2023-11-06",
          "2023-11-03",
          "2023-11-02",
          "2023-11-01",
          "2023-10-31",
          "2023-10-30",
          "2023-10-27",
          "2023-10-26",
          "2023-10-25"
         ],
         "xaxis": "x",
         "y": [
          171.32,
          173.8,
          163.57,
          162.5,
          169.48,
          177.54,
          177.77,
          175.34,
          178.65,
          176.54,
          180.74,
          188.14,
          202.64,
          201.88,
          202.04,
          199.73,
          199.4,
          191.97,
          197.41,
          194.77,
          193.76,
          199.95,
          200.45,
          188.71,
          184.02,
          188.13,
          193.57,
          189.56,
          187.58,
          185.1,
          181.06,
          187.91,
          188.86,
          187.29,
          191.59,
          190.93,
          183.25,
          182.63,
          207.83,
          209.14,
          208.8,
          212.19,
          211.88,
          215.55,
          219.91,
          218.89,
          227.22,
          233.94,
          234.96,
          240.45,
          237.49,
          237.93,
          238.45,
          248.42,
          248.48,
          253.18,
          261.44,
          256.61,
          252.54,
          254.5,
          247.14,
          257.22,
          252.08,
          253.5,
          251.05,
          239.29,
          237.01,
          239.74,
          243.84,
          242.64,
          239.37,
          238.72,
          235.58,
          238.83,
          240.08,
          244.14,
          246.72,
          236.08,
          235.45,
          234.21,
          241.2,
          235.6,
          234.3,
          233.59,
          242.84,
          237.41,
          223.71,
          214.65,
          209.98,
          222.11,
          222.18,
          219.27,
          219.96,
          218.51,
          205.66,
          200.84,
          197.36,
          207.3,
          205.76,
          212.42
         ],
         "yaxis": "y"
        },
        {
         "hovertemplate": "Stock=IBM<br>Year=%{x}<br>Value $=%{y}<extra></extra>",
         "legendgroup": "IBM",
         "line": {
          "color": "#ab63fa",
          "dash": "solid"
         },
         "marker": {
          "symbol": "circle"
         },
         "mode": "lines",
         "name": "IBM",
         "orientation": "v",
         "showlegend": true,
         "type": "scatter",
         "x": [
          "2024-03-19",
          "2024-03-18",
          "2024-03-15",
          "2024-03-14",
          "2024-03-13",
          "2024-03-12",
          "2024-03-11",
          "2024-03-08",
          "2024-03-07",
          "2024-03-06",
          "2024-03-05",
          "2024-03-04",
          "2024-03-01",
          "2024-02-29",
          "2024-02-28",
          "2024-02-27",
          "2024-02-26",
          "2024-02-23",
          "2024-02-22",
          "2024-02-21",
          "2024-02-20",
          "2024-02-16",
          "2024-02-15",
          "2024-02-14",
          "2024-02-13",
          "2024-02-12",
          "2024-02-09",
          "2024-02-08",
          "2024-02-07",
          "2024-02-06",
          "2024-02-05",
          "2024-02-02",
          "2024-02-01",
          "2024-01-31",
          "2024-01-30",
          "2024-01-29",
          "2024-01-26",
          "2024-01-25",
          "2024-01-24",
          "2024-01-23",
          "2024-01-22",
          "2024-01-19",
          "2024-01-18",
          "2024-01-17",
          "2024-01-16",
          "2024-01-12",
          "2024-01-11",
          "2024-01-10",
          "2024-01-09",
          "2024-01-08",
          "2024-01-05",
          "2024-01-04",
          "2024-01-03",
          "2024-01-02",
          "2023-12-29",
          "2023-12-28",
          "2023-12-27",
          "2023-12-26",
          "2023-12-22",
          "2023-12-21",
          "2023-12-20",
          "2023-12-19",
          "2023-12-18",
          "2023-12-15",
          "2023-12-14",
          "2023-12-13",
          "2023-12-12",
          "2023-12-11",
          "2023-12-08",
          "2023-12-07",
          "2023-12-06",
          "2023-12-05",
          "2023-12-04",
          "2023-12-01",
          "2023-11-30",
          "2023-11-29",
          "2023-11-28",
          "2023-11-27",
          "2023-11-24",
          "2023-11-22",
          "2023-11-21",
          "2023-11-20",
          "2023-11-17",
          "2023-11-16",
          "2023-11-15",
          "2023-11-14",
          "2023-11-13",
          "2023-11-10",
          "2023-11-09",
          "2023-11-08",
          "2023-11-07",
          "2023-11-06",
          "2023-11-03",
          "2023-11-02",
          "2023-11-01",
          "2023-10-31",
          "2023-10-30",
          "2023-10-27",
          "2023-10-26",
          "2023-10-25"
         ],
         "xaxis": "x",
         "y": [
          193.34,
          191.69,
          191.07,
          193.43,
          196.7,
          197.78,
          191.73,
          195.95,
          196.54,
          196.16,
          191.95,
          193.06,
          188.2,
          185.03,
          185.3,
          184.87,
          184.13,
          185.72,
          184.21,
          179.7,
          183.44,
          187.64,
          186.87,
          183.57,
          183.7,
          186.16,
          186.34,
          184.36,
          183.74,
          183.41,
          183.42,
          185.79,
          186.9,
          183.66,
          187.87,
          187.14,
          187.42,
          190.43,
          173.93,
          173.94,
          172.83,
          171.48,
          166.84,
          166.08,
          166.96,
          165.8,
          162.16,
          161.23,
          160.08,
          161.14,
          159.16,
          160.86,
          160.1,
          161.5,
          163.55,
          163.75,
          163.46,
          163.21,
          162.14,
          160.78,
          160.05,
          161.56,
          162.74,
          162.23,
          162.91,
          163.62,
          164.71,
          163.51,
          161.96,
          160.22,
          160.28,
          161.39,
          161.1,
          160.55,
          158.56,
          156.41,
          155.65,
          155.57,
          155.18,
          155.13,
          153.91,
          154.35,
          152.89,
          153.06,
          152.58,
          150.41,
          148.1,
          149.02,
          146.62,
          148.03,
          148.83,
          148.97,
          147.9,
          147.01,
          145.4,
          144.64,
          142.63,
          142.52,
          143.76,
          137.08
         ],
         "yaxis": "y"
        }
       ],
       "layout": {
        "legend": {
         "title": {
          "text": "Stock"
         },
         "tracegroupgap": 0
        },
        "template": {
         "data": {
          "bar": [
           {
            "error_x": {
             "color": "#2a3f5f"
            },
            "error_y": {
             "color": "#2a3f5f"
            },
            "marker": {
             "line": {
              "color": "#E5ECF6",
              "width": 0.5
             },
             "pattern": {
              "fillmode": "overlay",
              "size": 10,
              "solidity": 0.2
             }
            },
            "type": "bar"
           }
          ],
          "barpolar": [
           {
            "marker": {
             "line": {
              "color": "#E5ECF6",
              "width": 0.5
             },
             "pattern": {
              "fillmode": "overlay",
              "size": 10,
              "solidity": 0.2
             }
            },
            "type": "barpolar"
           }
          ],
          "carpet": [
           {
            "aaxis": {
             "endlinecolor": "#2a3f5f",
             "gridcolor": "white",
             "linecolor": "white",
             "minorgridcolor": "white",
             "startlinecolor": "#2a3f5f"
            },
            "baxis": {
             "endlinecolor": "#2a3f5f",
             "gridcolor": "white",
             "linecolor": "white",
             "minorgridcolor": "white",
             "startlinecolor": "#2a3f5f"
            },
            "type": "carpet"
           }
          ],
          "choropleth": [
           {
            "colorbar": {
             "outlinewidth": 0,
             "ticks": ""
            },
            "type": "choropleth"
           }
          ],
          "contour": [
           {
            "colorbar": {
             "outlinewidth": 0,
             "ticks": ""
            },
            "colorscale": [
             [
              0,
              "#0d0887"
             ],
             [
              0.1111111111111111,
              "#46039f"
             ],
             [
              0.2222222222222222,
              "#7201a8"
             ],
             [
              0.3333333333333333,
              "#9c179e"
             ],
             [
              0.4444444444444444,
              "#bd3786"
             ],
             [
              0.5555555555555556,
              "#d8576b"
             ],
             [
              0.6666666666666666,
              "#ed7953"
             ],
             [
              0.7777777777777778,
              "#fb9f3a"
             ],
             [
              0.8888888888888888,
              "#fdca26"
             ],
             [
              1,
              "#f0f921"
             ]
            ],
            "type": "contour"
           }
          ],
          "contourcarpet": [
           {
            "colorbar": {
             "outlinewidth": 0,
             "ticks": ""
            },
            "type": "contourcarpet"
           }
          ],
          "heatmap": [
           {
            "colorbar": {
             "outlinewidth": 0,
             "ticks": ""
            },
            "colorscale": [
             [
              0,
              "#0d0887"
             ],
             [
              0.1111111111111111,
              "#46039f"
             ],
             [
              0.2222222222222222,
              "#7201a8"
             ],
             [
              0.3333333333333333,
              "#9c179e"
             ],
             [
              0.4444444444444444,
              "#bd3786"
             ],
             [
              0.5555555555555556,
              "#d8576b"
             ],
             [
              0.6666666666666666,
              "#ed7953"
             ],
             [
              0.7777777777777778,
              "#fb9f3a"
             ],
             [
              0.8888888888888888,
              "#fdca26"
             ],
             [
              1,
              "#f0f921"
             ]
            ],
            "type": "heatmap"
           }
          ],
          "heatmapgl": [
           {
            "colorbar": {
             "outlinewidth": 0,
             "ticks": ""
            },
            "colorscale": [
             [
              0,
              "#0d0887"
             ],
             [
              0.1111111111111111,
              "#46039f"
             ],
             [
              0.2222222222222222,
              "#7201a8"
             ],
             [
              0.3333333333333333,
              "#9c179e"
             ],
             [
              0.4444444444444444,
              "#bd3786"
             ],
             [
              0.5555555555555556,
              "#d8576b"
             ],
             [
              0.6666666666666666,
              "#ed7953"
             ],
             [
              0.7777777777777778,
              "#fb9f3a"
             ],
             [
              0.8888888888888888,
              "#fdca26"
             ],
             [
              1,
              "#f0f921"
             ]
            ],
            "type": "heatmapgl"
           }
          ],
          "histogram": [
           {
            "marker": {
             "pattern": {
              "fillmode": "overlay",
              "size": 10,
              "solidity": 0.2
             }
            },
            "type": "histogram"
           }
          ],
          "histogram2d": [
           {
            "colorbar": {
             "outlinewidth": 0,
             "ticks": ""
            },
            "colorscale": [
             [
              0,
              "#0d0887"
             ],
             [
              0.1111111111111111,
              "#46039f"
             ],
             [
              0.2222222222222222,
              "#7201a8"
             ],
             [
              0.3333333333333333,
              "#9c179e"
             ],
             [
              0.4444444444444444,
              "#bd3786"
             ],
             [
              0.5555555555555556,
              "#d8576b"
             ],
             [
              0.6666666666666666,
              "#ed7953"
             ],
             [
              0.7777777777777778,
              "#fb9f3a"
             ],
             [
              0.8888888888888888,
              "#fdca26"
             ],
             [
              1,
              "#f0f921"
             ]
            ],
            "type": "histogram2d"
           }
          ],
          "histogram2dcontour": [
           {
            "colorbar": {
             "outlinewidth": 0,
             "ticks": ""
            },
            "colorscale": [
             [
              0,
              "#0d0887"
             ],
             [
              0.1111111111111111,
              "#46039f"
             ],
             [
              0.2222222222222222,
              "#7201a8"
             ],
             [
              0.3333333333333333,
              "#9c179e"
             ],
             [
              0.4444444444444444,
              "#bd3786"
             ],
             [
              0.5555555555555556,
              "#d8576b"
             ],
             [
              0.6666666666666666,
              "#ed7953"
             ],
             [
              0.7777777777777778,
              "#fb9f3a"
             ],
             [
              0.8888888888888888,
              "#fdca26"
             ],
             [
              1,
              "#f0f921"
             ]
            ],
            "type": "histogram2dcontour"
           }
          ],
          "mesh3d": [
           {
            "colorbar": {
             "outlinewidth": 0,
             "ticks": ""
            },
            "type": "mesh3d"
           }
          ],
          "parcoords": [
           {
            "line": {
             "colorbar": {
              "outlinewidth": 0,
              "ticks": ""
             }
            },
            "type": "parcoords"
           }
          ],
          "pie": [
           {
            "automargin": true,
            "type": "pie"
           }
          ],
          "scatter": [
           {
            "fillpattern": {
             "fillmode": "overlay",
             "size": 10,
             "solidity": 0.2
            },
            "type": "scatter"
           }
          ],
          "scatter3d": [
           {
            "line": {
             "colorbar": {
              "outlinewidth": 0,
              "ticks": ""
             }
            },
            "marker": {
             "colorbar": {
              "outlinewidth": 0,
              "ticks": ""
             }
            },
            "type": "scatter3d"
           }
          ],
          "scattercarpet": [
           {
            "marker": {
             "colorbar": {
              "outlinewidth": 0,
              "ticks": ""
             }
            },
            "type": "scattercarpet"
           }
          ],
          "scattergeo": [
           {
            "marker": {
             "colorbar": {
              "outlinewidth": 0,
              "ticks": ""
             }
            },
            "type": "scattergeo"
           }
          ],
          "scattergl": [
           {
            "marker": {
             "colorbar": {
              "outlinewidth": 0,
              "ticks": ""
             }
            },
            "type": "scattergl"
           }
          ],
          "scattermapbox": [
           {
            "marker": {
             "colorbar": {
              "outlinewidth": 0,
              "ticks": ""
             }
            },
            "type": "scattermapbox"
           }
          ],
          "scatterpolar": [
           {
            "marker": {
             "colorbar": {
              "outlinewidth": 0,
              "ticks": ""
             }
            },
            "type": "scatterpolar"
           }
          ],
          "scatterpolargl": [
           {
            "marker": {
             "colorbar": {
              "outlinewidth": 0,
              "ticks": ""
             }
            },
            "type": "scatterpolargl"
           }
          ],
          "scatterternary": [
           {
            "marker": {
             "colorbar": {
              "outlinewidth": 0,
              "ticks": ""
             }
            },
            "type": "scatterternary"
           }
          ],
          "surface": [
           {
            "colorbar": {
             "outlinewidth": 0,
             "ticks": ""
            },
            "colorscale": [
             [
              0,
              "#0d0887"
             ],
             [
              0.1111111111111111,
              "#46039f"
             ],
             [
              0.2222222222222222,
              "#7201a8"
             ],
             [
              0.3333333333333333,
              "#9c179e"
             ],
             [
              0.4444444444444444,
              "#bd3786"
             ],
             [
              0.5555555555555556,
              "#d8576b"
             ],
             [
              0.6666666666666666,
              "#ed7953"
             ],
             [
              0.7777777777777778,
              "#fb9f3a"
             ],
             [
              0.8888888888888888,
              "#fdca26"
             ],
             [
              1,
              "#f0f921"
             ]
            ],
            "type": "surface"
           }
          ],
          "table": [
           {
            "cells": {
             "fill": {
              "color": "#EBF0F8"
             },
             "line": {
              "color": "white"
             }
            },
            "header": {
             "fill": {
              "color": "#C8D4E3"
             },
             "line": {
              "color": "white"
             }
            },
            "type": "table"
           }
          ]
         },
         "layout": {
          "annotationdefaults": {
           "arrowcolor": "#2a3f5f",
           "arrowhead": 0,
           "arrowwidth": 1
          },
          "autotypenumbers": "strict",
          "coloraxis": {
           "colorbar": {
            "outlinewidth": 0,
            "ticks": ""
           }
          },
          "colorscale": {
           "diverging": [
            [
             0,
             "#8e0152"
            ],
            [
             0.1,
             "#c51b7d"
            ],
            [
             0.2,
             "#de77ae"
            ],
            [
             0.3,
             "#f1b6da"
            ],
            [
             0.4,
             "#fde0ef"
            ],
            [
             0.5,
             "#f7f7f7"
            ],
            [
             0.6,
             "#e6f5d0"
            ],
            [
             0.7,
             "#b8e186"
            ],
            [
             0.8,
             "#7fbc41"
            ],
            [
             0.9,
             "#4d9221"
            ],
            [
             1,
             "#276419"
            ]
           ],
           "sequential": [
            [
             0,
             "#0d0887"
            ],
            [
             0.1111111111111111,
             "#46039f"
            ],
            [
             0.2222222222222222,
             "#7201a8"
            ],
            [
             0.3333333333333333,
             "#9c179e"
            ],
            [
             0.4444444444444444,
             "#bd3786"
            ],
            [
             0.5555555555555556,
             "#d8576b"
            ],
            [
             0.6666666666666666,
             "#ed7953"
            ],
            [
             0.7777777777777778,
             "#fb9f3a"
            ],
            [
             0.8888888888888888,
             "#fdca26"
            ],
            [
             1,
             "#f0f921"
            ]
           ],
           "sequentialminus": [
            [
             0,
             "#0d0887"
            ],
            [
             0.1111111111111111,
             "#46039f"
            ],
            [
             0.2222222222222222,
             "#7201a8"
            ],
            [
             0.3333333333333333,
             "#9c179e"
            ],
            [
             0.4444444444444444,
             "#bd3786"
            ],
            [
             0.5555555555555556,
             "#d8576b"
            ],
            [
             0.6666666666666666,
             "#ed7953"
            ],
            [
             0.7777777777777778,
             "#fb9f3a"
            ],
            [
             0.8888888888888888,
             "#fdca26"
            ],
            [
             1,
             "#f0f921"
            ]
           ]
          },
          "colorway": [
           "#636efa",
           "#EF553B",
           "#00cc96",
           "#ab63fa",
           "#FFA15A",
           "#19d3f3",
           "#FF6692",
           "#B6E880",
           "#FF97FF",
           "#FECB52"
          ],
          "font": {
           "color": "#2a3f5f"
          },
          "geo": {
           "bgcolor": "white",
           "lakecolor": "white",
           "landcolor": "#E5ECF6",
           "showlakes": true,
           "showland": true,
           "subunitcolor": "white"
          },
          "hoverlabel": {
           "align": "left"
          },
          "hovermode": "closest",
          "mapbox": {
           "style": "light"
          },
          "paper_bgcolor": "white",
          "plot_bgcolor": "#E5ECF6",
          "polar": {
           "angularaxis": {
            "gridcolor": "white",
            "linecolor": "white",
            "ticks": ""
           },
           "bgcolor": "#E5ECF6",
           "radialaxis": {
            "gridcolor": "white",
            "linecolor": "white",
            "ticks": ""
           }
          },
          "scene": {
           "xaxis": {
            "backgroundcolor": "#E5ECF6",
            "gridcolor": "white",
            "gridwidth": 2,
            "linecolor": "white",
            "showbackground": true,
            "ticks": "",
            "zerolinecolor": "white"
           },
           "yaxis": {
            "backgroundcolor": "#E5ECF6",
            "gridcolor": "white",
            "gridwidth": 2,
            "linecolor": "white",
            "showbackground": true,
            "ticks": "",
            "zerolinecolor": "white"
           },
           "zaxis": {
            "backgroundcolor": "#E5ECF6",
            "gridcolor": "white",
            "gridwidth": 2,
            "linecolor": "white",
            "showbackground": true,
            "ticks": "",
            "zerolinecolor": "white"
           }
          },
          "shapedefaults": {
           "line": {
            "color": "#2a3f5f"
           }
          },
          "ternary": {
           "aaxis": {
            "gridcolor": "white",
            "linecolor": "white",
            "ticks": ""
           },
           "baxis": {
            "gridcolor": "white",
            "linecolor": "white",
            "ticks": ""
           },
           "bgcolor": "#E5ECF6",
           "caxis": {
            "gridcolor": "white",
            "linecolor": "white",
            "ticks": ""
           }
          },
          "title": {
           "x": 0.05
          },
          "xaxis": {
           "automargin": true,
           "gridcolor": "white",
           "linecolor": "white",
           "ticks": "",
           "title": {
            "standoff": 15
           },
           "zerolinecolor": "white",
           "zerolinewidth": 2
          },
          "yaxis": {
           "automargin": true,
           "gridcolor": "white",
           "linecolor": "white",
           "ticks": "",
           "title": {
            "standoff": 15
           },
           "zerolinecolor": "white",
           "zerolinewidth": 2
          }
         }
        },
        "title": {
         "text": "Some stocks"
        },
        "xaxis": {
         "anchor": "y",
         "domain": [
          0,
          1
         ],
         "title": {
          "text": "Year"
         }
        },
        "yaxis": {
         "anchor": "x",
         "domain": [
          0,
          1
         ],
         "title": {
          "text": "Value $"
         },
         "type": "log"
        }
       }
      }
     },
     "metadata": {},
     "output_type": "display_data"
    }
   ],
   "source": [
    "import plotly_express as px\n",
    "\n",
    "# initial plot\n",
    "px.line(stocks, x=stocks.index, y=[\n",
    "        \"AAPL\", \"NVDA\", \"TSLA\", \"IBM\"],\n",
    "        labels={\"variable\": \"Stock\", \"index\": \"Year\", \"value\": \"Value $\"},\n",
    "        title=\"Some stocks\", log_y=True)\n"
   ]
  },
  {
   "cell_type": "markdown",
   "metadata": {},
   "source": [
    "<div style=\"max-width:66ch;\">\n",
    "\n",
    "## Working with time series\n",
    "\n",
    "A time series is a series of data points or observations recorded or measured in sequential order over time. Each data point is associated with a specific time, making time series data distinct from other types of data. Time series analysis involves studying the patterns, trends, and behaviors in the data over time.\n",
    "\n",
    "</div>"
   ]
  },
  {
   "cell_type": "code",
   "execution_count": 32,
   "metadata": {},
   "outputs": [
    {
     "name": "stdout",
     "output_type": "stream",
     "text": [
      "object\n",
      "datetime64[ns]\n"
     ]
    },
    {
     "data": {
      "text/html": [
       "<div>\n",
       "<style scoped>\n",
       "    .dataframe tbody tr th:only-of-type {\n",
       "        vertical-align: middle;\n",
       "    }\n",
       "\n",
       "    .dataframe tbody tr th {\n",
       "        vertical-align: top;\n",
       "    }\n",
       "\n",
       "    .dataframe thead th {\n",
       "        text-align: right;\n",
       "    }\n",
       "</style>\n",
       "<table border=\"1\" class=\"dataframe\">\n",
       "  <thead>\n",
       "    <tr style=\"text-align: right;\">\n",
       "      <th></th>\n",
       "      <th>AAPL</th>\n",
       "      <th>NVDA</th>\n",
       "      <th>TSLA</th>\n",
       "      <th>IBM</th>\n",
       "    </tr>\n",
       "  </thead>\n",
       "  <tbody>\n",
       "    <tr>\n",
       "      <th>2024-03-19</th>\n",
       "      <td>176.08</td>\n",
       "      <td>893.980</td>\n",
       "      <td>171.32</td>\n",
       "      <td>193.34</td>\n",
       "    </tr>\n",
       "    <tr>\n",
       "      <th>2024-03-18</th>\n",
       "      <td>173.72</td>\n",
       "      <td>884.550</td>\n",
       "      <td>173.80</td>\n",
       "      <td>191.69</td>\n",
       "    </tr>\n",
       "    <tr>\n",
       "      <th>2024-03-15</th>\n",
       "      <td>172.62</td>\n",
       "      <td>878.365</td>\n",
       "      <td>163.57</td>\n",
       "      <td>191.07</td>\n",
       "    </tr>\n",
       "    <tr>\n",
       "      <th>2024-03-14</th>\n",
       "      <td>173.00</td>\n",
       "      <td>879.440</td>\n",
       "      <td>162.50</td>\n",
       "      <td>193.43</td>\n",
       "    </tr>\n",
       "    <tr>\n",
       "      <th>2024-03-13</th>\n",
       "      <td>171.13</td>\n",
       "      <td>908.880</td>\n",
       "      <td>169.48</td>\n",
       "      <td>196.70</td>\n",
       "    </tr>\n",
       "  </tbody>\n",
       "</table>\n",
       "</div>"
      ],
      "text/plain": [
       "              AAPL     NVDA    TSLA     IBM\n",
       "2024-03-19  176.08  893.980  171.32  193.34\n",
       "2024-03-18  173.72  884.550  173.80  191.69\n",
       "2024-03-15  172.62  878.365  163.57  191.07\n",
       "2024-03-14  173.00  879.440  162.50  193.43\n",
       "2024-03-13  171.13  908.880  169.48  196.70"
      ]
     },
     "execution_count": 32,
     "metadata": {},
     "output_type": "execute_result"
    }
   ],
   "source": [
    "print(stocks.index.dtype)\n",
    "# type cast index from object to datetime\n",
    "stocks.index = pd.to_datetime(stocks.index)\n",
    "print(stocks.index.dtype)\n",
    "stocks.head()\n"
   ]
  },
  {
   "cell_type": "code",
   "execution_count": 33,
   "metadata": {},
   "outputs": [
    {
     "data": {
      "text/plain": [
       "AAPL    191.24\n",
       "NVDA    467.65\n",
       "TSLA    238.83\n",
       "IBM     160.55\n",
       "Name: 2023-12-01 00:00:00, dtype: float64"
      ]
     },
     "execution_count": 33,
     "metadata": {},
     "output_type": "execute_result"
    }
   ],
   "source": [
    "stocks.loc[\"2023-12-01\"]  # gives all data where year is 2020\n"
   ]
  },
  {
   "cell_type": "code",
   "execution_count": 34,
   "metadata": {},
   "outputs": [
    {
     "data": {
      "text/html": [
       "<div>\n",
       "<style scoped>\n",
       "    .dataframe tbody tr th:only-of-type {\n",
       "        vertical-align: middle;\n",
       "    }\n",
       "\n",
       "    .dataframe tbody tr th {\n",
       "        vertical-align: top;\n",
       "    }\n",
       "\n",
       "    .dataframe thead th {\n",
       "        text-align: right;\n",
       "    }\n",
       "</style>\n",
       "<table border=\"1\" class=\"dataframe\">\n",
       "  <thead>\n",
       "    <tr style=\"text-align: right;\">\n",
       "      <th></th>\n",
       "      <th>AAPL</th>\n",
       "      <th>NVDA</th>\n",
       "      <th>TSLA</th>\n",
       "      <th>IBM</th>\n",
       "    </tr>\n",
       "  </thead>\n",
       "  <tbody>\n",
       "    <tr>\n",
       "      <th>2023-11-15</th>\n",
       "      <td>188.01</td>\n",
       "      <td>488.88</td>\n",
       "      <td>242.84</td>\n",
       "      <td>152.58</td>\n",
       "    </tr>\n",
       "    <tr>\n",
       "      <th>2023-11-16</th>\n",
       "      <td>189.71</td>\n",
       "      <td>494.80</td>\n",
       "      <td>233.59</td>\n",
       "      <td>153.06</td>\n",
       "    </tr>\n",
       "    <tr>\n",
       "      <th>2023-11-17</th>\n",
       "      <td>189.69</td>\n",
       "      <td>492.98</td>\n",
       "      <td>234.30</td>\n",
       "      <td>152.89</td>\n",
       "    </tr>\n",
       "    <tr>\n",
       "      <th>2023-11-20</th>\n",
       "      <td>191.45</td>\n",
       "      <td>504.09</td>\n",
       "      <td>235.60</td>\n",
       "      <td>154.35</td>\n",
       "    </tr>\n",
       "    <tr>\n",
       "      <th>2023-11-21</th>\n",
       "      <td>190.64</td>\n",
       "      <td>499.44</td>\n",
       "      <td>241.20</td>\n",
       "      <td>153.91</td>\n",
       "    </tr>\n",
       "    <tr>\n",
       "      <th>2023-11-22</th>\n",
       "      <td>191.31</td>\n",
       "      <td>487.16</td>\n",
       "      <td>234.21</td>\n",
       "      <td>155.13</td>\n",
       "    </tr>\n",
       "    <tr>\n",
       "      <th>2023-11-24</th>\n",
       "      <td>189.97</td>\n",
       "      <td>477.76</td>\n",
       "      <td>235.45</td>\n",
       "      <td>155.18</td>\n",
       "    </tr>\n",
       "    <tr>\n",
       "      <th>2023-11-27</th>\n",
       "      <td>189.79</td>\n",
       "      <td>482.42</td>\n",
       "      <td>236.08</td>\n",
       "      <td>155.57</td>\n",
       "    </tr>\n",
       "    <tr>\n",
       "      <th>2023-11-28</th>\n",
       "      <td>190.40</td>\n",
       "      <td>478.21</td>\n",
       "      <td>246.72</td>\n",
       "      <td>155.65</td>\n",
       "    </tr>\n",
       "    <tr>\n",
       "      <th>2023-11-29</th>\n",
       "      <td>189.37</td>\n",
       "      <td>481.40</td>\n",
       "      <td>244.14</td>\n",
       "      <td>156.41</td>\n",
       "    </tr>\n",
       "    <tr>\n",
       "      <th>2023-11-30</th>\n",
       "      <td>189.95</td>\n",
       "      <td>467.70</td>\n",
       "      <td>240.08</td>\n",
       "      <td>158.56</td>\n",
       "    </tr>\n",
       "    <tr>\n",
       "      <th>2023-12-01</th>\n",
       "      <td>191.24</td>\n",
       "      <td>467.65</td>\n",
       "      <td>238.83</td>\n",
       "      <td>160.55</td>\n",
       "    </tr>\n",
       "    <tr>\n",
       "      <th>2023-12-04</th>\n",
       "      <td>189.43</td>\n",
       "      <td>455.10</td>\n",
       "      <td>235.58</td>\n",
       "      <td>161.10</td>\n",
       "    </tr>\n",
       "    <tr>\n",
       "      <th>2023-12-05</th>\n",
       "      <td>193.42</td>\n",
       "      <td>465.66</td>\n",
       "      <td>238.72</td>\n",
       "      <td>161.39</td>\n",
       "    </tr>\n",
       "    <tr>\n",
       "      <th>2023-12-06</th>\n",
       "      <td>192.32</td>\n",
       "      <td>455.03</td>\n",
       "      <td>239.37</td>\n",
       "      <td>160.28</td>\n",
       "    </tr>\n",
       "    <tr>\n",
       "      <th>2023-12-07</th>\n",
       "      <td>194.27</td>\n",
       "      <td>465.96</td>\n",
       "      <td>242.64</td>\n",
       "      <td>160.22</td>\n",
       "    </tr>\n",
       "    <tr>\n",
       "      <th>2023-12-08</th>\n",
       "      <td>195.71</td>\n",
       "      <td>475.06</td>\n",
       "      <td>243.84</td>\n",
       "      <td>161.96</td>\n",
       "    </tr>\n",
       "    <tr>\n",
       "      <th>2023-12-11</th>\n",
       "      <td>193.18</td>\n",
       "      <td>466.27</td>\n",
       "      <td>239.74</td>\n",
       "      <td>163.51</td>\n",
       "    </tr>\n",
       "    <tr>\n",
       "      <th>2023-12-12</th>\n",
       "      <td>194.71</td>\n",
       "      <td>476.57</td>\n",
       "      <td>237.01</td>\n",
       "      <td>164.71</td>\n",
       "    </tr>\n",
       "    <tr>\n",
       "      <th>2023-12-13</th>\n",
       "      <td>197.96</td>\n",
       "      <td>480.88</td>\n",
       "      <td>239.29</td>\n",
       "      <td>163.62</td>\n",
       "    </tr>\n",
       "    <tr>\n",
       "      <th>2023-12-14</th>\n",
       "      <td>198.11</td>\n",
       "      <td>483.50</td>\n",
       "      <td>251.05</td>\n",
       "      <td>162.91</td>\n",
       "    </tr>\n",
       "    <tr>\n",
       "      <th>2023-12-15</th>\n",
       "      <td>197.57</td>\n",
       "      <td>488.90</td>\n",
       "      <td>253.50</td>\n",
       "      <td>162.23</td>\n",
       "    </tr>\n",
       "    <tr>\n",
       "      <th>2023-12-18</th>\n",
       "      <td>195.89</td>\n",
       "      <td>500.77</td>\n",
       "      <td>252.08</td>\n",
       "      <td>162.74</td>\n",
       "    </tr>\n",
       "    <tr>\n",
       "      <th>2023-12-19</th>\n",
       "      <td>196.94</td>\n",
       "      <td>496.04</td>\n",
       "      <td>257.22</td>\n",
       "      <td>161.56</td>\n",
       "    </tr>\n",
       "    <tr>\n",
       "      <th>2023-12-20</th>\n",
       "      <td>194.83</td>\n",
       "      <td>481.11</td>\n",
       "      <td>247.14</td>\n",
       "      <td>160.05</td>\n",
       "    </tr>\n",
       "    <tr>\n",
       "      <th>2023-12-21</th>\n",
       "      <td>194.68</td>\n",
       "      <td>489.90</td>\n",
       "      <td>254.50</td>\n",
       "      <td>160.78</td>\n",
       "    </tr>\n",
       "    <tr>\n",
       "      <th>2023-12-22</th>\n",
       "      <td>193.60</td>\n",
       "      <td>488.30</td>\n",
       "      <td>252.54</td>\n",
       "      <td>162.14</td>\n",
       "    </tr>\n",
       "    <tr>\n",
       "      <th>2023-12-26</th>\n",
       "      <td>193.05</td>\n",
       "      <td>492.79</td>\n",
       "      <td>256.61</td>\n",
       "      <td>163.21</td>\n",
       "    </tr>\n",
       "    <tr>\n",
       "      <th>2023-12-27</th>\n",
       "      <td>193.15</td>\n",
       "      <td>494.17</td>\n",
       "      <td>261.44</td>\n",
       "      <td>163.46</td>\n",
       "    </tr>\n",
       "    <tr>\n",
       "      <th>2023-12-28</th>\n",
       "      <td>193.58</td>\n",
       "      <td>495.22</td>\n",
       "      <td>253.18</td>\n",
       "      <td>163.75</td>\n",
       "    </tr>\n",
       "    <tr>\n",
       "      <th>2023-12-29</th>\n",
       "      <td>192.53</td>\n",
       "      <td>495.22</td>\n",
       "      <td>248.48</td>\n",
       "      <td>163.55</td>\n",
       "    </tr>\n",
       "  </tbody>\n",
       "</table>\n",
       "</div>"
      ],
      "text/plain": [
       "              AAPL    NVDA    TSLA     IBM\n",
       "2023-11-15  188.01  488.88  242.84  152.58\n",
       "2023-11-16  189.71  494.80  233.59  153.06\n",
       "2023-11-17  189.69  492.98  234.30  152.89\n",
       "2023-11-20  191.45  504.09  235.60  154.35\n",
       "2023-11-21  190.64  499.44  241.20  153.91\n",
       "2023-11-22  191.31  487.16  234.21  155.13\n",
       "2023-11-24  189.97  477.76  235.45  155.18\n",
       "2023-11-27  189.79  482.42  236.08  155.57\n",
       "2023-11-28  190.40  478.21  246.72  155.65\n",
       "2023-11-29  189.37  481.40  244.14  156.41\n",
       "2023-11-30  189.95  467.70  240.08  158.56\n",
       "2023-12-01  191.24  467.65  238.83  160.55\n",
       "2023-12-04  189.43  455.10  235.58  161.10\n",
       "2023-12-05  193.42  465.66  238.72  161.39\n",
       "2023-12-06  192.32  455.03  239.37  160.28\n",
       "2023-12-07  194.27  465.96  242.64  160.22\n",
       "2023-12-08  195.71  475.06  243.84  161.96\n",
       "2023-12-11  193.18  466.27  239.74  163.51\n",
       "2023-12-12  194.71  476.57  237.01  164.71\n",
       "2023-12-13  197.96  480.88  239.29  163.62\n",
       "2023-12-14  198.11  483.50  251.05  162.91\n",
       "2023-12-15  197.57  488.90  253.50  162.23\n",
       "2023-12-18  195.89  500.77  252.08  162.74\n",
       "2023-12-19  196.94  496.04  257.22  161.56\n",
       "2023-12-20  194.83  481.11  247.14  160.05\n",
       "2023-12-21  194.68  489.90  254.50  160.78\n",
       "2023-12-22  193.60  488.30  252.54  162.14\n",
       "2023-12-26  193.05  492.79  256.61  163.21\n",
       "2023-12-27  193.15  494.17  261.44  163.46\n",
       "2023-12-28  193.58  495.22  253.18  163.75\n",
       "2023-12-29  192.53  495.22  248.48  163.55"
      ]
     },
     "execution_count": 34,
     "metadata": {},
     "output_type": "execute_result"
    }
   ],
   "source": [
    "# gives all rows between these dates\n",
    "stocks.sort_index().loc[\"2023-11-15\":\"2023-12\"]  "
   ]
  },
  {
   "cell_type": "markdown",
   "metadata": {},
   "source": [
    "<div style=\"max-width:66ch;\">\n",
    "\n",
    "## Plot 4 stocks in subplots\n",
    "\n",
    "</div>"
   ]
  },
  {
   "cell_type": "code",
   "execution_count": 35,
   "metadata": {},
   "outputs": [
    {
     "name": "stdout",
     "output_type": "stream",
     "text": [
      "array([[<Axes: >, <Axes: >],\n",
      "       [<Axes: >, <Axes: >]], dtype=object)\n",
      "array([<Axes: >, <Axes: >, <Axes: >, <Axes: >], dtype=object)\n"
     ]
    },
    {
     "data": {
      "text/plain": [
       "Text(0.5, 1.03, 'Stocks during 2023 mid-july until beginning of december')"
      ]
     },
     "execution_count": 35,
     "metadata": {},
     "output_type": "execute_result"
    },
    {
     "data": {
      "image/png": "[encoded data removed]",
      "text/plain": [
       "<Figure size 1200x600 with 4 Axes>"
      ]
     },
     "metadata": {},
     "output_type": "display_data"
    }
   ],
   "source": [
    "import seaborn as sns\n",
    "import matplotlib.pyplot as plt\n",
    "\n",
    "fig, axes = plt.subplots(2, 2, dpi=100, figsize=(12, 6))\n",
    "\n",
    "# 2D array -> 2D array has a method flatten() to create a numpy flattened array\n",
    "print(repr(axes))\n",
    "print(repr(axes.flatten()))\n",
    "\n",
    "stock_names = {\"AAPL\": \"Apple\", \"NVDA\": \"Nvidia\", \"TSLA\": \"Tesla\", \"IBM\": \"IBM\"}\n",
    "\n",
    "stocks_2023 = stocks.loc[\"2023\"]\n",
    "\n",
    "for ax, symbol in zip(axes.flatten(), stock_names):\n",
    "    sns.lineplot(data=stocks_2023, x=stocks_2023.index, y=symbol, ax=ax)\n",
    "    ax.tick_params(axis=\"x\", rotation=45)\n",
    "    ax.set(title=f\"{stock_names[symbol]}\", ylabel=\"Price ($)\")\n",
    "    # ax.grid()\n",
    "\n",
    "fig.tight_layout()\n",
    "fig.suptitle(\n",
    "    \"Stocks during 2023 mid-july until beginning of december\", y=1.03, fontweight=\"bold\"\n",
    ")"
   ]
  },
  {
   "cell_type": "markdown",
   "metadata": {},
   "source": [
    "<div style=\"max-width:66ch;\">\n",
    "\n",
    "## Summary\n",
    "\n",
    "In this lecture we've worked with a web API and time series data. Also we've gone through environment file .env to store your secrets, in this case an API-key. Note that it's important to check that your .gitignore involves .env so that it doesn't accidentally get into a repository so that others can use your secrets.\n",
    "\n",
    "</div>"
   ]
  },
  {
   "cell_type": "markdown",
   "metadata": {},
   "source": [
    "<div style=\"background-color: #FFF; color: #212121; border-radius: 1px; width:22ch; box-shadow: rgba(0, 0, 0, 0.16) 0px 1px 4px; display: flex; justify-content: center; align-items: center;\">\n",
    "<div style=\"padding: 1.5em 0; width: 70%;\">\n",
    "    <h2 style=\"font-size: 1.2rem;\">Kokchun Giang</h2>\n",
    "    <a href=\"https://www.linkedin.com/in/kokchungiang/\" target=\"_blank\" style=\"display: flex; align-items: center; gap: .4em; color:#0A66C2;\">\n",
    "        <img src=\"https://content.linkedin.com/content/dam/me/business/en-us/amp/brand-site/v2/bg/LI-Bug.svg.original.svg\" width=\"20\"> \n",
    "        LinkedIn profile\n",
    "    </a>\n",
    "    <a href=\"https://github.com/kokchun/Portfolio-Kokchun-Giang\" target=\"_blank\" style=\"display: flex; align-items: center; gap: .4em; margin: 1em 0; color:#0A66C2;\">\n",
    "        <img src=\"https://github.githubassets.com/images/modules/logos_page/GitHub-Mark.png\" width=\"20\"> \n",
    "        Github portfolio\n",
    "    </a>\n",
    "    <span>AIgineer AB</span>\n",
    "<div>\n",
    "</div>\n"
   ]
  }
 ],
 "metadata": {
  "kernelspec": {
   "display_name": "ai-part-1-handelsakademin-5RQamIMR-py3.9",
   "language": "python",
   "name": "python3"
  },
  "language_info": {
   "codemirror_mode": {
    "name": "ipython",
    "version": 3
   },
   "file_extension": ".py",
   "mimetype": "text/x-python",
   "name": "python",
   "nbconvert_exporter": "python",
   "pygments_lexer": "ipython3",
   "version": "3.11.7"
  },
  "orig_nbformat": 4
 },
 "nbformat": 4,
 "nbformat_minor": 2
}
