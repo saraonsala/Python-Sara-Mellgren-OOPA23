{
 "cells": [
  {
   "cell_type": "markdown",
   "metadata": {},
   "source": [
    "<div style=\"max-width:66ch;\">\n",
    "\n",
    "# Lecture notes - Stockdata API and time series\n",
    "\n",
    "This is a lecture note on stock data from API - but it's built upon contents from pandas and previous course:\n",
    "\n",
    "- Python programming\n",
    "\n",
    "<p class = \"alert alert-info\" role=\"alert\"><b>Note</b> that this lecture note gives a brief introduction to merging. I encourage you to read further about API.\n",
    "\n",
    "Read more\n",
    "\n",
    "- [video - API-key .env](https://www.youtube.com/watch?v=YdgIWTYQ69A)\n",
    "- [wikipedia - REST API theory](https://en.wikipedia.org/wiki/Representational_state_transfer)\n",
    "- [video - Python - requests](https://www.youtube.com/watch?v=tb8gHvYlCFs)\n",
    "- [w3schools - requests](https://www.w3schools.com/python/module_requests.asp)\n",
    "\n",
    "</div>\n"
   ]
  },
  {
   "cell_type": "markdown",
   "metadata": {},
   "source": [
    "<div style=\"max-width:66ch;\">\n",
    "\n",
    "## API\n",
    "\n",
    "\n",
    "An API, or Application Programming Interface, is a set of rules and protocols that allows different software applications to communicate with each other. It defines the methods and data formats that applications can use to request and exchange information. APIs enable the integration of different software systems, allowing them to work together seamlessly. Specifically we'll be using a web API, which will give us possibility to query data from a web server. \n",
    "\n",
    "\n",
    "</div>"
   ]
  },
  {
   "cell_type": "markdown",
   "metadata": {},
   "source": [
    "<div style=\"max-width:66ch;\">\n",
    "\n",
    "## Stocks API\n",
    "\n",
    "Go into [Alpha Vantage](https://www.alphavantage.co/documentation/) and read the documentation of the time series APIs\n",
    "\n",
    "- Go into [claim API key](https://www.alphavantage.co/support/#api-key) and fill in the form to claim your free API-key\n",
    "\n",
    "- You will be using the API key to access stock data\n",
    "\n",
    "- Create a file called .env and type:\n",
    "\n",
    "```py\n",
    "ALPHA_API_KEY = ...\n",
    "```\n",
    "\n",
    "- the dots should be your API key\n",
    "- go into your .gitignore file in your repo and make sure that there is .env there so that you don't push the .env file to a public Github repo where anyone can access your key and do stuffs in your name\n",
    "\n",
    "**Setup**\n",
    "\n",
    "- pipenv install python-dotenv\n",
    "\n",
    "[Symbols of stocks](https://www.nasdaq.com/market-activity/stocks/screener) that is useful for get-request\n",
    "\n",
    "\n",
    "</div>"
   ]
  },
  {
   "cell_type": "code",
   "execution_count": null,
   "metadata": {},
   "outputs": [],
   "source": []
  },
  {
   "cell_type": "code",
   "execution_count": 11,
   "metadata": {},
   "outputs": [
    {
     "ename": "KeyError",
     "evalue": "'Time Series (Daily)'",
     "output_type": "error",
     "traceback": [
      "\u001b[1;31m---------------------------------------------------------------------------\u001b[0m",
      "\u001b[1;31mKeyError\u001b[0m                                  Traceback (most recent call last)",
      "Cell \u001b[1;32mIn[11], line 19\u001b[0m\n\u001b[0;32m     17\u001b[0m \u001b[38;5;66;03m#url = f'https://www.alphavantage.co/query?function={function}&symbol={symbol}&apikey={api_key}'\u001b[39;00m\n\u001b[0;32m     18\u001b[0m data \u001b[38;5;241m=\u001b[39m requests\u001b[38;5;241m.\u001b[39mget(url)\u001b[38;5;241m.\u001b[39mjson()\n\u001b[1;32m---> 19\u001b[0m df \u001b[38;5;241m=\u001b[39m pd\u001b[38;5;241m.\u001b[39mDataFrame(\u001b[43mdata\u001b[49m\u001b[43m[\u001b[49m\u001b[38;5;124;43m\"\u001b[39;49m\u001b[38;5;124;43mTime Series (Daily)\u001b[39;49m\u001b[38;5;124;43m\"\u001b[39;49m\u001b[43m]\u001b[49m)\u001b[38;5;241m.\u001b[39mtranspose()\n\u001b[0;32m     20\u001b[0m df \u001b[38;5;241m=\u001b[39m df[\u001b[38;5;124m\"\u001b[39m\u001b[38;5;124m4. close\u001b[39m\u001b[38;5;124m\"\u001b[39m]\u001b[38;5;241m.\u001b[39mrename(symbol)\u001b[38;5;241m.\u001b[39mastype(\u001b[38;5;28mfloat\u001b[39m)\n\u001b[0;32m     21\u001b[0m stock_list\u001b[38;5;241m.\u001b[39mappend(df)\n",
      "\u001b[1;31mKeyError\u001b[0m: 'Time Series (Daily)'"
     ]
    }
   ],
   "source": [
    "import os\n",
    "from dotenv import load_dotenv\n",
    "import requests\n",
    "import pandas as pd\n",
    "\n",
    "load_dotenv()\n",
    "api_key = os.getenv(\"ALPHA_API_KEY\")\n",
    "# NOTE: you can print it for your own validation, but remove the print before pushing to Github\n",
    "\n",
    "symbols = [\"AAPL\", \"NVDA\", \"TSLA\", \"IBM\"]\n",
    "stock_list = []\n",
    "\n",
    "for symbol in symbols:\n",
    "    function = \"TIME_SERIES_DAILY\"\n",
    "\n",
    "    url = f'https://www.alphavantage.co/query?function={function}&symbol={symbol}&apikey={api_key}'\n",
    "    #url = f'https://www.alphavantage.co/query?function={function}&symbol={symbol}&apikey={api_key}'\n",
    "    data = requests.get(url).json()\n",
    "    df = pd.DataFrame(data[\"Time Series (Daily)\"]).transpose()\n",
    "    df = df[\"4. close\"].rename(symbol).astype(float)\n",
    "    stock_list.append(df)\n",
    "    \n",
    "  \n"
   ]
  },
  {
   "cell_type": "code",
   "execution_count": null,
   "metadata": {},
   "outputs": [
    {
     "data": {
      "text/html": [
       "<div>\n",
       "<style scoped>\n",
       "    .dataframe tbody tr th:only-of-type {\n",
       "        vertical-align: middle;\n",
       "    }\n",
       "\n",
       "    .dataframe tbody tr th {\n",
       "        vertical-align: top;\n",
       "    }\n",
       "\n",
       "    .dataframe thead th {\n",
       "        text-align: right;\n",
       "    }\n",
       "</style>\n",
       "<table border=\"1\" class=\"dataframe\">\n",
       "  <thead>\n",
       "    <tr style=\"text-align: right;\">\n",
       "      <th></th>\n",
       "      <th>AAPL</th>\n",
       "      <th>NVDA</th>\n",
       "      <th>TSLA</th>\n",
       "      <th>IBM</th>\n",
       "    </tr>\n",
       "  </thead>\n",
       "  <tbody>\n",
       "    <tr>\n",
       "      <th>2024-03-15</th>\n",
       "      <td>172.62</td>\n",
       "      <td>878.365</td>\n",
       "      <td>163.57</td>\n",
       "      <td>191.07</td>\n",
       "    </tr>\n",
       "    <tr>\n",
       "      <th>2024-03-14</th>\n",
       "      <td>173.00</td>\n",
       "      <td>879.440</td>\n",
       "      <td>162.50</td>\n",
       "      <td>193.43</td>\n",
       "    </tr>\n",
       "    <tr>\n",
       "      <th>2024-03-13</th>\n",
       "      <td>171.13</td>\n",
       "      <td>908.880</td>\n",
       "      <td>169.48</td>\n",
       "      <td>196.70</td>\n",
       "    </tr>\n",
       "    <tr>\n",
       "      <th>2024-03-12</th>\n",
       "      <td>173.23</td>\n",
       "      <td>919.130</td>\n",
       "      <td>177.54</td>\n",
       "      <td>197.78</td>\n",
       "    </tr>\n",
       "    <tr>\n",
       "      <th>2024-03-11</th>\n",
       "      <td>172.75</td>\n",
       "      <td>857.740</td>\n",
       "      <td>177.77</td>\n",
       "      <td>191.73</td>\n",
       "    </tr>\n",
       "    <tr>\n",
       "      <th>...</th>\n",
       "      <td>...</td>\n",
       "      <td>...</td>\n",
       "      <td>...</td>\n",
       "      <td>...</td>\n",
       "    </tr>\n",
       "    <tr>\n",
       "      <th>2023-10-27</th>\n",
       "      <td>168.22</td>\n",
       "      <td>405.000</td>\n",
       "      <td>207.30</td>\n",
       "      <td>142.52</td>\n",
       "    </tr>\n",
       "    <tr>\n",
       "      <th>2023-10-26</th>\n",
       "      <td>166.89</td>\n",
       "      <td>403.260</td>\n",
       "      <td>205.76</td>\n",
       "      <td>143.76</td>\n",
       "    </tr>\n",
       "    <tr>\n",
       "      <th>2023-10-25</th>\n",
       "      <td>171.10</td>\n",
       "      <td>417.790</td>\n",
       "      <td>212.42</td>\n",
       "      <td>137.08</td>\n",
       "    </tr>\n",
       "    <tr>\n",
       "      <th>2023-10-24</th>\n",
       "      <td>173.44</td>\n",
       "      <td>436.630</td>\n",
       "      <td>216.52</td>\n",
       "      <td>137.79</td>\n",
       "    </tr>\n",
       "    <tr>\n",
       "      <th>2023-10-23</th>\n",
       "      <td>173.00</td>\n",
       "      <td>429.750</td>\n",
       "      <td>212.08</td>\n",
       "      <td>136.38</td>\n",
       "    </tr>\n",
       "  </tbody>\n",
       "</table>\n",
       "<p>100 rows × 4 columns</p>\n",
       "</div>"
      ],
      "text/plain": [
       "              AAPL     NVDA    TSLA     IBM\n",
       "2024-03-15  172.62  878.365  163.57  191.07\n",
       "2024-03-14  173.00  879.440  162.50  193.43\n",
       "2024-03-13  171.13  908.880  169.48  196.70\n",
       "2024-03-12  173.23  919.130  177.54  197.78\n",
       "2024-03-11  172.75  857.740  177.77  191.73\n",
       "...            ...      ...     ...     ...\n",
       "2023-10-27  168.22  405.000  207.30  142.52\n",
       "2023-10-26  166.89  403.260  205.76  143.76\n",
       "2023-10-25  171.10  417.790  212.42  137.08\n",
       "2023-10-24  173.44  436.630  216.52  137.79\n",
       "2023-10-23  173.00  429.750  212.08  136.38\n",
       "\n",
       "[100 rows x 4 columns]"
      ]
     },
     "execution_count": 2,
     "metadata": {},
     "output_type": "execute_result"
    }
   ],
   "source": [
    "# concatenate the list of series to a df\n",
    "stocks = pd.concat(stock_list, axis=1)\n",
    "stocks\n"
   ]
  },
  {
   "cell_type": "code",
   "execution_count": null,
   "metadata": {},
   "outputs": [
    {
     "data": {
      "application/vnd.plotly.v1+json": {
       "config": {
        "plotlyServerURL": "https://plotly.com"
       },
       "data": [
        {
         "hovertemplate": "Stock=AAPL<br>Year=%{x}<br>Value $=%{y}<extra></extra>",
         "legendgroup": "AAPL",
         "line": {
          "color": "#636efa",
          "dash": "solid"
         },
         "marker": {
          "symbol": "circle"
         },
         "mode": "lines",
         "name": "AAPL",
         "orientation": "v",
         "showlegend": true,
         "type": "scatter",
         "x": [
          "2024-03-15",
          "2024-03-14",
          "2024-03-13",
          "2024-03-12",
          "2024-03-11",
          "2024-03-08",
          "2024-03-07",
          "2024-03-06",
          "2024-03-05",
          "2024-03-04",
          "2024-03-01",
          "2024-02-29",
          "2024-02-28",
          "2024-02-27",
          "2024-02-26",
          "2024-02-23",
          "2024-02-22",
          "2024-02-21",
          "2024-02-20",
          "2024-02-16",
          "2024-02-15",
          "2024-02-14",
          "2024-02-13",
          "2024-02-12",
          "2024-02-09",
          "2024-02-08",
          "2024-02-07",
          "2024-02-06",
          "2024-02-05",
          "2024-02-02",
          "2024-02-01",
          "2024-01-31",
          "2024-01-30",
          "2024-01-29",
          "2024-01-26",
          "2024-01-25",
          "2024-01-24",
          "2024-01-23",
          "2024-01-22",
          "2024-01-19",
          "2024-01-18",
          "2024-01-17",
          "2024-01-16",
          "2024-01-12",
          "2024-01-11",
          "2024-01-10",
          "2024-01-09",
          "2024-01-08",
          "2024-01-05",
          "2024-01-04",
          "2024-01-03",
          "2024-01-02",
          "2023-12-29",
          "2023-12-28",
          "2023-12-27",
          "2023-12-26",
          "2023-12-22",
          "2023-12-21",
          "2023-12-20",
          "2023-12-19",
          "2023-12-18",
          "2023-12-15",
          "2023-12-14",
          "2023-12-13",
          "2023-12-12",
          "2023-12-11",
          "2023-12-08",
          "2023-12-07",
          "2023-12-06",
          "2023-12-05",
          "2023-12-04",
          "2023-12-01",
          "2023-11-30",
          "2023-11-29",
          "2023-11-28",
          "2023-11-27",
          "2023-11-24",
          "2023-11-22",
          "2023-11-21",
          "2023-11-20",
          "2023-11-17",
          "2023-11-16",
          "2023-11-15",
          "2023-11-14",
          "2023-11-13",
          "2023-11-10",
          "2023-11-09",
          "2023-11-08",
          "2023-11-07",
          "2023-11-06",
          "2023-11-03",
          "2023-11-02",
          "2023-11-01",
          "2023-10-31",
          "2023-10-30",
          "2023-10-27",
          "2023-10-26",
          "2023-10-25",
          "2023-10-24",
          "2023-10-23"
         ],
         "xaxis": "x",
         "y": [
          172.62,
          173,
          171.13,
          173.23,
          172.75,
          170.73,
          169,
          169.12,
          170.12,
          175.1,
          179.66,
          180.75,
          181.42,
          182.63,
          181.16,
          182.52,
          184.37,
          182.32,
          181.56,
          182.31,
          183.86,
          184.15,
          185.04,
          187.15,
          188.85,
          188.32,
          189.41,
          189.3,
          187.68,
          185.85,
          186.86,
          184.4,
          188.04,
          191.73,
          192.42,
          194.17,
          194.5,
          195.18,
          193.89,
          191.56,
          188.63,
          182.68,
          183.63,
          185.92,
          185.59,
          186.19,
          185.14,
          185.56,
          181.18,
          181.91,
          184.25,
          185.64,
          192.53,
          193.58,
          193.15,
          193.05,
          193.6,
          194.68,
          194.83,
          196.94,
          195.89,
          197.57,
          198.11,
          197.96,
          194.71,
          193.18,
          195.71,
          194.27,
          192.32,
          193.42,
          189.43,
          191.24,
          189.95,
          189.37,
          190.4,
          189.79,
          189.97,
          191.31,
          190.64,
          191.45,
          189.69,
          189.71,
          188.01,
          187.44,
          184.8,
          186.4,
          182.41,
          182.89,
          181.82,
          179.23,
          176.65,
          177.57,
          173.97,
          170.77,
          170.29,
          168.22,
          166.89,
          171.1,
          173.44,
          173
         ],
         "yaxis": "y"
        },
        {
         "hovertemplate": "Stock=NVDA<br>Year=%{x}<br>Value $=%{y}<extra></extra>",
         "legendgroup": "NVDA",
         "line": {
          "color": "#EF553B",
          "dash": "solid"
         },
         "marker": {
          "symbol": "circle"
         },
         "mode": "lines",
         "name": "NVDA",
         "orientation": "v",
         "showlegend": true,
         "type": "scatter",
         "x": [
          "2024-03-15",
          "2024-03-14",
          "2024-03-13",
          "2024-03-12",
          "2024-03-11",
          "2024-03-08",
          "2024-03-07",
          "2024-03-06",
          "2024-03-05",
          "2024-03-04",
          "2024-03-01",
          "2024-02-29",
          "2024-02-28",
          "2024-02-27",
          "2024-02-26",
          "2024-02-23",
          "2024-02-22",
          "2024-02-21",
          "2024-02-20",
          "2024-02-16",
          "2024-02-15",
          "2024-02-14",
          "2024-02-13",
          "2024-02-12",
          "2024-02-09",
          "2024-02-08",
          "2024-02-07",
          "2024-02-06",
          "2024-02-05",
          "2024-02-02",
          "2024-02-01",
          "2024-01-31",
          "2024-01-30",
          "2024-01-29",
          "2024-01-26",
          "2024-01-25",
          "2024-01-24",
          "2024-01-23",
          "2024-01-22",
          "2024-01-19",
          "2024-01-18",
          "2024-01-17",
          "2024-01-16",
          "2024-01-12",
          "2024-01-11",
          "2024-01-10",
          "2024-01-09",
          "2024-01-08",
          "2024-01-05",
          "2024-01-04",
          "2024-01-03",
          "2024-01-02",
          "2023-12-29",
          "2023-12-28",
          "2023-12-27",
          "2023-12-26",
          "2023-12-22",
          "2023-12-21",
          "2023-12-20",
          "2023-12-19",
          "2023-12-18",
          "2023-12-15",
          "2023-12-14",
          "2023-12-13",
          "2023-12-12",
          "2023-12-11",
          "2023-12-08",
          "2023-12-07",
          "2023-12-06",
          "2023-12-05",
          "2023-12-04",
          "2023-12-01",
          "2023-11-30",
          "2023-11-29",
          "2023-11-28",
          "2023-11-27",
          "2023-11-24",
          "2023-11-22",
          "2023-11-21",
          "2023-11-20",
          "2023-11-17",
          "2023-11-16",
          "2023-11-15",
          "2023-11-14",
          "2023-11-13",
          "2023-11-10",
          "2023-11-09",
          "2023-11-08",
          "2023-11-07",
          "2023-11-06",
          "2023-11-03",
          "2023-11-02",
          "2023-11-01",
          "2023-10-31",
          "2023-10-30",
          "2023-10-27",
          "2023-10-26",
          "2023-10-25",
          "2023-10-24",
          "2023-10-23"
         ],
         "xaxis": "x",
         "y": [
          878.365,
          879.44,
          908.88,
          919.13,
          857.74,
          875.28,
          926.69,
          887,
          859.64,
          852.37,
          822.79,
          791.12,
          776.63,
          787.01,
          790.92,
          788.17,
          785.38,
          674.72,
          694.52,
          726.13,
          726.58,
          739,
          721.28,
          722.48,
          721.33,
          696.41,
          700.99,
          682.23,
          693.32,
          661.6,
          630.27,
          615.27,
          627.74,
          624.65,
          610.31,
          616.17,
          613.62,
          598.73,
          596.54,
          594.91,
          571.07,
          560.53,
          563.82,
          547.1,
          548.22,
          543.5,
          531.4,
          522.53,
          490.97,
          479.98,
          475.69,
          481.68,
          495.22,
          495.22,
          494.17,
          492.79,
          488.3,
          489.9,
          481.11,
          496.04,
          500.77,
          488.9,
          483.5,
          480.88,
          476.57,
          466.27,
          475.06,
          465.96,
          455.03,
          465.66,
          455.1,
          467.65,
          467.7,
          481.4,
          478.21,
          482.42,
          477.76,
          487.16,
          499.44,
          504.09,
          492.98,
          494.8,
          488.88,
          496.56,
          486.2,
          483.35,
          469.5,
          465.74,
          459.55,
          457.51,
          450.05,
          435.06,
          423.25,
          407.8,
          411.61,
          405,
          403.26,
          417.79,
          436.63,
          429.75
         ],
         "yaxis": "y"
        },
        {
         "hovertemplate": "Stock=TSLA<br>Year=%{x}<br>Value $=%{y}<extra></extra>",
         "legendgroup": "TSLA",
         "line": {
          "color": "#00cc96",
          "dash": "solid"
         },
         "marker": {
          "symbol": "circle"
         },
         "mode": "lines",
         "name": "TSLA",
         "orientation": "v",
         "showlegend": true,
         "type": "scatter",
         "x": [
          "2024-03-15",
          "2024-03-14",
          "2024-03-13",
          "2024-03-12",
          "2024-03-11",
          "2024-03-08",
          "2024-03-07",
          "2024-03-06",
          "2024-03-05",
          "2024-03-04",
          "2024-03-01",
          "2024-02-29",
          "2024-02-28",
          "2024-02-27",
          "2024-02-26",
          "2024-02-23",
          "2024-02-22",
          "2024-02-21",
          "2024-02-20",
          "2024-02-16",
          "2024-02-15",
          "2024-02-14",
          "2024-02-13",
          "2024-02-12",
          "2024-02-09",
          "2024-02-08",
          "2024-02-07",
          "2024-02-06",
          "2024-02-05",
          "2024-02-02",
          "2024-02-01",
          "2024-01-31",
          "2024-01-30",
          "2024-01-29",
          "2024-01-26",
          "2024-01-25",
          "2024-01-24",
          "2024-01-23",
          "2024-01-22",
          "2024-01-19",
          "2024-01-18",
          "2024-01-17",
          "2024-01-16",
          "2024-01-12",
          "2024-01-11",
          "2024-01-10",
          "2024-01-09",
          "2024-01-08",
          "2024-01-05",
          "2024-01-04",
          "2024-01-03",
          "2024-01-02",
          "2023-12-29",
          "2023-12-28",
          "2023-12-27",
          "2023-12-26",
          "2023-12-22",
          "2023-12-21",
          "2023-12-20",
          "2023-12-19",
          "2023-12-18",
          "2023-12-15",
          "2023-12-14",
          "2023-12-13",
          "2023-12-12",
          "2023-12-11",
          "2023-12-08",
          "2023-12-07",
          "2023-12-06",
          "2023-12-05",
          "2023-12-04",
          "2023-12-01",
          "2023-11-30",
          "2023-11-29",
          "2023-11-28",
          "2023-11-27",
          "2023-11-24",
          "2023-11-22",
          "2023-11-21",
          "2023-11-20",
          "2023-11-17",
          "2023-11-16",
          "2023-11-15",
          "2023-11-14",
          "2023-11-13",
          "2023-11-10",
          "2023-11-09",
          "2023-11-08",
          "2023-11-07",
          "2023-11-06",
          "2023-11-03",
          "2023-11-02",
          "2023-11-01",
          "2023-10-31",
          "2023-10-30",
          "2023-10-27",
          "2023-10-26",
          "2023-10-25",
          "2023-10-24",
          "2023-10-23"
         ],
         "xaxis": "x",
         "y": [
          163.57,
          162.5,
          169.48,
          177.54,
          177.77,
          175.34,
          178.65,
          176.54,
          180.74,
          188.14,
          202.64,
          201.88,
          202.04,
          199.73,
          199.4,
          191.97,
          197.41,
          194.77,
          193.76,
          199.95,
          200.45,
          188.71,
          184.02,
          188.13,
          193.57,
          189.56,
          187.58,
          185.1,
          181.06,
          187.91,
          188.86,
          187.29,
          191.59,
          190.93,
          183.25,
          182.63,
          207.83,
          209.14,
          208.8,
          212.19,
          211.88,
          215.55,
          219.91,
          218.89,
          227.22,
          233.94,
          234.96,
          240.45,
          237.49,
          237.93,
          238.45,
          248.42,
          248.48,
          253.18,
          261.44,
          256.61,
          252.54,
          254.5,
          247.14,
          257.22,
          252.08,
          253.5,
          251.05,
          239.29,
          237.01,
          239.74,
          243.84,
          242.64,
          239.37,
          238.72,
          235.58,
          238.83,
          240.08,
          244.14,
          246.72,
          236.08,
          235.45,
          234.21,
          241.2,
          235.6,
          234.3,
          233.59,
          242.84,
          237.41,
          223.71,
          214.65,
          209.98,
          222.11,
          222.18,
          219.27,
          219.96,
          218.51,
          205.66,
          200.84,
          197.36,
          207.3,
          205.76,
          212.42,
          216.52,
          212.08
         ],
         "yaxis": "y"
        },
        {
         "hovertemplate": "Stock=IBM<br>Year=%{x}<br>Value $=%{y}<extra></extra>",
         "legendgroup": "IBM",
         "line": {
          "color": "#ab63fa",
          "dash": "solid"
         },
         "marker": {
          "symbol": "circle"
         },
         "mode": "lines",
         "name": "IBM",
         "orientation": "v",
         "showlegend": true,
         "type": "scatter",
         "x": [
          "2024-03-15",
          "2024-03-14",
          "2024-03-13",
          "2024-03-12",
          "2024-03-11",
          "2024-03-08",
          "2024-03-07",
          "2024-03-06",
          "2024-03-05",
          "2024-03-04",
          "2024-03-01",
          "2024-02-29",
          "2024-02-28",
          "2024-02-27",
          "2024-02-26",
          "2024-02-23",
          "2024-02-22",
          "2024-02-21",
          "2024-02-20",
          "2024-02-16",
          "2024-02-15",
          "2024-02-14",
          "2024-02-13",
          "2024-02-12",
          "2024-02-09",
          "2024-02-08",
          "2024-02-07",
          "2024-02-06",
          "2024-02-05",
          "2024-02-02",
          "2024-02-01",
          "2024-01-31",
          "2024-01-30",
          "2024-01-29",
          "2024-01-26",
          "2024-01-25",
          "2024-01-24",
          "2024-01-23",
          "2024-01-22",
          "2024-01-19",
          "2024-01-18",
          "2024-01-17",
          "2024-01-16",
          "2024-01-12",
          "2024-01-11",
          "2024-01-10",
          "2024-01-09",
          "2024-01-08",
          "2024-01-05",
          "2024-01-04",
          "2024-01-03",
          "2024-01-02",
          "2023-12-29",
          "2023-12-28",
          "2023-12-27",
          "2023-12-26",
          "2023-12-22",
          "2023-12-21",
          "2023-12-20",
          "2023-12-19",
          "2023-12-18",
          "2023-12-15",
          "2023-12-14",
          "2023-12-13",
          "2023-12-12",
          "2023-12-11",
          "2023-12-08",
          "2023-12-07",
          "2023-12-06",
          "2023-12-05",
          "2023-12-04",
          "2023-12-01",
          "2023-11-30",
          "2023-11-29",
          "2023-11-28",
          "2023-11-27",
          "2023-11-24",
          "2023-11-22",
          "2023-11-21",
          "2023-11-20",
          "2023-11-17",
          "2023-11-16",
          "2023-11-15",
          "2023-11-14",
          "2023-11-13",
          "2023-11-10",
          "2023-11-09",
          "2023-11-08",
          "2023-11-07",
          "2023-11-06",
          "2023-11-03",
          "2023-11-02",
          "2023-11-01",
          "2023-10-31",
          "2023-10-30",
          "2023-10-27",
          "2023-10-26",
          "2023-10-25",
          "2023-10-24",
          "2023-10-23"
         ],
         "xaxis": "x",
         "y": [
          191.07,
          193.43,
          196.7,
          197.78,
          191.73,
          195.95,
          196.54,
          196.16,
          191.95,
          193.06,
          188.2,
          185.03,
          185.3,
          184.87,
          184.13,
          185.72,
          184.21,
          179.7,
          183.44,
          187.64,
          186.87,
          183.57,
          183.7,
          186.16,
          186.34,
          184.36,
          183.74,
          183.41,
          183.42,
          185.79,
          186.9,
          183.66,
          187.87,
          187.14,
          187.42,
          190.43,
          173.93,
          173.94,
          172.83,
          171.48,
          166.84,
          166.08,
          166.96,
          165.8,
          162.16,
          161.23,
          160.08,
          161.14,
          159.16,
          160.86,
          160.1,
          161.5,
          163.55,
          163.75,
          163.46,
          163.21,
          162.14,
          160.78,
          160.05,
          161.56,
          162.74,
          162.23,
          162.91,
          163.62,
          164.71,
          163.51,
          161.96,
          160.22,
          160.28,
          161.39,
          161.1,
          160.55,
          158.56,
          156.41,
          155.65,
          155.57,
          155.18,
          155.13,
          153.91,
          154.35,
          152.89,
          153.06,
          152.58,
          150.41,
          148.1,
          149.02,
          146.62,
          148.03,
          148.83,
          148.97,
          147.9,
          147.01,
          145.4,
          144.64,
          142.63,
          142.52,
          143.76,
          137.08,
          137.79,
          136.38
         ],
         "yaxis": "y"
        }
       ],
       "layout": {
        "legend": {
         "title": {
          "text": "Stock"
         },
         "tracegroupgap": 0
        },
        "template": {
         "data": {
          "bar": [
           {
            "error_x": {
             "color": "#2a3f5f"
            },
            "error_y": {
             "color": "#2a3f5f"
            },
            "marker": {
             "line": {
              "color": "#E5ECF6",
              "width": 0.5
             },
             "pattern": {
              "fillmode": "overlay",
              "size": 10,
              "solidity": 0.2
             }
            },
            "type": "bar"
           }
          ],
          "barpolar": [
           {
            "marker": {
             "line": {
              "color": "#E5ECF6",
              "width": 0.5
             },
             "pattern": {
              "fillmode": "overlay",
              "size": 10,
              "solidity": 0.2
             }
            },
            "type": "barpolar"
           }
          ],
          "carpet": [
           {
            "aaxis": {
             "endlinecolor": "#2a3f5f",
             "gridcolor": "white",
             "linecolor": "white",
             "minorgridcolor": "white",
             "startlinecolor": "#2a3f5f"
            },
            "baxis": {
             "endlinecolor": "#2a3f5f",
             "gridcolor": "white",
             "linecolor": "white",
             "minorgridcolor": "white",
             "startlinecolor": "#2a3f5f"
            },
            "type": "carpet"
           }
          ],
          "choropleth": [
           {
            "colorbar": {
             "outlinewidth": 0,
             "ticks": ""
            },
            "type": "choropleth"
           }
          ],
          "contour": [
           {
            "colorbar": {
             "outlinewidth": 0,
             "ticks": ""
            },
            "colorscale": [
             [
              0,
              "#0d0887"
             ],
             [
              0.1111111111111111,
              "#46039f"
             ],
             [
              0.2222222222222222,
              "#7201a8"
             ],
             [
              0.3333333333333333,
              "#9c179e"
             ],
             [
              0.4444444444444444,
              "#bd3786"
             ],
             [
              0.5555555555555556,
              "#d8576b"
             ],
             [
              0.6666666666666666,
              "#ed7953"
             ],
             [
              0.7777777777777778,
              "#fb9f3a"
             ],
             [
              0.8888888888888888,
              "#fdca26"
             ],
             [
              1,
              "#f0f921"
             ]
            ],
            "type": "contour"
           }
          ],
          "contourcarpet": [
           {
            "colorbar": {
             "outlinewidth": 0,
             "ticks": ""
            },
            "type": "contourcarpet"
           }
          ],
          "heatmap": [
           {
            "colorbar": {
             "outlinewidth": 0,
             "ticks": ""
            },
            "colorscale": [
             [
              0,
              "#0d0887"
             ],
             [
              0.1111111111111111,
              "#46039f"
             ],
             [
              0.2222222222222222,
              "#7201a8"
             ],
             [
              0.3333333333333333,
              "#9c179e"
             ],
             [
              0.4444444444444444,
              "#bd3786"
             ],
             [
              0.5555555555555556,
              "#d8576b"
             ],
             [
              0.6666666666666666,
              "#ed7953"
             ],
             [
              0.7777777777777778,
              "#fb9f3a"
             ],
             [
              0.8888888888888888,
              "#fdca26"
             ],
             [
              1,
              "#f0f921"
             ]
            ],
            "type": "heatmap"
           }
          ],
          "heatmapgl": [
           {
            "colorbar": {
             "outlinewidth": 0,
             "ticks": ""
            },
            "colorscale": [
             [
              0,
              "#0d0887"
             ],
             [
              0.1111111111111111,
              "#46039f"
             ],
             [
              0.2222222222222222,
              "#7201a8"
             ],
             [
              0.3333333333333333,
              "#9c179e"
             ],
             [
              0.4444444444444444,
              "#bd3786"
             ],
             [
              0.5555555555555556,
              "#d8576b"
             ],
             [
              0.6666666666666666,
              "#ed7953"
             ],
             [
              0.7777777777777778,
              "#fb9f3a"
             ],
             [
              0.8888888888888888,
              "#fdca26"
             ],
             [
              1,
              "#f0f921"
             ]
            ],
            "type": "heatmapgl"
           }
          ],
          "histogram": [
           {
            "marker": {
             "pattern": {
              "fillmode": "overlay",
              "size": 10,
              "solidity": 0.2
             }
            },
            "type": "histogram"
           }
          ],
          "histogram2d": [
           {
            "colorbar": {
             "outlinewidth": 0,
             "ticks": ""
            },
            "colorscale": [
             [
              0,
              "#0d0887"
             ],
             [
              0.1111111111111111,
              "#46039f"
             ],
             [
              0.2222222222222222,
              "#7201a8"
             ],
             [
              0.3333333333333333,
              "#9c179e"
             ],
             [
              0.4444444444444444,
              "#bd3786"
             ],
             [
              0.5555555555555556,
              "#d8576b"
             ],
             [
              0.6666666666666666,
              "#ed7953"
             ],
             [
              0.7777777777777778,
              "#fb9f3a"
             ],
             [
              0.8888888888888888,
              "#fdca26"
             ],
             [
              1,
              "#f0f921"
             ]
            ],
            "type": "histogram2d"
           }
          ],
          "histogram2dcontour": [
           {
            "colorbar": {
             "outlinewidth": 0,
             "ticks": ""
            },
            "colorscale": [
             [
              0,
              "#0d0887"
             ],
             [
              0.1111111111111111,
              "#46039f"
             ],
             [
              0.2222222222222222,
              "#7201a8"
             ],
             [
              0.3333333333333333,
              "#9c179e"
             ],
             [
              0.4444444444444444,
              "#bd3786"
             ],
             [
              0.5555555555555556,
              "#d8576b"
             ],
             [
              0.6666666666666666,
              "#ed7953"
             ],
             [
              0.7777777777777778,
              "#fb9f3a"
             ],
             [
              0.8888888888888888,
              "#fdca26"
             ],
             [
              1,
              "#f0f921"
             ]
            ],
            "type": "histogram2dcontour"
           }
          ],
          "mesh3d": [
           {
            "colorbar": {
             "outlinewidth": 0,
             "ticks": ""
            },
            "type": "mesh3d"
           }
          ],
          "parcoords": [
           {
            "line": {
             "colorbar": {
              "outlinewidth": 0,
              "ticks": ""
             }
            },
            "type": "parcoords"
           }
          ],
          "pie": [
           {
            "automargin": true,
            "type": "pie"
           }
          ],
          "scatter": [
           {
            "fillpattern": {
             "fillmode": "overlay",
             "size": 10,
             "solidity": 0.2
            },
            "type": "scatter"
           }
          ],
          "scatter3d": [
           {
            "line": {
             "colorbar": {
              "outlinewidth": 0,
              "ticks": ""
             }
            },
            "marker": {
             "colorbar": {
              "outlinewidth": 0,
              "ticks": ""
             }
            },
            "type": "scatter3d"
           }
          ],
          "scattercarpet": [
           {
            "marker": {
             "colorbar": {
              "outlinewidth": 0,
              "ticks": ""
             }
            },
            "type": "scattercarpet"
           }
          ],
          "scattergeo": [
           {
            "marker": {
             "colorbar": {
              "outlinewidth": 0,
              "ticks": ""
             }
            },
            "type": "scattergeo"
           }
          ],
          "scattergl": [
           {
            "marker": {
             "colorbar": {
              "outlinewidth": 0,
              "ticks": ""
             }
            },
            "type": "scattergl"
           }
          ],
          "scattermapbox": [
           {
            "marker": {
             "colorbar": {
              "outlinewidth": 0,
              "ticks": ""
             }
            },
            "type": "scattermapbox"
           }
          ],
          "scatterpolar": [
           {
            "marker": {
             "colorbar": {
              "outlinewidth": 0,
              "ticks": ""
             }
            },
            "type": "scatterpolar"
           }
          ],
          "scatterpolargl": [
           {
            "marker": {
             "colorbar": {
              "outlinewidth": 0,
              "ticks": ""
             }
            },
            "type": "scatterpolargl"
           }
          ],
          "scatterternary": [
           {
            "marker": {
             "colorbar": {
              "outlinewidth": 0,
              "ticks": ""
             }
            },
            "type": "scatterternary"
           }
          ],
          "surface": [
           {
            "colorbar": {
             "outlinewidth": 0,
             "ticks": ""
            },
            "colorscale": [
             [
              0,
              "#0d0887"
             ],
             [
              0.1111111111111111,
              "#46039f"
             ],
             [
              0.2222222222222222,
              "#7201a8"
             ],
             [
              0.3333333333333333,
              "#9c179e"
             ],
             [
              0.4444444444444444,
              "#bd3786"
             ],
             [
              0.5555555555555556,
              "#d8576b"
             ],
             [
              0.6666666666666666,
              "#ed7953"
             ],
             [
              0.7777777777777778,
              "#fb9f3a"
             ],
             [
              0.8888888888888888,
              "#fdca26"
             ],
             [
              1,
              "#f0f921"
             ]
            ],
            "type": "surface"
           }
          ],
          "table": [
           {
            "cells": {
             "fill": {
              "color": "#EBF0F8"
             },
             "line": {
              "color": "white"
             }
            },
            "header": {
             "fill": {
              "color": "#C8D4E3"
             },
             "line": {
              "color": "white"
             }
            },
            "type": "table"
           }
          ]
         },
         "layout": {
          "annotationdefaults": {
           "arrowcolor": "#2a3f5f",
           "arrowhead": 0,
           "arrowwidth": 1
          },
          "autotypenumbers": "strict",
          "coloraxis": {
           "colorbar": {
            "outlinewidth": 0,
            "ticks": ""
           }
          },
          "colorscale": {
           "diverging": [
            [
             0,
             "#8e0152"
            ],
            [
             0.1,
             "#c51b7d"
            ],
            [
             0.2,
             "#de77ae"
            ],
            [
             0.3,
             "#f1b6da"
            ],
            [
             0.4,
             "#fde0ef"
            ],
            [
             0.5,
             "#f7f7f7"
            ],
            [
             0.6,
             "#e6f5d0"
            ],
            [
             0.7,
             "#b8e186"
            ],
            [
             0.8,
             "#7fbc41"
            ],
            [
             0.9,
             "#4d9221"
            ],
            [
             1,
             "#276419"
            ]
           ],
           "sequential": [
            [
             0,
             "#0d0887"
            ],
            [
             0.1111111111111111,
             "#46039f"
            ],
            [
             0.2222222222222222,
             "#7201a8"
            ],
            [
             0.3333333333333333,
             "#9c179e"
            ],
            [
             0.4444444444444444,
             "#bd3786"
            ],
            [
             0.5555555555555556,
             "#d8576b"
            ],
            [
             0.6666666666666666,
             "#ed7953"
            ],
            [
             0.7777777777777778,
             "#fb9f3a"
            ],
            [
             0.8888888888888888,
             "#fdca26"
            ],
            [
             1,
             "#f0f921"
            ]
           ],
           "sequentialminus": [
            [
             0,
             "#0d0887"
            ],
            [
             0.1111111111111111,
             "#46039f"
            ],
            [
             0.2222222222222222,
             "#7201a8"
            ],
            [
             0.3333333333333333,
             "#9c179e"
            ],
            [
             0.4444444444444444,
             "#bd3786"
            ],
            [
             0.5555555555555556,
             "#d8576b"
            ],
            [
             0.6666666666666666,
             "#ed7953"
            ],
            [
             0.7777777777777778,
             "#fb9f3a"
            ],
            [
             0.8888888888888888,
             "#fdca26"
            ],
            [
             1,
             "#f0f921"
            ]
           ]
          },
          "colorway": [
           "#636efa",
           "#EF553B",
           "#00cc96",
           "#ab63fa",
           "#FFA15A",
           "#19d3f3",
           "#FF6692",
           "#B6E880",
           "#FF97FF",
           "#FECB52"
          ],
          "font": {
           "color": "#2a3f5f"
          },
          "geo": {
           "bgcolor": "white",
           "lakecolor": "white",
           "landcolor": "#E5ECF6",
           "showlakes": true,
           "showland": true,
           "subunitcolor": "white"
          },
          "hoverlabel": {
           "align": "left"
          },
          "hovermode": "closest",
          "mapbox": {
           "style": "light"
          },
          "paper_bgcolor": "white",
          "plot_bgcolor": "#E5ECF6",
          "polar": {
           "angularaxis": {
            "gridcolor": "white",
            "linecolor": "white",
            "ticks": ""
           },
           "bgcolor": "#E5ECF6",
           "radialaxis": {
            "gridcolor": "white",
            "linecolor": "white",
            "ticks": ""
           }
          },
          "scene": {
           "xaxis": {
            "backgroundcolor": "#E5ECF6",
            "gridcolor": "white",
            "gridwidth": 2,
            "linecolor": "white",
            "showbackground": true,
            "ticks": "",
            "zerolinecolor": "white"
           },
           "yaxis": {
            "backgroundcolor": "#E5ECF6",
            "gridcolor": "white",
            "gridwidth": 2,
            "linecolor": "white",
            "showbackground": true,
            "ticks": "",
            "zerolinecolor": "white"
           },
           "zaxis": {
            "backgroundcolor": "#E5ECF6",
            "gridcolor": "white",
            "gridwidth": 2,
            "linecolor": "white",
            "showbackground": true,
            "ticks": "",
            "zerolinecolor": "white"
           }
          },
          "shapedefaults": {
           "line": {
            "color": "#2a3f5f"
           }
          },
          "ternary": {
           "aaxis": {
            "gridcolor": "white",
            "linecolor": "white",
            "ticks": ""
           },
           "baxis": {
            "gridcolor": "white",
            "linecolor": "white",
            "ticks": ""
           },
           "bgcolor": "#E5ECF6",
           "caxis": {
            "gridcolor": "white",
            "linecolor": "white",
            "ticks": ""
           }
          },
          "title": {
           "x": 0.05
          },
          "xaxis": {
           "automargin": true,
           "gridcolor": "white",
           "linecolor": "white",
           "ticks": "",
           "title": {
            "standoff": 15
           },
           "zerolinecolor": "white",
           "zerolinewidth": 2
          },
          "yaxis": {
           "automargin": true,
           "gridcolor": "white",
           "linecolor": "white",
           "ticks": "",
           "title": {
            "standoff": 15
           },
           "zerolinecolor": "white",
           "zerolinewidth": 2
          }
         }
        },
        "title": {
         "text": "Some stocks"
        },
        "xaxis": {
         "anchor": "y",
         "domain": [
          0,
          1
         ],
         "title": {
          "text": "Year"
         }
        },
        "yaxis": {
         "anchor": "x",
         "domain": [
          0,
          1
         ],
         "title": {
          "text": "Value $"
         },
         "type": "log"
        }
       }
      }
     },
     "metadata": {},
     "output_type": "display_data"
    }
   ],
   "source": [
    "import plotly_express as px\n",
    "\n",
    "# initial plot\n",
    "px.line(stocks, x=stocks.index, y=[\n",
    "        \"AAPL\", \"NVDA\", \"TSLA\", \"IBM\"],\n",
    "        labels={\"variable\": \"Stock\", \"index\": \"Year\", \"value\": \"Value $\"},\n",
    "        title=\"Some stocks\", log_y=True)\n"
   ]
  },
  {
   "cell_type": "markdown",
   "metadata": {},
   "source": [
    "<div style=\"max-width:66ch;\">\n",
    "\n",
    "## Working with time series\n",
    "\n",
    "A time series is a series of data points or observations recorded or measured in sequential order over time. Each data point is associated with a specific time, making time series data distinct from other types of data. Time series analysis involves studying the patterns, trends, and behaviors in the data over time.\n",
    "\n",
    "</div>"
   ]
  },
  {
   "cell_type": "code",
   "execution_count": null,
   "metadata": {},
   "outputs": [
    {
     "name": "stdout",
     "output_type": "stream",
     "text": [
      "object\n",
      "datetime64[ns]\n"
     ]
    },
    {
     "data": {
      "text/html": [
       "<div>\n",
       "<style scoped>\n",
       "    .dataframe tbody tr th:only-of-type {\n",
       "        vertical-align: middle;\n",
       "    }\n",
       "\n",
       "    .dataframe tbody tr th {\n",
       "        vertical-align: top;\n",
       "    }\n",
       "\n",
       "    .dataframe thead th {\n",
       "        text-align: right;\n",
       "    }\n",
       "</style>\n",
       "<table border=\"1\" class=\"dataframe\">\n",
       "  <thead>\n",
       "    <tr style=\"text-align: right;\">\n",
       "      <th></th>\n",
       "      <th>AAPL</th>\n",
       "      <th>NVDA</th>\n",
       "      <th>TSLA</th>\n",
       "      <th>IBM</th>\n",
       "    </tr>\n",
       "  </thead>\n",
       "  <tbody>\n",
       "    <tr>\n",
       "      <th>2024-03-15</th>\n",
       "      <td>172.62</td>\n",
       "      <td>878.365</td>\n",
       "      <td>163.57</td>\n",
       "      <td>191.07</td>\n",
       "    </tr>\n",
       "    <tr>\n",
       "      <th>2024-03-14</th>\n",
       "      <td>173.00</td>\n",
       "      <td>879.440</td>\n",
       "      <td>162.50</td>\n",
       "      <td>193.43</td>\n",
       "    </tr>\n",
       "    <tr>\n",
       "      <th>2024-03-13</th>\n",
       "      <td>171.13</td>\n",
       "      <td>908.880</td>\n",
       "      <td>169.48</td>\n",
       "      <td>196.70</td>\n",
       "    </tr>\n",
       "    <tr>\n",
       "      <th>2024-03-12</th>\n",
       "      <td>173.23</td>\n",
       "      <td>919.130</td>\n",
       "      <td>177.54</td>\n",
       "      <td>197.78</td>\n",
       "    </tr>\n",
       "    <tr>\n",
       "      <th>2024-03-11</th>\n",
       "      <td>172.75</td>\n",
       "      <td>857.740</td>\n",
       "      <td>177.77</td>\n",
       "      <td>191.73</td>\n",
       "    </tr>\n",
       "  </tbody>\n",
       "</table>\n",
       "</div>"
      ],
      "text/plain": [
       "              AAPL     NVDA    TSLA     IBM\n",
       "2024-03-15  172.62  878.365  163.57  191.07\n",
       "2024-03-14  173.00  879.440  162.50  193.43\n",
       "2024-03-13  171.13  908.880  169.48  196.70\n",
       "2024-03-12  173.23  919.130  177.54  197.78\n",
       "2024-03-11  172.75  857.740  177.77  191.73"
      ]
     },
     "execution_count": 4,
     "metadata": {},
     "output_type": "execute_result"
    }
   ],
   "source": [
    "print(stocks.index.dtype)\n",
    "# type cast index from object to datetime\n",
    "stocks.index = pd.to_datetime(stocks.index)\n",
    "print(stocks.index.dtype)\n",
    "stocks.head()\n"
   ]
  },
  {
   "cell_type": "code",
   "execution_count": null,
   "metadata": {},
   "outputs": [
    {
     "data": {
      "text/plain": [
       "AAPL    191.24\n",
       "NVDA    467.65\n",
       "TSLA    238.83\n",
       "IBM     160.55\n",
       "Name: 2023-12-01 00:00:00, dtype: float64"
      ]
     },
     "execution_count": 5,
     "metadata": {},
     "output_type": "execute_result"
    }
   ],
   "source": [
    "stocks.loc[\"2023-12-01\"]  # gives all data where year is 2020\n"
   ]
  },
  {
   "cell_type": "code",
   "execution_count": null,
   "metadata": {},
   "outputs": [
    {
     "data": {
      "text/html": [
       "<div>\n",
       "<style scoped>\n",
       "    .dataframe tbody tr th:only-of-type {\n",
       "        vertical-align: middle;\n",
       "    }\n",
       "\n",
       "    .dataframe tbody tr th {\n",
       "        vertical-align: top;\n",
       "    }\n",
       "\n",
       "    .dataframe thead th {\n",
       "        text-align: right;\n",
       "    }\n",
       "</style>\n",
       "<table border=\"1\" class=\"dataframe\">\n",
       "  <thead>\n",
       "    <tr style=\"text-align: right;\">\n",
       "      <th></th>\n",
       "      <th>AAPL</th>\n",
       "      <th>NVDA</th>\n",
       "      <th>TSLA</th>\n",
       "      <th>IBM</th>\n",
       "    </tr>\n",
       "  </thead>\n",
       "  <tbody>\n",
       "    <tr>\n",
       "      <th>2023-11-15</th>\n",
       "      <td>188.01</td>\n",
       "      <td>488.88</td>\n",
       "      <td>242.84</td>\n",
       "      <td>152.58</td>\n",
       "    </tr>\n",
       "    <tr>\n",
       "      <th>2023-11-16</th>\n",
       "      <td>189.71</td>\n",
       "      <td>494.80</td>\n",
       "      <td>233.59</td>\n",
       "      <td>153.06</td>\n",
       "    </tr>\n",
       "    <tr>\n",
       "      <th>2023-11-17</th>\n",
       "      <td>189.69</td>\n",
       "      <td>492.98</td>\n",
       "      <td>234.30</td>\n",
       "      <td>152.89</td>\n",
       "    </tr>\n",
       "    <tr>\n",
       "      <th>2023-11-20</th>\n",
       "      <td>191.45</td>\n",
       "      <td>504.09</td>\n",
       "      <td>235.60</td>\n",
       "      <td>154.35</td>\n",
       "    </tr>\n",
       "    <tr>\n",
       "      <th>2023-11-21</th>\n",
       "      <td>190.64</td>\n",
       "      <td>499.44</td>\n",
       "      <td>241.20</td>\n",
       "      <td>153.91</td>\n",
       "    </tr>\n",
       "    <tr>\n",
       "      <th>2023-11-22</th>\n",
       "      <td>191.31</td>\n",
       "      <td>487.16</td>\n",
       "      <td>234.21</td>\n",
       "      <td>155.13</td>\n",
       "    </tr>\n",
       "    <tr>\n",
       "      <th>2023-11-24</th>\n",
       "      <td>189.97</td>\n",
       "      <td>477.76</td>\n",
       "      <td>235.45</td>\n",
       "      <td>155.18</td>\n",
       "    </tr>\n",
       "    <tr>\n",
       "      <th>2023-11-27</th>\n",
       "      <td>189.79</td>\n",
       "      <td>482.42</td>\n",
       "      <td>236.08</td>\n",
       "      <td>155.57</td>\n",
       "    </tr>\n",
       "    <tr>\n",
       "      <th>2023-11-28</th>\n",
       "      <td>190.40</td>\n",
       "      <td>478.21</td>\n",
       "      <td>246.72</td>\n",
       "      <td>155.65</td>\n",
       "    </tr>\n",
       "    <tr>\n",
       "      <th>2023-11-29</th>\n",
       "      <td>189.37</td>\n",
       "      <td>481.40</td>\n",
       "      <td>244.14</td>\n",
       "      <td>156.41</td>\n",
       "    </tr>\n",
       "    <tr>\n",
       "      <th>2023-11-30</th>\n",
       "      <td>189.95</td>\n",
       "      <td>467.70</td>\n",
       "      <td>240.08</td>\n",
       "      <td>158.56</td>\n",
       "    </tr>\n",
       "    <tr>\n",
       "      <th>2023-12-01</th>\n",
       "      <td>191.24</td>\n",
       "      <td>467.65</td>\n",
       "      <td>238.83</td>\n",
       "      <td>160.55</td>\n",
       "    </tr>\n",
       "    <tr>\n",
       "      <th>2023-12-04</th>\n",
       "      <td>189.43</td>\n",
       "      <td>455.10</td>\n",
       "      <td>235.58</td>\n",
       "      <td>161.10</td>\n",
       "    </tr>\n",
       "    <tr>\n",
       "      <th>2023-12-05</th>\n",
       "      <td>193.42</td>\n",
       "      <td>465.66</td>\n",
       "      <td>238.72</td>\n",
       "      <td>161.39</td>\n",
       "    </tr>\n",
       "    <tr>\n",
       "      <th>2023-12-06</th>\n",
       "      <td>192.32</td>\n",
       "      <td>455.03</td>\n",
       "      <td>239.37</td>\n",
       "      <td>160.28</td>\n",
       "    </tr>\n",
       "    <tr>\n",
       "      <th>2023-12-07</th>\n",
       "      <td>194.27</td>\n",
       "      <td>465.96</td>\n",
       "      <td>242.64</td>\n",
       "      <td>160.22</td>\n",
       "    </tr>\n",
       "    <tr>\n",
       "      <th>2023-12-08</th>\n",
       "      <td>195.71</td>\n",
       "      <td>475.06</td>\n",
       "      <td>243.84</td>\n",
       "      <td>161.96</td>\n",
       "    </tr>\n",
       "    <tr>\n",
       "      <th>2023-12-11</th>\n",
       "      <td>193.18</td>\n",
       "      <td>466.27</td>\n",
       "      <td>239.74</td>\n",
       "      <td>163.51</td>\n",
       "    </tr>\n",
       "    <tr>\n",
       "      <th>2023-12-12</th>\n",
       "      <td>194.71</td>\n",
       "      <td>476.57</td>\n",
       "      <td>237.01</td>\n",
       "      <td>164.71</td>\n",
       "    </tr>\n",
       "    <tr>\n",
       "      <th>2023-12-13</th>\n",
       "      <td>197.96</td>\n",
       "      <td>480.88</td>\n",
       "      <td>239.29</td>\n",
       "      <td>163.62</td>\n",
       "    </tr>\n",
       "    <tr>\n",
       "      <th>2023-12-14</th>\n",
       "      <td>198.11</td>\n",
       "      <td>483.50</td>\n",
       "      <td>251.05</td>\n",
       "      <td>162.91</td>\n",
       "    </tr>\n",
       "    <tr>\n",
       "      <th>2023-12-15</th>\n",
       "      <td>197.57</td>\n",
       "      <td>488.90</td>\n",
       "      <td>253.50</td>\n",
       "      <td>162.23</td>\n",
       "    </tr>\n",
       "    <tr>\n",
       "      <th>2023-12-18</th>\n",
       "      <td>195.89</td>\n",
       "      <td>500.77</td>\n",
       "      <td>252.08</td>\n",
       "      <td>162.74</td>\n",
       "    </tr>\n",
       "    <tr>\n",
       "      <th>2023-12-19</th>\n",
       "      <td>196.94</td>\n",
       "      <td>496.04</td>\n",
       "      <td>257.22</td>\n",
       "      <td>161.56</td>\n",
       "    </tr>\n",
       "    <tr>\n",
       "      <th>2023-12-20</th>\n",
       "      <td>194.83</td>\n",
       "      <td>481.11</td>\n",
       "      <td>247.14</td>\n",
       "      <td>160.05</td>\n",
       "    </tr>\n",
       "    <tr>\n",
       "      <th>2023-12-21</th>\n",
       "      <td>194.68</td>\n",
       "      <td>489.90</td>\n",
       "      <td>254.50</td>\n",
       "      <td>160.78</td>\n",
       "    </tr>\n",
       "    <tr>\n",
       "      <th>2023-12-22</th>\n",
       "      <td>193.60</td>\n",
       "      <td>488.30</td>\n",
       "      <td>252.54</td>\n",
       "      <td>162.14</td>\n",
       "    </tr>\n",
       "    <tr>\n",
       "      <th>2023-12-26</th>\n",
       "      <td>193.05</td>\n",
       "      <td>492.79</td>\n",
       "      <td>256.61</td>\n",
       "      <td>163.21</td>\n",
       "    </tr>\n",
       "    <tr>\n",
       "      <th>2023-12-27</th>\n",
       "      <td>193.15</td>\n",
       "      <td>494.17</td>\n",
       "      <td>261.44</td>\n",
       "      <td>163.46</td>\n",
       "    </tr>\n",
       "    <tr>\n",
       "      <th>2023-12-28</th>\n",
       "      <td>193.58</td>\n",
       "      <td>495.22</td>\n",
       "      <td>253.18</td>\n",
       "      <td>163.75</td>\n",
       "    </tr>\n",
       "    <tr>\n",
       "      <th>2023-12-29</th>\n",
       "      <td>192.53</td>\n",
       "      <td>495.22</td>\n",
       "      <td>248.48</td>\n",
       "      <td>163.55</td>\n",
       "    </tr>\n",
       "  </tbody>\n",
       "</table>\n",
       "</div>"
      ],
      "text/plain": [
       "              AAPL    NVDA    TSLA     IBM\n",
       "2023-11-15  188.01  488.88  242.84  152.58\n",
       "2023-11-16  189.71  494.80  233.59  153.06\n",
       "2023-11-17  189.69  492.98  234.30  152.89\n",
       "2023-11-20  191.45  504.09  235.60  154.35\n",
       "2023-11-21  190.64  499.44  241.20  153.91\n",
       "2023-11-22  191.31  487.16  234.21  155.13\n",
       "2023-11-24  189.97  477.76  235.45  155.18\n",
       "2023-11-27  189.79  482.42  236.08  155.57\n",
       "2023-11-28  190.40  478.21  246.72  155.65\n",
       "2023-11-29  189.37  481.40  244.14  156.41\n",
       "2023-11-30  189.95  467.70  240.08  158.56\n",
       "2023-12-01  191.24  467.65  238.83  160.55\n",
       "2023-12-04  189.43  455.10  235.58  161.10\n",
       "2023-12-05  193.42  465.66  238.72  161.39\n",
       "2023-12-06  192.32  455.03  239.37  160.28\n",
       "2023-12-07  194.27  465.96  242.64  160.22\n",
       "2023-12-08  195.71  475.06  243.84  161.96\n",
       "2023-12-11  193.18  466.27  239.74  163.51\n",
       "2023-12-12  194.71  476.57  237.01  164.71\n",
       "2023-12-13  197.96  480.88  239.29  163.62\n",
       "2023-12-14  198.11  483.50  251.05  162.91\n",
       "2023-12-15  197.57  488.90  253.50  162.23\n",
       "2023-12-18  195.89  500.77  252.08  162.74\n",
       "2023-12-19  196.94  496.04  257.22  161.56\n",
       "2023-12-20  194.83  481.11  247.14  160.05\n",
       "2023-12-21  194.68  489.90  254.50  160.78\n",
       "2023-12-22  193.60  488.30  252.54  162.14\n",
       "2023-12-26  193.05  492.79  256.61  163.21\n",
       "2023-12-27  193.15  494.17  261.44  163.46\n",
       "2023-12-28  193.58  495.22  253.18  163.75\n",
       "2023-12-29  192.53  495.22  248.48  163.55"
      ]
     },
     "execution_count": 6,
     "metadata": {},
     "output_type": "execute_result"
    }
   ],
   "source": [
    "# gives all rows between these dates\n",
    "stocks.sort_index().loc[\"2023-11-15\":\"2023-12\"]  "
   ]
  },
  {
   "cell_type": "markdown",
   "metadata": {},
   "source": [
    "<div style=\"max-width:66ch;\">\n",
    "\n",
    "## Plot 4 stocks in subplots\n",
    "\n",
    "</div>"
   ]
  },
  {
   "cell_type": "code",
   "execution_count": null,
   "metadata": {},
   "outputs": [
    {
     "name": "stdout",
     "output_type": "stream",
     "text": [
      "array([[<Axes: >, <Axes: >],\n",
      "       [<Axes: >, <Axes: >]], dtype=object)\n",
      "array([<Axes: >, <Axes: >, <Axes: >, <Axes: >], dtype=object)\n"
     ]
    },
    {
     "data": {
      "text/plain": [
       "Text(0.5, 1.03, 'Stocks during 2023 mid-july until beginning of december')"
      ]
     },
     "execution_count": 7,
     "metadata": {},
     "output_type": "execute_result"
    },
    {
     "data": {
      "image/png": "[encoded data removed]",
      "text/plain": [
       "<Figure size 1200x600 with 4 Axes>"
      ]
     },
     "metadata": {},
     "output_type": "display_data"
    }
   ],
   "source": [
    "import seaborn as sns\n",
    "import matplotlib.pyplot as plt\n",
    "\n",
    "fig, axes = plt.subplots(2, 2, dpi=100, figsize=(12, 6))\n",
    "\n",
    "# 2D array -> 2D array has a method flatten() to create a numpy flattened array\n",
    "print(repr(axes))\n",
    "print(repr(axes.flatten()))\n",
    "\n",
    "stock_names = {\"AAPL\": \"Apple\", \"NVDA\": \"Nvidia\", \"TSLA\": \"Tesla\", \"IBM\": \"IBM\"}\n",
    "\n",
    "stocks_2023 = stocks.loc[\"2023\"]\n",
    "\n",
    "for ax, symbol in zip(axes.flatten(), stock_names):\n",
    "    sns.lineplot(data=stocks_2023, x=stocks_2023.index, y=symbol, ax=ax)\n",
    "    ax.tick_params(axis=\"x\", rotation=45)\n",
    "    ax.set(title=f\"{stock_names[symbol]}\", ylabel=\"Price ($)\")\n",
    "    # ax.grid()\n",
    "\n",
    "fig.tight_layout()\n",
    "fig.suptitle(\n",
    "    \"Stocks during 2023 mid-july until beginning of december\", y=1.03, fontweight=\"bold\"\n",
    ")"
   ]
  },
  {
   "cell_type": "markdown",
   "metadata": {},
   "source": [
    "<div style=\"max-width:66ch;\">\n",
    "\n",
    "## Summary\n",
    "\n",
    "In this lecture we've worked with a web API and time series data. Also we've gone through environment file .env to store your secrets, in this case an API-key. Note that it's important to check that your .gitignore involves .env so that it doesn't accidentally get into a repository so that others can use your secrets.\n",
    "\n",
    "</div>"
   ]
  },
  {
   "cell_type": "markdown",
   "metadata": {},
   "source": [
    "<div style=\"background-color: #FFF; color: #212121; border-radius: 1px; width:22ch; box-shadow: rgba(0, 0, 0, 0.16) 0px 1px 4px; display: flex; justify-content: center; align-items: center;\">\n",
    "<div style=\"padding: 1.5em 0; width: 70%;\">\n",
    "    <h2 style=\"font-size: 1.2rem;\">Kokchun Giang</h2>\n",
    "    <a href=\"https://www.linkedin.com/in/kokchungiang/\" target=\"_blank\" style=\"display: flex; align-items: center; gap: .4em; color:#0A66C2;\">\n",
    "        <img src=\"https://content.linkedin.com/content/dam/me/business/en-us/amp/brand-site/v2/bg/LI-Bug.svg.original.svg\" width=\"20\"> \n",
    "        LinkedIn profile\n",
    "    </a>\n",
    "    <a href=\"https://github.com/kokchun/Portfolio-Kokchun-Giang\" target=\"_blank\" style=\"display: flex; align-items: center; gap: .4em; margin: 1em 0; color:#0A66C2;\">\n",
    "        <img src=\"https://github.githubassets.com/images/modules/logos_page/GitHub-Mark.png\" width=\"20\"> \n",
    "        Github portfolio\n",
    "    </a>\n",
    "    <span>AIgineer AB</span>\n",
    "<div>\n",
    "</div>\n"
   ]
  }
 ],
 "metadata": {
  "kernelspec": {
   "display_name": "ai-part-1-handelsakademin-5RQamIMR-py3.9",
   "language": "python",
   "name": "python3"
  },
  "language_info": {
   "codemirror_mode": {
    "name": "ipython",
    "version": 3
   },
   "file_extension": ".py",
   "mimetype": "text/x-python",
   "name": "python",
   "nbconvert_exporter": "python",
   "pygments_lexer": "ipython3",
   "version": "3.11.7"
  },
  "orig_nbformat": 4
 },
 "nbformat": 4,
 "nbformat_minor": 2
}
