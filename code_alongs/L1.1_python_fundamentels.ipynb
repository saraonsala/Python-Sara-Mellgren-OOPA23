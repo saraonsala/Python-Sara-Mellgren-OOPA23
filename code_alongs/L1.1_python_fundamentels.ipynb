{
 "cells": [
  {
   "cell_type": "markdown",
   "metadata": {},
   "source": [
    "Python fundamentals continued"
   ]
  },
  {
   "cell_type": "markdown",
   "metadata": {},
   "source": [
    "## If-statements \n",
    "\n",
    "* if\n",
    "* if -else\n",
    "* if - elif - el osv..\n"
   ]
  },
  {
   "cell_type": "code",
   "execution_count": null,
   "metadata": {},
   "outputs": [],
   "source": [
    "accuratcy = .7\n",
    "\n",
    "if accuratcy > .9:\n",
    "    model_preformance = \"Good\"\n",
    "elif accuratcy > .5:\n",
    "    model_preformance = \"Moderate\"\n",
    "else:\n",
    "    model_preformance = \"Bad\"\n",
    "\n",
    "print(\"Accuray levels i {accuray}, which is a {model_prefomance.}\")"
   ]
  },
  {
   "cell_type": "markdown",
   "metadata": {},
   "source": [
    "While statement\n",
    "* - \"if-loop\"\n"
   ]
  },
  {
   "cell_type": "markdown",
   "metadata": {},
   "source": [
    "Exempel oli leakage\n",
    "There is an oil leakage causing the bird population in an island to 1/2 in each year. From start there were 80000 birds, how many years does it take for it to have 1/10 remaining?"
   ]
  },
  {
   "cell_type": "code",
   "execution_count": 9,
   "metadata": {},
   "outputs": [
    {
     "name": "stdout",
     "output_type": "stream",
     "text": [
      "Year 0 there were 80000 birds\n",
      "Year 1 there were 40000 birds\n",
      "Year 2 there were 20000 birds\n",
      "Year 3 there were 10000 birds\n",
      "It takes 4 years for the birds to have 1/10 remaining\n"
     ]
    }
   ],
   "source": [
    "birds = 80000\n",
    "year = 0\n",
    "\n",
    "while birds > 8000:\n",
    "    print(f\"Year {year} there were {birds:.0f} birds\")\n",
    "    #assaigment operator\n",
    "    birds /= 2 #birds = birds / 2\n",
    "    year += 1 # year = year +1\n",
    "\n",
    "print(f\"It takes {year} years for the birds to have 1/10 remaining\")\n",
    "        "
   ]
  },
  {
   "cell_type": "markdown",
   "metadata": {},
   "source": [
    "For statements"
   ]
  },
  {
   "cell_type": "markdown",
   "metadata": {},
   "source": [
    "\n",
    "* iterative control structure\n",
    "* iterates over a sequence (list, tuple, string, range, ...)\n",
    "* typically used when you know number of * * iterations beforehand"
   ]
  },
  {
   "cell_type": "code",
   "execution_count": 11,
   "metadata": {},
   "outputs": [
    {
     "name": "stdout",
     "output_type": "stream",
     "text": [
      "K-means\n",
      "PCA\n",
      "GMM\n"
     ]
    }
   ],
   "source": [
    "unsupervised_abbreviations = [\"K-means\", \"PCA\", \"GMM\"]\n",
    "unsupervised_algorithms = [\"K-Means Clustring\", \"Principal Component Analysis\", \"Gaussian Mixture Model\"]\n",
    "for abbreviations in unsupervised_abbreviations:\n",
    "    print(abbreviations)\n"
   ]
  },
  {
   "cell_type": "markdown",
   "metadata": {},
   "source": [
    "Dictionery "
   ]
  }
 ],
 "metadata": {
  "kernelspec": {
   "display_name": "venv",
   "language": "python",
   "name": "python3"
  },
  "language_info": {
   "codemirror_mode": {
    "name": "ipython",
    "version": 3
   },
   "file_extension": ".py",
   "mimetype": "text/x-python",
   "name": "python",
   "nbconvert_exporter": "python",
   "pygments_lexer": "ipython3",
   "version": "3.11.7"
  }
 },
 "nbformat": 4,
 "nbformat_minor": 2
}
