{
 "cells": [
  {
   "cell_type": "code",
   "execution_count": null,
   "metadata": {},
   "outputs": [],
   "source": []
  },
  {
   "cell_type": "markdown",
   "metadata": {},
   "source": [
    "## OOP fundamentals"
   ]
  },
  {
   "cell_type": "code",
   "execution_count": 10,
   "metadata": {},
   "outputs": [
    {
     "name": "stdout",
     "output_type": "stream",
     "text": [
      "Dunder init running\n"
     ]
    },
    {
     "data": {
      "text/plain": [
       "<__main__.Antagning at 0x24d96fa5fd0>"
      ]
     },
     "execution_count": 10,
     "metadata": {},
     "output_type": "execute_result"
    }
   ],
   "source": [
    "class Antagning:\n",
    "    # dunder init (special method) marked by double underscores on either side\n",
    "    def __init__(self, school, program, name, accept):\n",
    "        print(\"Dunder init running\")\n",
    "        self.school = school\n",
    "        self.program = program\n",
    "        self.name = name \n",
    "        self.accept = accept \n",
    "\n",
    "# instantiated an instance from the class Antagning and assigned it to student1 variable\n",
    "student1 = Antagning(\"Handelsakademin\", \"AI\", \"Gore Bord\", True)\n",
    "student1   "
   ]
  },
  {
   "cell_type": "code",
   "execution_count": 11,
   "metadata": {},
   "outputs": [
    {
     "data": {
      "text/plain": [
       "('Gore Bord', True)"
      ]
     },
     "execution_count": 11,
     "metadata": {},
     "output_type": "execute_result"
    }
   ],
   "source": [
    "student1.name, student1.accept"
   ]
  },
  {
   "cell_type": "code",
   "execution_count": 12,
   "metadata": {},
   "outputs": [
    {
     "data": {
      "text/plain": [
       "'Javascript developer'"
      ]
     },
     "execution_count": 12,
     "metadata": {},
     "output_type": "execute_result"
    }
   ],
   "source": [
    "\n",
    "# changed the state\n",
    "student1.program = \"Javascript developer\"\n",
    "student1.program"
   ]
  },
  {
   "cell_type": "code",
   "execution_count": 13,
   "metadata": {},
   "outputs": [
    {
     "name": "stdout",
     "output_type": "stream",
     "text": [
      "Dunder init running\n"
     ]
    },
    {
     "data": {
      "text/plain": [
       "<__main__.Antagning at 0x24d97612350>"
      ]
     },
     "execution_count": 13,
     "metadata": {},
     "output_type": "execute_result"
    }
   ],
   "source": [
    "\n",
    "student2 = Antagning(\"Handelsakademin\", \"UX\",\"Bella\", False)\n",
    "student2"
   ]
  },
  {
   "cell_type": "code",
   "execution_count": 15,
   "metadata": {},
   "outputs": [
    {
     "name": "stdout",
     "output_type": "stream",
     "text": [
      "Dunder init running\n"
     ]
    },
    {
     "data": {
      "text/plain": [
       "<__main__.Antagning at 0x24d975d2f10>"
      ]
     },
     "execution_count": 15,
     "metadata": {},
     "output_type": "execute_result"
    }
   ],
   "source": [
    "student3 = Antagning(\"Handelsakademin\", \"UX\",3213, 4545454)\n",
    "student3"
   ]
  },
  {
   "cell_type": "markdown",
   "metadata": {},
   "source": [
    "## _repr_\n"
   ]
  },
  {
   "cell_type": "code",
   "execution_count": 16,
   "metadata": {},
   "outputs": [
    {
     "name": "stdout",
     "output_type": "stream",
     "text": [
      "Dunder init running\n"
     ]
    },
    {
     "data": {
      "text/plain": [
       "Antagning(school='Handelsakademin', program='UX', name='Bella', accept=False)"
      ]
     },
     "execution_count": 16,
     "metadata": {},
     "output_type": "execute_result"
    }
   ],
   "source": [
    "from typing import Self\n",
    "\n",
    "\n",
    "class Antagning:\n",
    "    # dunder init (special method) marked by double underscores on either side\n",
    "    def __init__(self, school, program, name, accept):\n",
    "        print(\"Dunder init running\")\n",
    "        self.school = school\n",
    "        self.program = program\n",
    "        self.name = name \n",
    "        self.accept = accept \n",
    "\n",
    "    def __repr__(self) -> str:\n",
    "        return f\"Antagning(school='{self.school}', program='{self.program}', name='{self.name}', accept={self.accept})\"\n",
    "\n",
    "\n",
    "Antagning(\"Handelsakademin\", \"UX\", \"Bella\", False)"
   ]
  },
  {
   "cell_type": "markdown",
   "metadata": {},
   "source": [
    "## Encapsulation"
   ]
  },
  {
   "cell_type": "code",
   "execution_count": 20,
   "metadata": {},
   "outputs": [
    {
     "data": {
      "text/plain": [
       "Patient('Bella', 'conjunctivites')"
      ]
     },
     "execution_count": 20,
     "metadata": {},
     "output_type": "execute_result"
    }
   ],
   "source": [
    "\n",
    "class Patient:\n",
    "    def __init__(self, name, diagnosis) -> None:\n",
    "        self._name = name\n",
    "        self.__diagnosis = diagnosis\n",
    "\n",
    "    def __repr__(self):\n",
    "        return f\"Patient('{self._name}', '{self.__diagnosis}')\"\n",
    "    \n",
    "patient1 = Patient(\"Bella\", \"conjunctivites\")\n",
    "\n",
    "patient1"
   ]
  },
  {
   "cell_type": "code",
   "execution_count": 21,
   "metadata": {},
   "outputs": [
    {
     "data": {
      "text/plain": [
       "'Bella'"
      ]
     },
     "execution_count": 21,
     "metadata": {},
     "output_type": "execute_result"
    }
   ],
   "source": [
    "# we can access \"private\" attributes, but shouldn't\n",
    "patient1._name"
   ]
  },
  {
   "cell_type": "code",
   "execution_count": 22,
   "metadata": {},
   "outputs": [
    {
     "data": {
      "text/plain": [
       "'Bella'"
      ]
     },
     "execution_count": 22,
     "metadata": {},
     "output_type": "execute_result"
    }
   ],
   "source": [
    "# we can access \"private\" attributes, but shouldn't\n",
    "patient1._name"
   ]
  },
  {
   "cell_type": "code",
   "execution_count": 23,
   "metadata": {},
   "outputs": [
    {
     "data": {
      "text/plain": [
       "{'_name': 'Bella', '_Patient__diagnosis': 'conjunctivites'}"
      ]
     },
     "execution_count": 23,
     "metadata": {},
     "output_type": "execute_result"
    }
   ],
   "source": [
    "\n",
    "patient1.__dict__"
   ]
  },
  {
   "cell_type": "code",
   "execution_count": 24,
   "metadata": {},
   "outputs": [
    {
     "data": {
      "text/plain": [
       "'conjunctivites'"
      ]
     },
     "execution_count": 24,
     "metadata": {},
     "output_type": "execute_result"
    }
   ],
   "source": [
    "patient1._Patient__diagnosis"
   ]
  },
  {
   "cell_type": "code",
   "execution_count": null,
   "metadata": {},
   "outputs": [],
   "source": []
  },
  {
   "cell_type": "markdown",
   "metadata": {},
   "source": [
    "## Large exempel"
   ]
  },
  {
   "cell_type": "code",
   "execution_count": 27,
   "metadata": {},
   "outputs": [
    {
     "name": "stdout",
     "output_type": "stream",
     "text": [
      "Coins in stash: 100 riksdaler, 60 skilling\n",
      "Coins in stash: 70 riksdaler, 40 skilling\n"
     ]
    }
   ],
   "source": [
    "from numbers import Number\n",
    "\n",
    "class OldCoinStash:\n",
    "    def __init__(self, owner: str) -> None:\n",
    "        self.owner = owner\n",
    "\n",
    "        # private\n",
    "        self._riksdaler = 0\n",
    "        self._skilling = 0\n",
    "\n",
    "    def deposit(self, riksdaler, skilling):\n",
    "        if not isinstance(riksdaler, Number) or not isinstance(skilling, Number):\n",
    "            raise TypeError(f\"riksdaler and skilling must be a number\")\n",
    "\n",
    "\n",
    "    def withdraw(self, riksdaler, skilling):\n",
    "        # left for the reader\n",
    "        # do type checking and value checking\n",
    "\n",
    "        self._riksdaler -= riksdaler\n",
    "        self._skilling -= skilling\n",
    "\n",
    "    def check_balance(self):\n",
    "        print(f\"Coins in stash: {self._riksdaler} riksdaler, {self._skilling} skilling\")\n",
    "\n",
    "\n",
    "stash1 = OldCoinStash(\"Ragnar Lothbroke\")\n",
    "stash1.deposit(50,30)\n",
    "stash1.deposit(50,30)\n",
    "stash1.check_balance()\n",
    "\n",
    "stash1.withdraw(30,20)\n",
    "stash1.check_balance()"
   ]
  }
 ],
 "metadata": {
  "kernelspec": {
   "display_name": "venv",
   "language": "python",
   "name": "python3"
  },
  "language_info": {
   "codemirror_mode": {
    "name": "ipython",
    "version": 3
   },
   "file_extension": ".py",
   "mimetype": "text/x-python",
   "name": "python",
   "nbconvert_exporter": "python",
   "pygments_lexer": "ipython3",
   "version": "3.11.7"
  }
 },
 "nbformat": 4,
 "nbformat_minor": 2
}
